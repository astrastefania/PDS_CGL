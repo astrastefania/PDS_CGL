{
 "cells": [
  {
   "cell_type": "markdown",
   "metadata": {
    "id": "LXLTWwJEIU6j"
   },
   "source": [
    "# Introduzione a Python e Data Science al corso Gnu/Linux\n",
    "by Stefania Delprete  \n",
    "EA Italy ([Altruismo Efficace](https://altruismoefficace.it)), EA Data Science/ML/AI  \n",
    "✉️ [astrastefania@gmail.com](mailto:twitter.com/astrastefania) \n",
    "👥 [linkedin.com/in/astrastefania](https://www.linkedin.com/in/astrastefania)  \n",
    "\n",
    "---\n",
    "\n",
    "## Esercitazione (con soluzioni)\n",
    "\n",
    "---"
   ]
  },
  {
   "cell_type": "markdown",
   "metadata": {
    "id": "90bn24UZRLc6"
   },
   "source": [
    "\n",
    "## Concetti di Python\n",
    "\n"
   ]
  },
  {
   "cell_type": "markdown",
   "metadata": {
    "id": "pclmiDjFRLfi"
   },
   "source": [
    "#### 1. Elenca almeno tre caratteristiche fondamentali di *Python* (elenco numerato)\n",
    "\n",
    "1. Interpretato\n",
    "2. Alto livello\n",
    "3. Multi-paradigama (comprende programmazione ad oggetti)\n",
    "\n",
    "\n"
   ]
  },
  {
   "cell_type": "markdown",
   "metadata": {
    "id": "ex_Sfl3ORLii"
   },
   "source": [
    "#### 2. Quali due comandi puoi usare per avere informazioni di oggetti (tutti i metodi disponibili) e funzioni definite (per vederne la documentazione)? \n",
    "\n",
    "1. `help()`\n",
    "2. `dir()`\n",
    "\n"
   ]
  },
  {
   "cell_type": "code",
   "execution_count": 1,
   "metadata": {
    "colab": {
     "base_uri": "https://localhost:8080/"
    },
    "id": "MunK-H0bJLst",
    "outputId": "db9c6b7b-f763-40a2-df8f-546cdf0510a8"
   },
   "outputs": [
    {
     "name": "stdout",
     "output_type": "stream",
     "text": [
      "Help on method_descriptor:\n",
      "\n",
      "split(self, /, sep=None, maxsplit=-1)\n",
      "    Return a list of the words in the string, using sep as the delimiter string.\n",
      "    \n",
      "    sep\n",
      "      The delimiter according which to split the string.\n",
      "      None (the default value) means split according to any whitespace,\n",
      "      and discard empty strings from the result.\n",
      "    maxsplit\n",
      "      Maximum number of splits to do.\n",
      "      -1 (the default value) means no limit.\n",
      "\n"
     ]
    }
   ],
   "source": [
    "# ESEMPIO\n",
    "\n",
    "help(str.split)"
   ]
  },
  {
   "cell_type": "code",
   "execution_count": 2,
   "metadata": {
    "colab": {
     "base_uri": "https://localhost:8080/"
    },
    "id": "CCYPJaxBJLvn",
    "outputId": "8cfe3352-6901-4ee9-dcf8-6c8b1384cdca"
   },
   "outputs": [
    {
     "data": {
      "text/plain": [
       "['__add__',\n",
       " '__class__',\n",
       " '__contains__',\n",
       " '__delattr__',\n",
       " '__delitem__',\n",
       " '__dir__',\n",
       " '__doc__',\n",
       " '__eq__',\n",
       " '__format__',\n",
       " '__ge__',\n",
       " '__getattribute__',\n",
       " '__getitem__',\n",
       " '__gt__',\n",
       " '__hash__',\n",
       " '__iadd__',\n",
       " '__imul__',\n",
       " '__init__',\n",
       " '__init_subclass__',\n",
       " '__iter__',\n",
       " '__le__',\n",
       " '__len__',\n",
       " '__lt__',\n",
       " '__mul__',\n",
       " '__ne__',\n",
       " '__new__',\n",
       " '__reduce__',\n",
       " '__reduce_ex__',\n",
       " '__repr__',\n",
       " '__reversed__',\n",
       " '__rmul__',\n",
       " '__setattr__',\n",
       " '__setitem__',\n",
       " '__sizeof__',\n",
       " '__str__',\n",
       " '__subclasshook__',\n",
       " 'append',\n",
       " 'clear',\n",
       " 'copy',\n",
       " 'count',\n",
       " 'extend',\n",
       " 'index',\n",
       " 'insert',\n",
       " 'pop',\n",
       " 'remove',\n",
       " 'reverse',\n",
       " 'sort']"
      ]
     },
     "execution_count": 2,
     "metadata": {},
     "output_type": "execute_result"
    }
   ],
   "source": [
    "dir(list)"
   ]
  },
  {
   "cell_type": "code",
   "execution_count": 2,
   "metadata": {
    "id": "uUFes9J9JLyM"
   },
   "outputs": [],
   "source": []
  },
  {
   "cell_type": "markdown",
   "metadata": {
    "id": "bvMUElM8RLlW"
   },
   "source": [
    "#### 3. Elenca meno due tipi di oggetti built-in immutabili e due mutabili in Python.\n",
    "\n",
    "* Immutabili: int, float, string, bool, tuple\n",
    "* Mutabili: list, dictionary, set\n"
   ]
  },
  {
   "cell_type": "markdown",
   "metadata": {
    "id": "Hn_FhDh_SOsp"
   },
   "source": [
    "#### 4. Crea e manipola un dizionario\n",
    "1. Dichiara un dizionario col nome `fonetico` con cinque copie chiavi valori:   \n",
    "    * A \tAlfa\n",
    "    * B \tBravo\n",
    "    * C \tCharlie\n",
    "    * D \tDelta \n",
    "    * E \tEcho\n",
    "\n",
    "    \n",
    "    \n",
    "2. Stampa il valore corrispondendente alla chiave `'C'`\n",
    "3. Aggiungi la coppia chiave valore F Foxtrot\n",
    "4. Mostra le sole chiavi con un solo comando"
   ]
  },
  {
   "cell_type": "code",
   "execution_count": 3,
   "metadata": {
    "id": "h47SsBu9Sfny"
   },
   "outputs": [],
   "source": [
    "#1\n",
    "fonetico = {'A': 'Alpha', 'B': 'Bravo', \n",
    "            'C': 'Charlie', 'D': 'Delta', \n",
    "            'E': 'Echo'}"
   ]
  },
  {
   "cell_type": "code",
   "execution_count": 4,
   "metadata": {
    "colab": {
     "base_uri": "https://localhost:8080/"
    },
    "id": "__k73zLJSjds",
    "outputId": "f2ff1c1d-aae2-409c-a986-e3ecf37f1c45"
   },
   "outputs": [
    {
     "name": "stdout",
     "output_type": "stream",
     "text": [
      "Charlie\n"
     ]
    }
   ],
   "source": [
    "#2\n",
    "print(fonetico['C'])"
   ]
  },
  {
   "cell_type": "code",
   "execution_count": 5,
   "metadata": {
    "id": "5zt_nyLaSjlb"
   },
   "outputs": [],
   "source": [
    "#3\n",
    "fonetico['F'] = 'Foxtrot'"
   ]
  },
  {
   "cell_type": "code",
   "execution_count": 6,
   "metadata": {
    "colab": {
     "base_uri": "https://localhost:8080/"
    },
    "id": "TMa9dCRHSjzU",
    "outputId": "2b59be68-155c-46e8-d72d-3ea71d6f5601"
   },
   "outputs": [
    {
     "data": {
      "text/plain": [
       "dict_keys(['A', 'B', 'C', 'D', 'E', 'F'])"
      ]
     },
     "execution_count": 6,
     "metadata": {},
     "output_type": "execute_result"
    }
   ],
   "source": [
    "#4\n",
    "fonetico.keys()"
   ]
  },
  {
   "cell_type": "code",
   "execution_count": 6,
   "metadata": {
    "id": "wSqYeNOCSkGv"
   },
   "outputs": [],
   "source": []
  },
  {
   "cell_type": "markdown",
   "metadata": {
    "id": "nWDF8wr-SgID"
   },
   "source": [
    "#### 5. Crea un ciclo for\n",
    "Per ogni elementi del dizionario `fonetico` dichiarato sopra mi stampi la stringa del tipo\n",
    "\"A è alpha.\""
   ]
  },
  {
   "cell_type": "code",
   "execution_count": 7,
   "metadata": {
    "colab": {
     "base_uri": "https://localhost:8080/"
    },
    "id": "PoBMwejORKJK",
    "outputId": "e1e43581-e389-4627-c3e6-56dd0648d7be"
   },
   "outputs": [
    {
     "name": "stdout",
     "output_type": "stream",
     "text": [
      "A é alpha.\n",
      "B é bravo.\n",
      "C é charlie.\n",
      "D é delta.\n",
      "E é echo.\n",
      "F é foxtrot.\n"
     ]
    }
   ],
   "source": [
    "# FORMATTAZIONE USANDO OPERATORE %\n",
    "\n",
    "for key, value in fonetico.items():\n",
    "    print(\"%s é %s.\" %(key, value.lower()))"
   ]
  },
  {
   "cell_type": "code",
   "execution_count": 8,
   "metadata": {
    "colab": {
     "base_uri": "https://localhost:8080/"
    },
    "id": "P1LHuMQaRKMj",
    "outputId": "b8470a5f-f280-4e6a-c079-8fbe550838fc"
   },
   "outputs": [
    {
     "name": "stdout",
     "output_type": "stream",
     "text": [
      "A è alpha.\n",
      "B è bravo.\n",
      "C è charlie.\n",
      "D è delta.\n",
      "E è echo.\n",
      "F è foxtrot.\n"
     ]
    }
   ],
   "source": [
    "# FORMATTAZZIONE USANDO f-string\n",
    "\n",
    "for key, value in fonetico.items():\n",
    "    print(f\"{key} è {value.lower()}.\")"
   ]
  },
  {
   "cell_type": "code",
   "execution_count": 8,
   "metadata": {
    "id": "2gARxkBURKO9"
   },
   "outputs": [],
   "source": []
  },
  {
   "cell_type": "code",
   "execution_count": 8,
   "metadata": {
    "id": "LkJtT9ElSqel"
   },
   "outputs": [],
   "source": []
  },
  {
   "cell_type": "markdown",
   "metadata": {
    "id": "jA3VD4GRSrb1"
   },
   "source": [
    "#### 6. Crea e stampa una list comprehension\n",
    "1. Dichiara la lista col nome `quattro` di cui tutti i numeri divisibili per 4 da 0 a 52 compreso\n",
    "2. Stampa la lista creata\n",
    "3. Stampa la lunghezza della lista\n",
    "\n",
    "_Ripassatevi bene anche le dictionary comprehension!_"
   ]
  },
  {
   "cell_type": "code",
   "execution_count": 9,
   "metadata": {
    "id": "v5D3Q1dcSqr3"
   },
   "outputs": [],
   "source": [
    "#1\n",
    "quattro = [x for x in range(53) if x % 4 == 0]"
   ]
  },
  {
   "cell_type": "code",
   "execution_count": 10,
   "metadata": {
    "colab": {
     "base_uri": "https://localhost:8080/"
    },
    "id": "Asu6ats2TAFA",
    "outputId": "6f6da9a3-5c33-46e9-dfd7-80ac24139a48"
   },
   "outputs": [
    {
     "name": "stdout",
     "output_type": "stream",
     "text": [
      "[0, 4, 8, 12, 16, 20, 24, 28, 32, 36, 40, 44, 48, 52]\n"
     ]
    }
   ],
   "source": [
    "#2\n",
    "print(quattro)"
   ]
  },
  {
   "cell_type": "code",
   "execution_count": 11,
   "metadata": {
    "colab": {
     "base_uri": "https://localhost:8080/"
    },
    "id": "QM3Q1F31Kp_K",
    "outputId": "08d29ee6-bbd7-437e-94e5-59608cf01d00"
   },
   "outputs": [
    {
     "data": {
      "text/plain": [
       "14"
      ]
     },
     "execution_count": 11,
     "metadata": {},
     "output_type": "execute_result"
    }
   ],
   "source": [
    "#3\n",
    "len(quattro)"
   ]
  },
  {
   "cell_type": "code",
   "execution_count": 11,
   "metadata": {
    "id": "jQ2DHvJTKqCC"
   },
   "outputs": [],
   "source": []
  },
  {
   "cell_type": "markdown",
   "metadata": {
    "id": "HjOu83QrTAxG"
   },
   "source": [
    "#### 7. Crea una condizione IF tale che:\n",
    "1. Data una distanza dalla terra di 100 km assegnata alla variabile `dist_km`\n",
    "2. Stampi la seguenti stringhe:\n",
    "    * \"Sei nella troposfera\" se `dist_km` è compresa fra 0 e 10 km\n",
    "    * \"Sei nella stratosfera\" se `dist_km` è compresa fra 11 e 50 km\n",
    "    * \"Sei nella mesosfera\" se `dist_km` è compresa fra 51 e 80 km\n",
    "    * \"Sei nella termosfera\" se `dist_km` è compresa fra 81 e 500 km\n",
    "    * \"Sei nell'esosfera\" se `dist_km` è compresa fra 501 e 10000 km\n",
    "    * \"Non dove sei!\" in tutti gli altri casi"
   ]
  },
  {
   "cell_type": "code",
   "execution_count": 12,
   "metadata": {
    "id": "f7PdaaRVTE1D"
   },
   "outputs": [],
   "source": [
    "#1\n",
    "dist_km = 100"
   ]
  },
  {
   "cell_type": "code",
   "execution_count": 13,
   "metadata": {
    "colab": {
     "base_uri": "https://localhost:8080/"
    },
    "id": "JmZ9_P7aTE39",
    "outputId": "4e18a281-f8b2-46ec-af61-a2b553d55f1e"
   },
   "outputs": [
    {
     "name": "stdout",
     "output_type": "stream",
     "text": [
      "Sei nella termosfera\n"
     ]
    }
   ],
   "source": [
    "#2\n",
    "if dist_km >= 0 and dist_km <=10:\n",
    "    print(\"Sei nella troposfera\")\n",
    "elif dist_km >= 11 and dist_km <=50:\n",
    "    print(\"Sei nella stratosfera\")\n",
    "elif dist_km >= 51 and dist_km <=80:\n",
    "    print(\"Sei nella mesosfera\")\n",
    "elif dist_km >= 81 and dist_km <=500:\n",
    "    print(\"Sei nella termosfera\")\n",
    "elif dist_km >= 501 and dist_km <=10000:\n",
    "    print(\"Sei nell'eosfera\")\n",
    "else:\n",
    "    print(\"Non so dove sei!\")"
   ]
  },
  {
   "cell_type": "code",
   "execution_count": 13,
   "metadata": {
    "id": "EAbsDufSKwvn"
   },
   "outputs": [],
   "source": []
  },
  {
   "cell_type": "markdown",
   "metadata": {
    "id": "h2s4nPrKRK-R"
   },
   "source": [
    "#### 8. Crea e richiama una funzione\n",
    "1. Implementa in una funzione `dove_sono` contenente la condizione IF della domanda 7., in modo che `dist_km` diventi l'argomento.\n",
    "2. Richiama la funzione creata per gli argomenti 44, 222, 1111 e 55555."
   ]
  },
  {
   "cell_type": "code",
   "execution_count": 14,
   "metadata": {
    "id": "0o3EUPPATchX"
   },
   "outputs": [],
   "source": [
    "#1\n",
    "\n",
    "def dove_sono(dist_km):\n",
    "    if dist_km >= 0 and dist_km <=10:\n",
    "        print(\"Sei nella troposfera\")\n",
    "    elif dist_km >= 11 and dist_km <=50:\n",
    "        print(\"Sei nella stratosfera\")\n",
    "    elif dist_km >= 51 and dist_km <=80:\n",
    "        print(\"Sei nella mesosfera\")\n",
    "    elif dist_km >= 81 and dist_km <=500:\n",
    "        print(\"Sei nella termosfera\")\n",
    "    elif dist_km >= 501 and dist_km <=10000:\n",
    "        print(\"Sei nell'esofera\")\n",
    "    else:\n",
    "        print(\"Non so dove sei!\")"
   ]
  },
  {
   "cell_type": "code",
   "execution_count": 15,
   "metadata": {
    "colab": {
     "base_uri": "https://localhost:8080/"
    },
    "id": "Dyv9gI_KTckL",
    "outputId": "8215f4bc-ef2d-4af4-fd4e-dee62c9a370c"
   },
   "outputs": [
    {
     "name": "stdout",
     "output_type": "stream",
     "text": [
      "Sei nella stratosfera\n"
     ]
    }
   ],
   "source": [
    "#2\n",
    "dove_sono(44)"
   ]
  },
  {
   "cell_type": "code",
   "execution_count": 16,
   "metadata": {
    "colab": {
     "base_uri": "https://localhost:8080/"
    },
    "id": "ZQtuziP1Tcm6",
    "outputId": "9f81962c-2877-45c2-b087-ff134a5a73f9"
   },
   "outputs": [
    {
     "name": "stdout",
     "output_type": "stream",
     "text": [
      "Sei nella termosfera\n"
     ]
    }
   ],
   "source": [
    "dove_sono(222)"
   ]
  },
  {
   "cell_type": "code",
   "execution_count": 17,
   "metadata": {
    "colab": {
     "base_uri": "https://localhost:8080/"
    },
    "id": "PFm8RWT6LCvj",
    "outputId": "28d1466a-03d9-4bda-c5be-5b781b88898b"
   },
   "outputs": [
    {
     "name": "stdout",
     "output_type": "stream",
     "text": [
      "Sei nell'esofera\n"
     ]
    }
   ],
   "source": [
    "dove_sono(1111)"
   ]
  },
  {
   "cell_type": "code",
   "execution_count": 18,
   "metadata": {
    "colab": {
     "base_uri": "https://localhost:8080/"
    },
    "id": "OBnhcJj9LC7a",
    "outputId": "17417972-3c9a-4324-f448-5bdbd7f26292"
   },
   "outputs": [
    {
     "name": "stdout",
     "output_type": "stream",
     "text": [
      "Non so dove sei!\n"
     ]
    }
   ],
   "source": [
    "dove_sono(55555)"
   ]
  },
  {
   "cell_type": "code",
   "execution_count": 18,
   "metadata": {
    "id": "UR_BuWiBLKht"
   },
   "outputs": [],
   "source": []
  },
  {
   "cell_type": "markdown",
   "metadata": {
    "id": "8MRkoa1XDT6u"
   },
   "source": [
    "## Concetti di Statistica e Data Science"
   ]
  },
  {
   "cell_type": "markdown",
   "metadata": {
    "id": "3FpxypwZCXo9"
   },
   "source": [
    "#### 1. Qual è la differenza principale fra statistica descrittiva e inferenziale?\n",
    "\n",
    "La statistica descrittiva si occupa di acquisire, classificare e analizzare i dati, quindi in sintesi si occupa di descrivere un fenomeno ed i suoi risultati sono certi.\n",
    "\n",
    "La statistica  inferenziale, invece, si occupa di predirele caratteristiche di una popolazione attraverso osservazioni di un campione ristretto. Di conseguenza è possibile effettuare errori di valutazione"
   ]
  },
  {
   "cell_type": "markdown",
   "metadata": {
    "id": "FtY_TrYDC9np"
   },
   "source": [
    "#### 2. Quali sono le fasi di un progetto di Data Science? Crea un elenco numerato.\n",
    "\n",
    "1. Acquisire i dati\n",
    "\n",
    "2. Effettuare una fase di analisi statistica descrittiva\n",
    "\n",
    "3. Esplorare e analizzare i dati\n",
    "\n",
    "4. Fare stime su campioni\n",
    "\n",
    "5. Effettuare una fase di analisi statistica inferenziale e studio di ipotesi sui campioni\n",
    "\n",
    "6. Applicare modelli di Machine Learning"
   ]
  },
  {
   "cell_type": "markdown",
   "metadata": {
    "id": "rJdTmmPKIU6q"
   },
   "source": [
    "#### 3. Indica almeno tre rappresentazioni grafiche usate in Data Science. Crea un elenco non numerato.\n",
    "\n",
    "* Boxplot\n",
    "* Scatterplot\n",
    "* Heatmap\n",
    "* Istogramma"
   ]
  },
  {
   "cell_type": "markdown",
   "metadata": {
    "id": "Dj9Xu474IU6o"
   },
   "source": [
    "#### 4. Quali indici di posizione vengono utilizzati in un grafico boxplot?\n",
    "\n",
    "Quartili, in particolare Q1 e Q3 per definire la 'box' e Q2 ossia la mediana. Tali quantità vengono utilizzare per definire di conseguenza l'IQR e i 'baffi' del grafico.  "
   ]
  },
  {
   "cell_type": "markdown",
   "metadata": {
    "id": "eQgnV8a1IU6r"
   },
   "source": [
    "#### 5. Definisci un outlier\n",
    "\n",
    "L'outlier è un valore anomalo poichè distante dal resto dei valori. \n",
    "\n",
    "Gli outliers superiori sono i valori maggiori di\n",
    "Q3 + 1.5 * IQR (dove IQR è la differenza inter-quantile)\n",
    "\n",
    "Gli outliers inferiori sono i valori minori di\n",
    "Q1 - 1.5 * IQR"
   ]
  },
  {
   "cell_type": "markdown",
   "metadata": {
    "id": "Lu5rf0W8DoLl"
   },
   "source": [
    "## Computazione matematica"
   ]
  },
  {
   "cell_type": "markdown",
   "metadata": {
    "id": "DXKxmtgTIU6s"
   },
   "source": [
    "#### 6. Importa la libreria `numpy` con l'alias che abbiamo usato a lezione"
   ]
  },
  {
   "cell_type": "code",
   "execution_count": 19,
   "metadata": {
    "id": "yX9WtHqHIU6s"
   },
   "outputs": [],
   "source": [
    "import numpy as np"
   ]
  },
  {
   "cell_type": "markdown",
   "metadata": {
    "id": "1ajJN7I-GpX9"
   },
   "source": [
    "#### 7. Salva una lista e un NumPy array contenenti cinque valori di tipo `float`. Poi stampa entrambi."
   ]
  },
  {
   "cell_type": "code",
   "execution_count": 20,
   "metadata": {
    "id": "zd_Z0nUxIH9H"
   },
   "outputs": [],
   "source": [
    "numeri_lista =  [1.2,4.7,6.4,9.6,5.4]"
   ]
  },
  {
   "cell_type": "code",
   "execution_count": 21,
   "metadata": {
    "id": "CIczf7arM1Jp"
   },
   "outputs": [],
   "source": [
    "numeri_np = np.array(numeri_lista)"
   ]
  },
  {
   "cell_type": "code",
   "execution_count": 22,
   "metadata": {
    "colab": {
     "base_uri": "https://localhost:8080/"
    },
    "id": "F_U03fVFM1MP",
    "outputId": "4e79535b-f39f-4b35-c350-cfca50beac76"
   },
   "outputs": [
    {
     "name": "stdout",
     "output_type": "stream",
     "text": [
      "[1.2, 4.7, 6.4, 9.6, 5.4]\n",
      "[1.2 4.7 6.4 9.6 5.4]\n"
     ]
    }
   ],
   "source": [
    "print(numeri_lista)\n",
    "print(numeri_np)"
   ]
  },
  {
   "cell_type": "code",
   "execution_count": 22,
   "metadata": {
    "id": "UNGQDo5oM1O9"
   },
   "outputs": [],
   "source": []
  },
  {
   "cell_type": "markdown",
   "metadata": {
    "id": "4I09XBJKIU6s"
   },
   "source": [
    "#### 8. Qual è da differenza fra un NumPy array e una lista?\n",
    "\n",
    "La lista è un tipo di oggetto buil-in in Python, NumPy Array è un tipo di oggetto della libreria NumPy che è un vero che opera come un vero proprio vettore dal punto di vista algebrico.\n",
    "\n",
    "Ad esempio la moltiplicazione di uno scalare n per una lista copia n volte i valori della lista, mentre per un NumPy Array moltiplica per n ogni singolo elemento (vedi esempio sotto)."
   ]
  },
  {
   "cell_type": "code",
   "execution_count": 23,
   "metadata": {
    "colab": {
     "base_uri": "https://localhost:8080/"
    },
    "id": "3K_xPLNJjkZx",
    "outputId": "77bca9a0-7ac7-4a58-cc39-f76b202018be"
   },
   "outputs": [
    {
     "data": {
      "text/plain": [
       "([1.2, 4.7, 6.4, 9.6, 5.4], list)"
      ]
     },
     "execution_count": 23,
     "metadata": {},
     "output_type": "execute_result"
    }
   ],
   "source": [
    "numeri_lista, type(numeri_lista)"
   ]
  },
  {
   "cell_type": "code",
   "execution_count": 24,
   "metadata": {
    "colab": {
     "base_uri": "https://localhost:8080/"
    },
    "id": "CEPB5oMMUA29",
    "outputId": "85674da3-2a7d-4427-ebf6-c1e179fbc468"
   },
   "outputs": [
    {
     "data": {
      "text/plain": [
       "[1.2, 4.7, 6.4, 9.6, 5.4, 1.2, 4.7, 6.4, 9.6, 5.4, 1.2, 4.7, 6.4, 9.6, 5.4]"
      ]
     },
     "execution_count": 24,
     "metadata": {},
     "output_type": "execute_result"
    }
   ],
   "source": [
    "numeri_lista * 3"
   ]
  },
  {
   "cell_type": "code",
   "execution_count": 24,
   "metadata": {
    "id": "fbjNP8k2jt_i"
   },
   "outputs": [],
   "source": []
  },
  {
   "cell_type": "code",
   "execution_count": 25,
   "metadata": {
    "colab": {
     "base_uri": "https://localhost:8080/"
    },
    "id": "ECQrX6P4juCg",
    "outputId": "8ec9ae1d-05ac-4bb3-88a7-c09f6a4a7b94"
   },
   "outputs": [
    {
     "data": {
      "text/plain": [
       "(array([1.2, 4.7, 6.4, 9.6, 5.4]), numpy.ndarray)"
      ]
     },
     "execution_count": 25,
     "metadata": {},
     "output_type": "execute_result"
    }
   ],
   "source": [
    "numeri_np, type(numeri_np)"
   ]
  },
  {
   "cell_type": "code",
   "execution_count": 26,
   "metadata": {
    "colab": {
     "base_uri": "https://localhost:8080/"
    },
    "id": "TteeAy1gjuFS",
    "outputId": "8754814a-06e1-4bd2-eef6-2d9f5a101b6b"
   },
   "outputs": [
    {
     "data": {
      "text/plain": [
       "array([ 3.6, 14.1, 19.2, 28.8, 16.2])"
      ]
     },
     "execution_count": 26,
     "metadata": {},
     "output_type": "execute_result"
    }
   ],
   "source": [
    "numeri_np * 3"
   ]
  },
  {
   "cell_type": "code",
   "execution_count": 26,
   "metadata": {
    "id": "HECek1ULj1h6"
   },
   "outputs": [],
   "source": []
  },
  {
   "cell_type": "markdown",
   "metadata": {
    "id": "iO-wNZdhIU6u"
   },
   "source": [
    "#### 9. Usando NumPy, calcola la media e la mediana del NumPy array del punto 7.   \n"
   ]
  },
  {
   "cell_type": "code",
   "execution_count": 27,
   "metadata": {
    "colab": {
     "base_uri": "https://localhost:8080/"
    },
    "id": "TAsbBjMmT_FN",
    "outputId": "81723b03-93dc-473d-e25b-a47b026658a8"
   },
   "outputs": [
    {
     "data": {
      "text/plain": [
       "5.459999999999999"
      ]
     },
     "execution_count": 27,
     "metadata": {},
     "output_type": "execute_result"
    }
   ],
   "source": [
    "np.mean(numeri_np)"
   ]
  },
  {
   "cell_type": "code",
   "execution_count": 28,
   "metadata": {
    "colab": {
     "base_uri": "https://localhost:8080/"
    },
    "id": "n3q7uB0INGWg",
    "outputId": "6cfbc190-f02d-4d57-ab67-275650adafc1"
   },
   "outputs": [
    {
     "data": {
      "text/plain": [
       "5.4"
      ]
     },
     "execution_count": 28,
     "metadata": {},
     "output_type": "execute_result"
    }
   ],
   "source": [
    "np.median(numeri_np)"
   ]
  },
  {
   "cell_type": "markdown",
   "metadata": {
    "id": "AtQwG2kFIrR4"
   },
   "source": [
    "#### 10. Arrotonda la differenza fra mediana e media del punto 9. a tre decimali."
   ]
  },
  {
   "cell_type": "code",
   "execution_count": 29,
   "metadata": {
    "colab": {
     "base_uri": "https://localhost:8080/"
    },
    "id": "XvPQ1OB9T_1z",
    "outputId": "477542a3-f711-4867-a0fd-84429a19a95b"
   },
   "outputs": [
    {
     "data": {
      "text/plain": [
       "-0.06"
      ]
     },
     "execution_count": 29,
     "metadata": {},
     "output_type": "execute_result"
    }
   ],
   "source": [
    "np.round(np.median(numeri_np) - np.mean(numeri_np), 3)"
   ]
  },
  {
   "cell_type": "markdown",
   "metadata": {
    "id": "1mQfZPbjIU6w"
   },
   "source": [
    "#### 11. Crea una matrice con 8 colonne e 6 righe con valori casuali e visualizzala"
   ]
  },
  {
   "cell_type": "code",
   "execution_count": 30,
   "metadata": {
    "colab": {
     "base_uri": "https://localhost:8080/"
    },
    "id": "tgUTn5vmT-ge",
    "outputId": "3cfec017-29ab-43b8-c09b-4602e1d96b5d"
   },
   "outputs": [
    {
     "data": {
      "text/plain": [
       "array([[0.05613829, 0.80869923, 0.28789157, 0.52689899, 0.49933222,\n",
       "        0.38700076, 0.03490911, 0.17759003],\n",
       "       [0.6726673 , 0.1629135 , 0.63259666, 0.49819628, 0.78027891,\n",
       "        0.27461182, 0.85257097, 0.81103986],\n",
       "       [0.46338758, 0.32690512, 0.21739304, 0.76706579, 0.34320311,\n",
       "        0.87723038, 0.2366462 , 0.89592206],\n",
       "       [0.13133436, 0.28780084, 0.46090402, 0.6874528 , 0.41888356,\n",
       "        0.21934458, 0.44146256, 0.55839812],\n",
       "       [0.96328661, 0.78466962, 0.91665234, 0.40239404, 0.40661862,\n",
       "        0.08516613, 0.07754035, 0.56837484],\n",
       "       [0.10582329, 0.8058412 , 0.67163821, 0.97710624, 0.67182443,\n",
       "        0.77092083, 0.00608274, 0.10469811]])"
      ]
     },
     "execution_count": 30,
     "metadata": {},
     "output_type": "execute_result"
    }
   ],
   "source": [
    "mat = np.random.random((6,8))\n",
    "mat"
   ]
  },
  {
   "cell_type": "markdown",
   "metadata": {
    "id": "twgDcRloJLRa"
   },
   "source": [
    "#### 12. Dalla matrice del punto 11. seleziona la sotto matriche formata dalla prime 3 righe e le ultime 2 colonne."
   ]
  },
  {
   "cell_type": "code",
   "execution_count": 31,
   "metadata": {
    "colab": {
     "base_uri": "https://localhost:8080/"
    },
    "id": "qki2-NyRQpjg",
    "outputId": "776b1f10-16b2-4df9-ad1c-eb91d794f0f5"
   },
   "outputs": [
    {
     "data": {
      "text/plain": [
       "array([[0.03490911, 0.17759003],\n",
       "       [0.85257097, 0.81103986],\n",
       "       [0.2366462 , 0.89592206]])"
      ]
     },
     "execution_count": 31,
     "metadata": {},
     "output_type": "execute_result"
    }
   ],
   "source": [
    "mat[:3,-2:]"
   ]
  },
  {
   "cell_type": "code",
   "execution_count": 31,
   "metadata": {
    "id": "7G70YXaCOL_D"
   },
   "outputs": [],
   "source": []
  },
  {
   "cell_type": "markdown",
   "metadata": {
    "id": "_g61_YhYJ0C7"
   },
   "source": [
    "---\n",
    "\n",
    "## Importazione, esplorazione e manipolazione di dataset"
   ]
  },
  {
   "cell_type": "markdown",
   "metadata": {
    "id": "LSpSzs9RIU6w"
   },
   "source": [
    "#### 13. Importa la libreria `pandas` con l'alias con l'alias che abbiamo usato a lezione"
   ]
  },
  {
   "cell_type": "code",
   "execution_count": 32,
   "metadata": {
    "id": "CjYAN8XmIU6w"
   },
   "outputs": [],
   "source": [
    "import pandas as pd"
   ]
  },
  {
   "cell_type": "markdown",
   "metadata": {
    "id": "Mp5WF1LPIU6w"
   },
   "source": [
    "#### 14. Importa il file `forbes_billionaires_2020.csv` con l'opportuno modulo della libreria pandas Pandas\n",
    "\n",
    "\n",
    "Nomina il dataframe `forbes`"
   ]
  },
  {
   "cell_type": "code",
   "execution_count": 34,
   "metadata": {
    "id": "OWW50UuGIU6x"
   },
   "outputs": [],
   "source": [
    "forbes = pd.read_csv('Forbes_Billionaires_2020.csv')"
   ]
  },
  {
   "cell_type": "markdown",
   "metadata": {
    "id": "IVtzLtDXIU6y"
   },
   "source": [
    "#### 15. Visualizzare il numero di osservazioni (righe) e variabili (colonne) sono presenti in `forbes`"
   ]
  },
  {
   "cell_type": "code",
   "execution_count": 35,
   "metadata": {
    "colab": {
     "base_uri": "https://localhost:8080/"
    },
    "id": "UM1gtfG9IU6y",
    "outputId": "5c708495-699b-48e5-b9c4-71b689964198"
   },
   "outputs": [
    {
     "data": {
      "text/plain": [
       "(2095, 7)"
      ]
     },
     "execution_count": 35,
     "metadata": {},
     "output_type": "execute_result"
    }
   ],
   "source": [
    "forbes.shape"
   ]
  },
  {
   "cell_type": "markdown",
   "metadata": {
    "id": "XLlgcNJlQalb"
   },
   "source": [
    "#### 16. Visualizza con un comando informazioni su numero di valori e tipo di ciascuna variabile"
   ]
  },
  {
   "cell_type": "code",
   "execution_count": 36,
   "metadata": {
    "colab": {
     "base_uri": "https://localhost:8080/"
    },
    "id": "4PWQuZTiIU6z",
    "outputId": "3fcdcb06-64ea-45ec-91bb-b122d130fc52"
   },
   "outputs": [
    {
     "name": "stdout",
     "output_type": "stream",
     "text": [
      "<class 'pandas.core.frame.DataFrame'>\n",
      "RangeIndex: 2095 entries, 0 to 2094\n",
      "Data columns (total 7 columns):\n",
      " #   Column             Non-Null Count  Dtype  \n",
      "---  ------             --------------  -----  \n",
      " 0   Rank               2095 non-null   int64  \n",
      " 1   Name               2095 non-null   object \n",
      " 2   Net Worth $B       2095 non-null   float64\n",
      " 3   Age                2052 non-null   float64\n",
      " 4   Country/Territory  2095 non-null   object \n",
      " 5   Source             2095 non-null   object \n",
      " 6   Industries         2095 non-null   object \n",
      "dtypes: float64(2), int64(1), object(4)\n",
      "memory usage: 114.7+ KB\n"
     ]
    }
   ],
   "source": [
    "forbes.info()"
   ]
  },
  {
   "cell_type": "markdown",
   "metadata": {
    "id": "IZt5wMJGIU6x"
   },
   "source": [
    "#### 17. Visualizza le le ultime quattro osservazioni e le prime otto osservazioni\n",
    "Usa due comandi separatamente."
   ]
  },
  {
   "cell_type": "code",
   "execution_count": 37,
   "metadata": {
    "colab": {
     "base_uri": "https://localhost:8080/",
     "height": 175
    },
    "id": "9BBxRKHzIU6y",
    "outputId": "5132b013-302f-4d17-bb9a-5f2776518939"
   },
   "outputs": [
    {
     "data": {
      "text/html": [
       "\n",
       "  <div id=\"df-4220f616-93e5-49a5-b2bd-9ac615664bc2\">\n",
       "    <div class=\"colab-df-container\">\n",
       "      <div>\n",
       "<style scoped>\n",
       "    .dataframe tbody tr th:only-of-type {\n",
       "        vertical-align: middle;\n",
       "    }\n",
       "\n",
       "    .dataframe tbody tr th {\n",
       "        vertical-align: top;\n",
       "    }\n",
       "\n",
       "    .dataframe thead th {\n",
       "        text-align: right;\n",
       "    }\n",
       "</style>\n",
       "<table border=\"1\" class=\"dataframe\">\n",
       "  <thead>\n",
       "    <tr style=\"text-align: right;\">\n",
       "      <th></th>\n",
       "      <th>Rank</th>\n",
       "      <th>Name</th>\n",
       "      <th>Net Worth $B</th>\n",
       "      <th>Age</th>\n",
       "      <th>Country/Territory</th>\n",
       "      <th>Source</th>\n",
       "      <th>Industries</th>\n",
       "    </tr>\n",
       "  </thead>\n",
       "  <tbody>\n",
       "    <tr>\n",
       "      <th>2091</th>\n",
       "      <td>1990</td>\n",
       "      <td>ZHANG YUXIANG &amp; FAMILY</td>\n",
       "      <td>1.0</td>\n",
       "      <td>55.0</td>\n",
       "      <td>China</td>\n",
       "      <td>apparel</td>\n",
       "      <td>Fashion &amp; Retail</td>\n",
       "    </tr>\n",
       "    <tr>\n",
       "      <th>2092</th>\n",
       "      <td>1990</td>\n",
       "      <td>ZHAO HONGFEI</td>\n",
       "      <td>1.0</td>\n",
       "      <td>45.0</td>\n",
       "      <td>China</td>\n",
       "      <td>software</td>\n",
       "      <td>Technology</td>\n",
       "    </tr>\n",
       "    <tr>\n",
       "      <th>2093</th>\n",
       "      <td>1990</td>\n",
       "      <td>KOSTYANTIN ZHEVAGO</td>\n",
       "      <td>1.0</td>\n",
       "      <td>46.0</td>\n",
       "      <td>Ukraine</td>\n",
       "      <td>mining</td>\n",
       "      <td>Metals &amp; Mining</td>\n",
       "    </tr>\n",
       "    <tr>\n",
       "      <th>2094</th>\n",
       "      <td>1990</td>\n",
       "      <td>ZHOU YONGLI &amp; FAMILY</td>\n",
       "      <td>1.0</td>\n",
       "      <td>65.0</td>\n",
       "      <td>China</td>\n",
       "      <td>conglomerate</td>\n",
       "      <td>Manufacturing</td>\n",
       "    </tr>\n",
       "  </tbody>\n",
       "</table>\n",
       "</div>\n",
       "      <button class=\"colab-df-convert\" onclick=\"convertToInteractive('df-4220f616-93e5-49a5-b2bd-9ac615664bc2')\"\n",
       "              title=\"Convert this dataframe to an interactive table.\"\n",
       "              style=\"display:none;\">\n",
       "        \n",
       "  <svg xmlns=\"http://www.w3.org/2000/svg\" height=\"24px\"viewBox=\"0 0 24 24\"\n",
       "       width=\"24px\">\n",
       "    <path d=\"M0 0h24v24H0V0z\" fill=\"none\"/>\n",
       "    <path d=\"M18.56 5.44l.94 2.06.94-2.06 2.06-.94-2.06-.94-.94-2.06-.94 2.06-2.06.94zm-11 1L8.5 8.5l.94-2.06 2.06-.94-2.06-.94L8.5 2.5l-.94 2.06-2.06.94zm10 10l.94 2.06.94-2.06 2.06-.94-2.06-.94-.94-2.06-.94 2.06-2.06.94z\"/><path d=\"M17.41 7.96l-1.37-1.37c-.4-.4-.92-.59-1.43-.59-.52 0-1.04.2-1.43.59L10.3 9.45l-7.72 7.72c-.78.78-.78 2.05 0 2.83L4 21.41c.39.39.9.59 1.41.59.51 0 1.02-.2 1.41-.59l7.78-7.78 2.81-2.81c.8-.78.8-2.07 0-2.86zM5.41 20L4 18.59l7.72-7.72 1.47 1.35L5.41 20z\"/>\n",
       "  </svg>\n",
       "      </button>\n",
       "      \n",
       "  <style>\n",
       "    .colab-df-container {\n",
       "      display:flex;\n",
       "      flex-wrap:wrap;\n",
       "      gap: 12px;\n",
       "    }\n",
       "\n",
       "    .colab-df-convert {\n",
       "      background-color: #E8F0FE;\n",
       "      border: none;\n",
       "      border-radius: 50%;\n",
       "      cursor: pointer;\n",
       "      display: none;\n",
       "      fill: #1967D2;\n",
       "      height: 32px;\n",
       "      padding: 0 0 0 0;\n",
       "      width: 32px;\n",
       "    }\n",
       "\n",
       "    .colab-df-convert:hover {\n",
       "      background-color: #E2EBFA;\n",
       "      box-shadow: 0px 1px 2px rgba(60, 64, 67, 0.3), 0px 1px 3px 1px rgba(60, 64, 67, 0.15);\n",
       "      fill: #174EA6;\n",
       "    }\n",
       "\n",
       "    [theme=dark] .colab-df-convert {\n",
       "      background-color: #3B4455;\n",
       "      fill: #D2E3FC;\n",
       "    }\n",
       "\n",
       "    [theme=dark] .colab-df-convert:hover {\n",
       "      background-color: #434B5C;\n",
       "      box-shadow: 0px 1px 3px 1px rgba(0, 0, 0, 0.15);\n",
       "      filter: drop-shadow(0px 1px 2px rgba(0, 0, 0, 0.3));\n",
       "      fill: #FFFFFF;\n",
       "    }\n",
       "  </style>\n",
       "\n",
       "      <script>\n",
       "        const buttonEl =\n",
       "          document.querySelector('#df-4220f616-93e5-49a5-b2bd-9ac615664bc2 button.colab-df-convert');\n",
       "        buttonEl.style.display =\n",
       "          google.colab.kernel.accessAllowed ? 'block' : 'none';\n",
       "\n",
       "        async function convertToInteractive(key) {\n",
       "          const element = document.querySelector('#df-4220f616-93e5-49a5-b2bd-9ac615664bc2');\n",
       "          const dataTable =\n",
       "            await google.colab.kernel.invokeFunction('convertToInteractive',\n",
       "                                                     [key], {});\n",
       "          if (!dataTable) return;\n",
       "\n",
       "          const docLinkHtml = 'Like what you see? Visit the ' +\n",
       "            '<a target=\"_blank\" href=https://colab.research.google.com/notebooks/data_table.ipynb>data table notebook</a>'\n",
       "            + ' to learn more about interactive tables.';\n",
       "          element.innerHTML = '';\n",
       "          dataTable['output_type'] = 'display_data';\n",
       "          await google.colab.output.renderOutput(dataTable, element);\n",
       "          const docLink = document.createElement('div');\n",
       "          docLink.innerHTML = docLinkHtml;\n",
       "          element.appendChild(docLink);\n",
       "        }\n",
       "      </script>\n",
       "    </div>\n",
       "  </div>\n",
       "  "
      ],
      "text/plain": [
       "      Rank                    Name  Net Worth $B   Age Country/Territory  \\\n",
       "2091  1990  ZHANG YUXIANG & FAMILY           1.0  55.0             China   \n",
       "2092  1990            ZHAO HONGFEI           1.0  45.0             China   \n",
       "2093  1990      KOSTYANTIN ZHEVAGO           1.0  46.0           Ukraine   \n",
       "2094  1990    ZHOU YONGLI & FAMILY           1.0  65.0             China   \n",
       "\n",
       "            Source        Industries  \n",
       "2091       apparel  Fashion & Retail  \n",
       "2092      software        Technology  \n",
       "2093        mining   Metals & Mining  \n",
       "2094  conglomerate     Manufacturing  "
      ]
     },
     "execution_count": 37,
     "metadata": {},
     "output_type": "execute_result"
    }
   ],
   "source": [
    "forbes.tail(4)"
   ]
  },
  {
   "cell_type": "code",
   "execution_count": 38,
   "metadata": {
    "colab": {
     "base_uri": "https://localhost:8080/",
     "height": 300
    },
    "id": "xA-udhPBIU6y",
    "outputId": "9ff9e1de-43d8-46c2-f2cc-693cbe405f94"
   },
   "outputs": [
    {
     "data": {
      "text/html": [
       "\n",
       "  <div id=\"df-00531150-f250-4408-8a97-0332a12cf3b5\">\n",
       "    <div class=\"colab-df-container\">\n",
       "      <div>\n",
       "<style scoped>\n",
       "    .dataframe tbody tr th:only-of-type {\n",
       "        vertical-align: middle;\n",
       "    }\n",
       "\n",
       "    .dataframe tbody tr th {\n",
       "        vertical-align: top;\n",
       "    }\n",
       "\n",
       "    .dataframe thead th {\n",
       "        text-align: right;\n",
       "    }\n",
       "</style>\n",
       "<table border=\"1\" class=\"dataframe\">\n",
       "  <thead>\n",
       "    <tr style=\"text-align: right;\">\n",
       "      <th></th>\n",
       "      <th>Rank</th>\n",
       "      <th>Name</th>\n",
       "      <th>Net Worth $B</th>\n",
       "      <th>Age</th>\n",
       "      <th>Country/Territory</th>\n",
       "      <th>Source</th>\n",
       "      <th>Industries</th>\n",
       "    </tr>\n",
       "  </thead>\n",
       "  <tbody>\n",
       "    <tr>\n",
       "      <th>0</th>\n",
       "      <td>1</td>\n",
       "      <td>JEFF BEZOS</td>\n",
       "      <td>113.0</td>\n",
       "      <td>56.0</td>\n",
       "      <td>United States</td>\n",
       "      <td>Amazon</td>\n",
       "      <td>Technology</td>\n",
       "    </tr>\n",
       "    <tr>\n",
       "      <th>1</th>\n",
       "      <td>2</td>\n",
       "      <td>BILL GATES</td>\n",
       "      <td>98.0</td>\n",
       "      <td>64.0</td>\n",
       "      <td>United States</td>\n",
       "      <td>Microsoft</td>\n",
       "      <td>Technology</td>\n",
       "    </tr>\n",
       "    <tr>\n",
       "      <th>2</th>\n",
       "      <td>3</td>\n",
       "      <td>BERNARD ARNAULT &amp; FAMILY</td>\n",
       "      <td>76.0</td>\n",
       "      <td>71.0</td>\n",
       "      <td>France</td>\n",
       "      <td>LVMH</td>\n",
       "      <td>Fashion &amp; Retail</td>\n",
       "    </tr>\n",
       "    <tr>\n",
       "      <th>3</th>\n",
       "      <td>4</td>\n",
       "      <td>WARREN BUFFETT</td>\n",
       "      <td>67.5</td>\n",
       "      <td>89.0</td>\n",
       "      <td>United States</td>\n",
       "      <td>Berkshire Hathaway</td>\n",
       "      <td>Finance &amp; Investments</td>\n",
       "    </tr>\n",
       "    <tr>\n",
       "      <th>4</th>\n",
       "      <td>5</td>\n",
       "      <td>LARRY ELLISON</td>\n",
       "      <td>59.0</td>\n",
       "      <td>75.0</td>\n",
       "      <td>United States</td>\n",
       "      <td>software</td>\n",
       "      <td>Technology</td>\n",
       "    </tr>\n",
       "    <tr>\n",
       "      <th>5</th>\n",
       "      <td>6</td>\n",
       "      <td>AMANCIO ORTEGA</td>\n",
       "      <td>55.1</td>\n",
       "      <td>84.0</td>\n",
       "      <td>Spain</td>\n",
       "      <td>Zara</td>\n",
       "      <td>Fashion &amp; Retail</td>\n",
       "    </tr>\n",
       "    <tr>\n",
       "      <th>6</th>\n",
       "      <td>7</td>\n",
       "      <td>MARK ZUCKERBERG</td>\n",
       "      <td>54.7</td>\n",
       "      <td>35.0</td>\n",
       "      <td>United States</td>\n",
       "      <td>Facebook</td>\n",
       "      <td>Technology</td>\n",
       "    </tr>\n",
       "    <tr>\n",
       "      <th>7</th>\n",
       "      <td>8</td>\n",
       "      <td>JIM WALTON</td>\n",
       "      <td>54.6</td>\n",
       "      <td>71.0</td>\n",
       "      <td>United States</td>\n",
       "      <td>Walmart</td>\n",
       "      <td>Fashion &amp; Retail</td>\n",
       "    </tr>\n",
       "  </tbody>\n",
       "</table>\n",
       "</div>\n",
       "      <button class=\"colab-df-convert\" onclick=\"convertToInteractive('df-00531150-f250-4408-8a97-0332a12cf3b5')\"\n",
       "              title=\"Convert this dataframe to an interactive table.\"\n",
       "              style=\"display:none;\">\n",
       "        \n",
       "  <svg xmlns=\"http://www.w3.org/2000/svg\" height=\"24px\"viewBox=\"0 0 24 24\"\n",
       "       width=\"24px\">\n",
       "    <path d=\"M0 0h24v24H0V0z\" fill=\"none\"/>\n",
       "    <path d=\"M18.56 5.44l.94 2.06.94-2.06 2.06-.94-2.06-.94-.94-2.06-.94 2.06-2.06.94zm-11 1L8.5 8.5l.94-2.06 2.06-.94-2.06-.94L8.5 2.5l-.94 2.06-2.06.94zm10 10l.94 2.06.94-2.06 2.06-.94-2.06-.94-.94-2.06-.94 2.06-2.06.94z\"/><path d=\"M17.41 7.96l-1.37-1.37c-.4-.4-.92-.59-1.43-.59-.52 0-1.04.2-1.43.59L10.3 9.45l-7.72 7.72c-.78.78-.78 2.05 0 2.83L4 21.41c.39.39.9.59 1.41.59.51 0 1.02-.2 1.41-.59l7.78-7.78 2.81-2.81c.8-.78.8-2.07 0-2.86zM5.41 20L4 18.59l7.72-7.72 1.47 1.35L5.41 20z\"/>\n",
       "  </svg>\n",
       "      </button>\n",
       "      \n",
       "  <style>\n",
       "    .colab-df-container {\n",
       "      display:flex;\n",
       "      flex-wrap:wrap;\n",
       "      gap: 12px;\n",
       "    }\n",
       "\n",
       "    .colab-df-convert {\n",
       "      background-color: #E8F0FE;\n",
       "      border: none;\n",
       "      border-radius: 50%;\n",
       "      cursor: pointer;\n",
       "      display: none;\n",
       "      fill: #1967D2;\n",
       "      height: 32px;\n",
       "      padding: 0 0 0 0;\n",
       "      width: 32px;\n",
       "    }\n",
       "\n",
       "    .colab-df-convert:hover {\n",
       "      background-color: #E2EBFA;\n",
       "      box-shadow: 0px 1px 2px rgba(60, 64, 67, 0.3), 0px 1px 3px 1px rgba(60, 64, 67, 0.15);\n",
       "      fill: #174EA6;\n",
       "    }\n",
       "\n",
       "    [theme=dark] .colab-df-convert {\n",
       "      background-color: #3B4455;\n",
       "      fill: #D2E3FC;\n",
       "    }\n",
       "\n",
       "    [theme=dark] .colab-df-convert:hover {\n",
       "      background-color: #434B5C;\n",
       "      box-shadow: 0px 1px 3px 1px rgba(0, 0, 0, 0.15);\n",
       "      filter: drop-shadow(0px 1px 2px rgba(0, 0, 0, 0.3));\n",
       "      fill: #FFFFFF;\n",
       "    }\n",
       "  </style>\n",
       "\n",
       "      <script>\n",
       "        const buttonEl =\n",
       "          document.querySelector('#df-00531150-f250-4408-8a97-0332a12cf3b5 button.colab-df-convert');\n",
       "        buttonEl.style.display =\n",
       "          google.colab.kernel.accessAllowed ? 'block' : 'none';\n",
       "\n",
       "        async function convertToInteractive(key) {\n",
       "          const element = document.querySelector('#df-00531150-f250-4408-8a97-0332a12cf3b5');\n",
       "          const dataTable =\n",
       "            await google.colab.kernel.invokeFunction('convertToInteractive',\n",
       "                                                     [key], {});\n",
       "          if (!dataTable) return;\n",
       "\n",
       "          const docLinkHtml = 'Like what you see? Visit the ' +\n",
       "            '<a target=\"_blank\" href=https://colab.research.google.com/notebooks/data_table.ipynb>data table notebook</a>'\n",
       "            + ' to learn more about interactive tables.';\n",
       "          element.innerHTML = '';\n",
       "          dataTable['output_type'] = 'display_data';\n",
       "          await google.colab.output.renderOutput(dataTable, element);\n",
       "          const docLink = document.createElement('div');\n",
       "          docLink.innerHTML = docLinkHtml;\n",
       "          element.appendChild(docLink);\n",
       "        }\n",
       "      </script>\n",
       "    </div>\n",
       "  </div>\n",
       "  "
      ],
      "text/plain": [
       "   Rank                      Name  Net Worth $B   Age Country/Territory  \\\n",
       "0     1                JEFF BEZOS         113.0  56.0     United States   \n",
       "1     2                BILL GATES          98.0  64.0     United States   \n",
       "2     3  BERNARD ARNAULT & FAMILY          76.0  71.0            France   \n",
       "3     4            WARREN BUFFETT          67.5  89.0     United States   \n",
       "4     5             LARRY ELLISON          59.0  75.0     United States   \n",
       "5     6            AMANCIO ORTEGA          55.1  84.0             Spain   \n",
       "6     7           MARK ZUCKERBERG          54.7  35.0     United States   \n",
       "7     8                JIM WALTON          54.6  71.0     United States   \n",
       "\n",
       "               Source             Industries  \n",
       "0              Amazon             Technology  \n",
       "1           Microsoft             Technology  \n",
       "2                LVMH       Fashion & Retail  \n",
       "3  Berkshire Hathaway  Finance & Investments  \n",
       "4            software             Technology  \n",
       "5                Zara       Fashion & Retail  \n",
       "6            Facebook             Technology  \n",
       "7             Walmart       Fashion & Retail  "
      ]
     },
     "execution_count": 38,
     "metadata": {},
     "output_type": "execute_result"
    }
   ],
   "source": [
    "forbes.head(8)"
   ]
  },
  {
   "cell_type": "markdown",
   "metadata": {
    "id": "5pWPwqRdIU6y"
   },
   "source": [
    "#### 18. Visualizza i maggiori indici di posizione del dataframe `forbes` richiamando un solo modulo sul dataframe"
   ]
  },
  {
   "cell_type": "code",
   "execution_count": 39,
   "metadata": {
    "colab": {
     "base_uri": "https://localhost:8080/",
     "height": 300
    },
    "id": "bqPcVvb6IU6y",
    "outputId": "de38adce-496d-4bd2-ac20-6bce1e88e778",
    "scrolled": true
   },
   "outputs": [
    {
     "data": {
      "text/html": [
       "\n",
       "  <div id=\"df-aa231f92-8960-4a33-8d61-de5bcbbfe0e0\">\n",
       "    <div class=\"colab-df-container\">\n",
       "      <div>\n",
       "<style scoped>\n",
       "    .dataframe tbody tr th:only-of-type {\n",
       "        vertical-align: middle;\n",
       "    }\n",
       "\n",
       "    .dataframe tbody tr th {\n",
       "        vertical-align: top;\n",
       "    }\n",
       "\n",
       "    .dataframe thead th {\n",
       "        text-align: right;\n",
       "    }\n",
       "</style>\n",
       "<table border=\"1\" class=\"dataframe\">\n",
       "  <thead>\n",
       "    <tr style=\"text-align: right;\">\n",
       "      <th></th>\n",
       "      <th>Rank</th>\n",
       "      <th>Net Worth $B</th>\n",
       "      <th>Age</th>\n",
       "    </tr>\n",
       "  </thead>\n",
       "  <tbody>\n",
       "    <tr>\n",
       "      <th>count</th>\n",
       "      <td>2095.000000</td>\n",
       "      <td>2095.000000</td>\n",
       "      <td>2052.000000</td>\n",
       "    </tr>\n",
       "    <tr>\n",
       "      <th>mean</th>\n",
       "      <td>1017.895465</td>\n",
       "      <td>3.836516</td>\n",
       "      <td>64.178850</td>\n",
       "    </tr>\n",
       "    <tr>\n",
       "      <th>std</th>\n",
       "      <td>583.180996</td>\n",
       "      <td>6.644467</td>\n",
       "      <td>13.272036</td>\n",
       "    </tr>\n",
       "    <tr>\n",
       "      <th>min</th>\n",
       "      <td>1.000000</td>\n",
       "      <td>1.000000</td>\n",
       "      <td>22.000000</td>\n",
       "    </tr>\n",
       "    <tr>\n",
       "      <th>25%</th>\n",
       "      <td>514.000000</td>\n",
       "      <td>1.400000</td>\n",
       "      <td>55.000000</td>\n",
       "    </tr>\n",
       "    <tr>\n",
       "      <th>50%</th>\n",
       "      <td>1001.000000</td>\n",
       "      <td>2.100000</td>\n",
       "      <td>64.000000</td>\n",
       "    </tr>\n",
       "    <tr>\n",
       "      <th>75%</th>\n",
       "      <td>1513.000000</td>\n",
       "      <td>3.600000</td>\n",
       "      <td>74.000000</td>\n",
       "    </tr>\n",
       "    <tr>\n",
       "      <th>max</th>\n",
       "      <td>1990.000000</td>\n",
       "      <td>113.000000</td>\n",
       "      <td>101.000000</td>\n",
       "    </tr>\n",
       "  </tbody>\n",
       "</table>\n",
       "</div>\n",
       "      <button class=\"colab-df-convert\" onclick=\"convertToInteractive('df-aa231f92-8960-4a33-8d61-de5bcbbfe0e0')\"\n",
       "              title=\"Convert this dataframe to an interactive table.\"\n",
       "              style=\"display:none;\">\n",
       "        \n",
       "  <svg xmlns=\"http://www.w3.org/2000/svg\" height=\"24px\"viewBox=\"0 0 24 24\"\n",
       "       width=\"24px\">\n",
       "    <path d=\"M0 0h24v24H0V0z\" fill=\"none\"/>\n",
       "    <path d=\"M18.56 5.44l.94 2.06.94-2.06 2.06-.94-2.06-.94-.94-2.06-.94 2.06-2.06.94zm-11 1L8.5 8.5l.94-2.06 2.06-.94-2.06-.94L8.5 2.5l-.94 2.06-2.06.94zm10 10l.94 2.06.94-2.06 2.06-.94-2.06-.94-.94-2.06-.94 2.06-2.06.94z\"/><path d=\"M17.41 7.96l-1.37-1.37c-.4-.4-.92-.59-1.43-.59-.52 0-1.04.2-1.43.59L10.3 9.45l-7.72 7.72c-.78.78-.78 2.05 0 2.83L4 21.41c.39.39.9.59 1.41.59.51 0 1.02-.2 1.41-.59l7.78-7.78 2.81-2.81c.8-.78.8-2.07 0-2.86zM5.41 20L4 18.59l7.72-7.72 1.47 1.35L5.41 20z\"/>\n",
       "  </svg>\n",
       "      </button>\n",
       "      \n",
       "  <style>\n",
       "    .colab-df-container {\n",
       "      display:flex;\n",
       "      flex-wrap:wrap;\n",
       "      gap: 12px;\n",
       "    }\n",
       "\n",
       "    .colab-df-convert {\n",
       "      background-color: #E8F0FE;\n",
       "      border: none;\n",
       "      border-radius: 50%;\n",
       "      cursor: pointer;\n",
       "      display: none;\n",
       "      fill: #1967D2;\n",
       "      height: 32px;\n",
       "      padding: 0 0 0 0;\n",
       "      width: 32px;\n",
       "    }\n",
       "\n",
       "    .colab-df-convert:hover {\n",
       "      background-color: #E2EBFA;\n",
       "      box-shadow: 0px 1px 2px rgba(60, 64, 67, 0.3), 0px 1px 3px 1px rgba(60, 64, 67, 0.15);\n",
       "      fill: #174EA6;\n",
       "    }\n",
       "\n",
       "    [theme=dark] .colab-df-convert {\n",
       "      background-color: #3B4455;\n",
       "      fill: #D2E3FC;\n",
       "    }\n",
       "\n",
       "    [theme=dark] .colab-df-convert:hover {\n",
       "      background-color: #434B5C;\n",
       "      box-shadow: 0px 1px 3px 1px rgba(0, 0, 0, 0.15);\n",
       "      filter: drop-shadow(0px 1px 2px rgba(0, 0, 0, 0.3));\n",
       "      fill: #FFFFFF;\n",
       "    }\n",
       "  </style>\n",
       "\n",
       "      <script>\n",
       "        const buttonEl =\n",
       "          document.querySelector('#df-aa231f92-8960-4a33-8d61-de5bcbbfe0e0 button.colab-df-convert');\n",
       "        buttonEl.style.display =\n",
       "          google.colab.kernel.accessAllowed ? 'block' : 'none';\n",
       "\n",
       "        async function convertToInteractive(key) {\n",
       "          const element = document.querySelector('#df-aa231f92-8960-4a33-8d61-de5bcbbfe0e0');\n",
       "          const dataTable =\n",
       "            await google.colab.kernel.invokeFunction('convertToInteractive',\n",
       "                                                     [key], {});\n",
       "          if (!dataTable) return;\n",
       "\n",
       "          const docLinkHtml = 'Like what you see? Visit the ' +\n",
       "            '<a target=\"_blank\" href=https://colab.research.google.com/notebooks/data_table.ipynb>data table notebook</a>'\n",
       "            + ' to learn more about interactive tables.';\n",
       "          element.innerHTML = '';\n",
       "          dataTable['output_type'] = 'display_data';\n",
       "          await google.colab.output.renderOutput(dataTable, element);\n",
       "          const docLink = document.createElement('div');\n",
       "          docLink.innerHTML = docLinkHtml;\n",
       "          element.appendChild(docLink);\n",
       "        }\n",
       "      </script>\n",
       "    </div>\n",
       "  </div>\n",
       "  "
      ],
      "text/plain": [
       "              Rank  Net Worth $B          Age\n",
       "count  2095.000000   2095.000000  2052.000000\n",
       "mean   1017.895465      3.836516    64.178850\n",
       "std     583.180996      6.644467    13.272036\n",
       "min       1.000000      1.000000    22.000000\n",
       "25%     514.000000      1.400000    55.000000\n",
       "50%    1001.000000      2.100000    64.000000\n",
       "75%    1513.000000      3.600000    74.000000\n",
       "max    1990.000000    113.000000   101.000000"
      ]
     },
     "execution_count": 39,
     "metadata": {},
     "output_type": "execute_result"
    }
   ],
   "source": [
    "forbes.describe()"
   ]
  },
  {
   "cell_type": "markdown",
   "metadata": {
    "id": "XSNUXe3OIU6z"
   },
   "source": [
    "#### 19. Seleziona colonna della variabile `Net Worth $B` e mostra i primi 10 valori / righe\n",
    "\n"
   ]
  },
  {
   "cell_type": "code",
   "execution_count": 40,
   "metadata": {
    "colab": {
     "base_uri": "https://localhost:8080/"
    },
    "id": "YWdOixMYN8SZ",
    "outputId": "46abc60d-f534-49f1-aa4e-a090d984be40"
   },
   "outputs": [
    {
     "data": {
      "text/plain": [
       "Index(['Rank', 'Name', 'Net Worth $B', 'Age', 'Country/Territory', 'Source',\n",
       "       'Industries'],\n",
       "      dtype='object')"
      ]
     },
     "execution_count": 40,
     "metadata": {},
     "output_type": "execute_result"
    }
   ],
   "source": [
    "forbes.columns"
   ]
  },
  {
   "cell_type": "code",
   "execution_count": 41,
   "metadata": {
    "colab": {
     "base_uri": "https://localhost:8080/"
    },
    "id": "F6RIDcTPNu1h",
    "outputId": "ec65b7e4-8639-4727-bf85-94dc0f7315e5"
   },
   "outputs": [
    {
     "data": {
      "text/plain": [
       "0    113.0\n",
       "1     98.0\n",
       "2     76.0\n",
       "3     67.5\n",
       "4     59.0\n",
       "5     55.1\n",
       "6     54.7\n",
       "7     54.6\n",
       "8     54.4\n",
       "9     54.1\n",
       "Name: Net Worth $B, dtype: float64"
      ]
     },
     "execution_count": 41,
     "metadata": {},
     "output_type": "execute_result"
    }
   ],
   "source": [
    "forbes['Net Worth $B'].head(10)"
   ]
  },
  {
   "cell_type": "markdown",
   "metadata": {
    "id": "rUVencSARwBF"
   },
   "source": [
    "#### 20. Rinomina la colonna 'Net Worth $B' col nome 'NW_Bd' e la colonna 'Country/Territory' col nome 'Place'.\n",
    "Usiamo Bd intendendo Bilion dollars."
   ]
  },
  {
   "cell_type": "code",
   "execution_count": 42,
   "metadata": {
    "id": "d5E3AD5XRId5"
   },
   "outputs": [],
   "source": [
    "forbes = forbes.rename(columns={'Net Worth $B':'NW_Bd','Country/Territory':'Place'})"
   ]
  },
  {
   "cell_type": "code",
   "execution_count": 43,
   "metadata": {
    "colab": {
     "base_uri": "https://localhost:8080/",
     "height": 143
    },
    "id": "a5kUD8NCSOIT",
    "outputId": "3b101421-bdcd-4f7c-e954-b1f17d9b47ac"
   },
   "outputs": [
    {
     "data": {
      "text/html": [
       "\n",
       "  <div id=\"df-8698c2a4-1224-4b2c-a22f-690fd0acea08\">\n",
       "    <div class=\"colab-df-container\">\n",
       "      <div>\n",
       "<style scoped>\n",
       "    .dataframe tbody tr th:only-of-type {\n",
       "        vertical-align: middle;\n",
       "    }\n",
       "\n",
       "    .dataframe tbody tr th {\n",
       "        vertical-align: top;\n",
       "    }\n",
       "\n",
       "    .dataframe thead th {\n",
       "        text-align: right;\n",
       "    }\n",
       "</style>\n",
       "<table border=\"1\" class=\"dataframe\">\n",
       "  <thead>\n",
       "    <tr style=\"text-align: right;\">\n",
       "      <th></th>\n",
       "      <th>Rank</th>\n",
       "      <th>Name</th>\n",
       "      <th>NW_Bd</th>\n",
       "      <th>Age</th>\n",
       "      <th>Place</th>\n",
       "      <th>Source</th>\n",
       "      <th>Industries</th>\n",
       "    </tr>\n",
       "  </thead>\n",
       "  <tbody>\n",
       "    <tr>\n",
       "      <th>0</th>\n",
       "      <td>1</td>\n",
       "      <td>JEFF BEZOS</td>\n",
       "      <td>113.0</td>\n",
       "      <td>56.0</td>\n",
       "      <td>United States</td>\n",
       "      <td>Amazon</td>\n",
       "      <td>Technology</td>\n",
       "    </tr>\n",
       "    <tr>\n",
       "      <th>1</th>\n",
       "      <td>2</td>\n",
       "      <td>BILL GATES</td>\n",
       "      <td>98.0</td>\n",
       "      <td>64.0</td>\n",
       "      <td>United States</td>\n",
       "      <td>Microsoft</td>\n",
       "      <td>Technology</td>\n",
       "    </tr>\n",
       "    <tr>\n",
       "      <th>2</th>\n",
       "      <td>3</td>\n",
       "      <td>BERNARD ARNAULT &amp; FAMILY</td>\n",
       "      <td>76.0</td>\n",
       "      <td>71.0</td>\n",
       "      <td>France</td>\n",
       "      <td>LVMH</td>\n",
       "      <td>Fashion &amp; Retail</td>\n",
       "    </tr>\n",
       "  </tbody>\n",
       "</table>\n",
       "</div>\n",
       "      <button class=\"colab-df-convert\" onclick=\"convertToInteractive('df-8698c2a4-1224-4b2c-a22f-690fd0acea08')\"\n",
       "              title=\"Convert this dataframe to an interactive table.\"\n",
       "              style=\"display:none;\">\n",
       "        \n",
       "  <svg xmlns=\"http://www.w3.org/2000/svg\" height=\"24px\"viewBox=\"0 0 24 24\"\n",
       "       width=\"24px\">\n",
       "    <path d=\"M0 0h24v24H0V0z\" fill=\"none\"/>\n",
       "    <path d=\"M18.56 5.44l.94 2.06.94-2.06 2.06-.94-2.06-.94-.94-2.06-.94 2.06-2.06.94zm-11 1L8.5 8.5l.94-2.06 2.06-.94-2.06-.94L8.5 2.5l-.94 2.06-2.06.94zm10 10l.94 2.06.94-2.06 2.06-.94-2.06-.94-.94-2.06-.94 2.06-2.06.94z\"/><path d=\"M17.41 7.96l-1.37-1.37c-.4-.4-.92-.59-1.43-.59-.52 0-1.04.2-1.43.59L10.3 9.45l-7.72 7.72c-.78.78-.78 2.05 0 2.83L4 21.41c.39.39.9.59 1.41.59.51 0 1.02-.2 1.41-.59l7.78-7.78 2.81-2.81c.8-.78.8-2.07 0-2.86zM5.41 20L4 18.59l7.72-7.72 1.47 1.35L5.41 20z\"/>\n",
       "  </svg>\n",
       "      </button>\n",
       "      \n",
       "  <style>\n",
       "    .colab-df-container {\n",
       "      display:flex;\n",
       "      flex-wrap:wrap;\n",
       "      gap: 12px;\n",
       "    }\n",
       "\n",
       "    .colab-df-convert {\n",
       "      background-color: #E8F0FE;\n",
       "      border: none;\n",
       "      border-radius: 50%;\n",
       "      cursor: pointer;\n",
       "      display: none;\n",
       "      fill: #1967D2;\n",
       "      height: 32px;\n",
       "      padding: 0 0 0 0;\n",
       "      width: 32px;\n",
       "    }\n",
       "\n",
       "    .colab-df-convert:hover {\n",
       "      background-color: #E2EBFA;\n",
       "      box-shadow: 0px 1px 2px rgba(60, 64, 67, 0.3), 0px 1px 3px 1px rgba(60, 64, 67, 0.15);\n",
       "      fill: #174EA6;\n",
       "    }\n",
       "\n",
       "    [theme=dark] .colab-df-convert {\n",
       "      background-color: #3B4455;\n",
       "      fill: #D2E3FC;\n",
       "    }\n",
       "\n",
       "    [theme=dark] .colab-df-convert:hover {\n",
       "      background-color: #434B5C;\n",
       "      box-shadow: 0px 1px 3px 1px rgba(0, 0, 0, 0.15);\n",
       "      filter: drop-shadow(0px 1px 2px rgba(0, 0, 0, 0.3));\n",
       "      fill: #FFFFFF;\n",
       "    }\n",
       "  </style>\n",
       "\n",
       "      <script>\n",
       "        const buttonEl =\n",
       "          document.querySelector('#df-8698c2a4-1224-4b2c-a22f-690fd0acea08 button.colab-df-convert');\n",
       "        buttonEl.style.display =\n",
       "          google.colab.kernel.accessAllowed ? 'block' : 'none';\n",
       "\n",
       "        async function convertToInteractive(key) {\n",
       "          const element = document.querySelector('#df-8698c2a4-1224-4b2c-a22f-690fd0acea08');\n",
       "          const dataTable =\n",
       "            await google.colab.kernel.invokeFunction('convertToInteractive',\n",
       "                                                     [key], {});\n",
       "          if (!dataTable) return;\n",
       "\n",
       "          const docLinkHtml = 'Like what you see? Visit the ' +\n",
       "            '<a target=\"_blank\" href=https://colab.research.google.com/notebooks/data_table.ipynb>data table notebook</a>'\n",
       "            + ' to learn more about interactive tables.';\n",
       "          element.innerHTML = '';\n",
       "          dataTable['output_type'] = 'display_data';\n",
       "          await google.colab.output.renderOutput(dataTable, element);\n",
       "          const docLink = document.createElement('div');\n",
       "          docLink.innerHTML = docLinkHtml;\n",
       "          element.appendChild(docLink);\n",
       "        }\n",
       "      </script>\n",
       "    </div>\n",
       "  </div>\n",
       "  "
      ],
      "text/plain": [
       "   Rank                      Name  NW_Bd   Age          Place     Source  \\\n",
       "0     1                JEFF BEZOS  113.0  56.0  United States     Amazon   \n",
       "1     2                BILL GATES   98.0  64.0  United States  Microsoft   \n",
       "2     3  BERNARD ARNAULT & FAMILY   76.0  71.0         France       LVMH   \n",
       "\n",
       "         Industries  \n",
       "0        Technology  \n",
       "1        Technology  \n",
       "2  Fashion & Retail  "
      ]
     },
     "execution_count": 43,
     "metadata": {},
     "output_type": "execute_result"
    }
   ],
   "source": [
    "forbes.head(3)"
   ]
  },
  {
   "cell_type": "markdown",
   "metadata": {
    "id": "qy5dFaEbIU6z"
   },
   "source": [
    "#### 21. Utilizzo di `.iloc` e `.loc` \n",
    "Visualizza solo le osservazioni/righe dalla 22 alla 31 e le ultime tre variabili/colonne usando propriamente **entrambi** i metodi `.iloc` e `.loc` "
   ]
  },
  {
   "cell_type": "code",
   "execution_count": 44,
   "metadata": {
    "colab": {
     "base_uri": "https://localhost:8080/"
    },
    "id": "1VLjKFdJIU60",
    "outputId": "a5069bea-6b7a-4bcc-a792-294f4f3db924"
   },
   "outputs": [
    {
     "data": {
      "text/plain": [
       "Index(['Rank', 'Name', 'NW_Bd', 'Age', 'Place', 'Source', 'Industries'], dtype='object')"
      ]
     },
     "execution_count": 44,
     "metadata": {},
     "output_type": "execute_result"
    }
   ],
   "source": [
    "forbes.columns"
   ]
  },
  {
   "cell_type": "code",
   "execution_count": 45,
   "metadata": {
    "colab": {
     "base_uri": "https://localhost:8080/",
     "height": 363
    },
    "id": "1M05qoBeIU60",
    "outputId": "62e531f5-a2f3-4078-d1e6-73392d2b54aa"
   },
   "outputs": [
    {
     "data": {
      "text/html": [
       "\n",
       "  <div id=\"df-778aacf9-0aa0-4550-97c7-71514c75c405\">\n",
       "    <div class=\"colab-df-container\">\n",
       "      <div>\n",
       "<style scoped>\n",
       "    .dataframe tbody tr th:only-of-type {\n",
       "        vertical-align: middle;\n",
       "    }\n",
       "\n",
       "    .dataframe tbody tr th {\n",
       "        vertical-align: top;\n",
       "    }\n",
       "\n",
       "    .dataframe thead th {\n",
       "        text-align: right;\n",
       "    }\n",
       "</style>\n",
       "<table border=\"1\" class=\"dataframe\">\n",
       "  <thead>\n",
       "    <tr style=\"text-align: right;\">\n",
       "      <th></th>\n",
       "      <th>Place</th>\n",
       "      <th>Source</th>\n",
       "      <th>Industries</th>\n",
       "    </tr>\n",
       "  </thead>\n",
       "  <tbody>\n",
       "    <tr>\n",
       "      <th>22</th>\n",
       "      <td>Germany</td>\n",
       "      <td>supermarkets</td>\n",
       "      <td>Fashion &amp; Retail</td>\n",
       "    </tr>\n",
       "    <tr>\n",
       "      <th>23</th>\n",
       "      <td>Canada</td>\n",
       "      <td>media</td>\n",
       "      <td>Media &amp; Entertainment</td>\n",
       "    </tr>\n",
       "    <tr>\n",
       "      <th>24</th>\n",
       "      <td>United States</td>\n",
       "      <td>Nike</td>\n",
       "      <td>Fashion &amp; Retail</td>\n",
       "    </tr>\n",
       "    <tr>\n",
       "      <th>25</th>\n",
       "      <td>Hong Kong</td>\n",
       "      <td>real estate</td>\n",
       "      <td>Real Estate</td>\n",
       "    </tr>\n",
       "    <tr>\n",
       "      <th>26</th>\n",
       "      <td>France</td>\n",
       "      <td>luxury goods</td>\n",
       "      <td>Fashion &amp; Retail</td>\n",
       "    </tr>\n",
       "    <tr>\n",
       "      <th>27</th>\n",
       "      <td>United States</td>\n",
       "      <td>casinos</td>\n",
       "      <td>Gambling &amp; Casinos</td>\n",
       "    </tr>\n",
       "    <tr>\n",
       "      <th>28</th>\n",
       "      <td>United States</td>\n",
       "      <td>candy, pet food</td>\n",
       "      <td>Food &amp; Beverage</td>\n",
       "    </tr>\n",
       "    <tr>\n",
       "      <th>29</th>\n",
       "      <td>United States</td>\n",
       "      <td>candy, pet food</td>\n",
       "      <td>Food &amp; Beverage</td>\n",
       "    </tr>\n",
       "    <tr>\n",
       "      <th>30</th>\n",
       "      <td>United States</td>\n",
       "      <td>Tesla, SpaceX</td>\n",
       "      <td>Automotive</td>\n",
       "    </tr>\n",
       "    <tr>\n",
       "      <th>31</th>\n",
       "      <td>Italy</td>\n",
       "      <td>Nutella, chocolates</td>\n",
       "      <td>Food &amp; Beverage</td>\n",
       "    </tr>\n",
       "  </tbody>\n",
       "</table>\n",
       "</div>\n",
       "      <button class=\"colab-df-convert\" onclick=\"convertToInteractive('df-778aacf9-0aa0-4550-97c7-71514c75c405')\"\n",
       "              title=\"Convert this dataframe to an interactive table.\"\n",
       "              style=\"display:none;\">\n",
       "        \n",
       "  <svg xmlns=\"http://www.w3.org/2000/svg\" height=\"24px\"viewBox=\"0 0 24 24\"\n",
       "       width=\"24px\">\n",
       "    <path d=\"M0 0h24v24H0V0z\" fill=\"none\"/>\n",
       "    <path d=\"M18.56 5.44l.94 2.06.94-2.06 2.06-.94-2.06-.94-.94-2.06-.94 2.06-2.06.94zm-11 1L8.5 8.5l.94-2.06 2.06-.94-2.06-.94L8.5 2.5l-.94 2.06-2.06.94zm10 10l.94 2.06.94-2.06 2.06-.94-2.06-.94-.94-2.06-.94 2.06-2.06.94z\"/><path d=\"M17.41 7.96l-1.37-1.37c-.4-.4-.92-.59-1.43-.59-.52 0-1.04.2-1.43.59L10.3 9.45l-7.72 7.72c-.78.78-.78 2.05 0 2.83L4 21.41c.39.39.9.59 1.41.59.51 0 1.02-.2 1.41-.59l7.78-7.78 2.81-2.81c.8-.78.8-2.07 0-2.86zM5.41 20L4 18.59l7.72-7.72 1.47 1.35L5.41 20z\"/>\n",
       "  </svg>\n",
       "      </button>\n",
       "      \n",
       "  <style>\n",
       "    .colab-df-container {\n",
       "      display:flex;\n",
       "      flex-wrap:wrap;\n",
       "      gap: 12px;\n",
       "    }\n",
       "\n",
       "    .colab-df-convert {\n",
       "      background-color: #E8F0FE;\n",
       "      border: none;\n",
       "      border-radius: 50%;\n",
       "      cursor: pointer;\n",
       "      display: none;\n",
       "      fill: #1967D2;\n",
       "      height: 32px;\n",
       "      padding: 0 0 0 0;\n",
       "      width: 32px;\n",
       "    }\n",
       "\n",
       "    .colab-df-convert:hover {\n",
       "      background-color: #E2EBFA;\n",
       "      box-shadow: 0px 1px 2px rgba(60, 64, 67, 0.3), 0px 1px 3px 1px rgba(60, 64, 67, 0.15);\n",
       "      fill: #174EA6;\n",
       "    }\n",
       "\n",
       "    [theme=dark] .colab-df-convert {\n",
       "      background-color: #3B4455;\n",
       "      fill: #D2E3FC;\n",
       "    }\n",
       "\n",
       "    [theme=dark] .colab-df-convert:hover {\n",
       "      background-color: #434B5C;\n",
       "      box-shadow: 0px 1px 3px 1px rgba(0, 0, 0, 0.15);\n",
       "      filter: drop-shadow(0px 1px 2px rgba(0, 0, 0, 0.3));\n",
       "      fill: #FFFFFF;\n",
       "    }\n",
       "  </style>\n",
       "\n",
       "      <script>\n",
       "        const buttonEl =\n",
       "          document.querySelector('#df-778aacf9-0aa0-4550-97c7-71514c75c405 button.colab-df-convert');\n",
       "        buttonEl.style.display =\n",
       "          google.colab.kernel.accessAllowed ? 'block' : 'none';\n",
       "\n",
       "        async function convertToInteractive(key) {\n",
       "          const element = document.querySelector('#df-778aacf9-0aa0-4550-97c7-71514c75c405');\n",
       "          const dataTable =\n",
       "            await google.colab.kernel.invokeFunction('convertToInteractive',\n",
       "                                                     [key], {});\n",
       "          if (!dataTable) return;\n",
       "\n",
       "          const docLinkHtml = 'Like what you see? Visit the ' +\n",
       "            '<a target=\"_blank\" href=https://colab.research.google.com/notebooks/data_table.ipynb>data table notebook</a>'\n",
       "            + ' to learn more about interactive tables.';\n",
       "          element.innerHTML = '';\n",
       "          dataTable['output_type'] = 'display_data';\n",
       "          await google.colab.output.renderOutput(dataTable, element);\n",
       "          const docLink = document.createElement('div');\n",
       "          docLink.innerHTML = docLinkHtml;\n",
       "          element.appendChild(docLink);\n",
       "        }\n",
       "      </script>\n",
       "    </div>\n",
       "  </div>\n",
       "  "
      ],
      "text/plain": [
       "            Place               Source             Industries\n",
       "22        Germany         supermarkets       Fashion & Retail\n",
       "23         Canada                media  Media & Entertainment\n",
       "24  United States                 Nike       Fashion & Retail\n",
       "25      Hong Kong          real estate            Real Estate\n",
       "26         France         luxury goods       Fashion & Retail\n",
       "27  United States              casinos     Gambling & Casinos\n",
       "28  United States      candy, pet food        Food & Beverage\n",
       "29  United States      candy, pet food        Food & Beverage\n",
       "30  United States        Tesla, SpaceX             Automotive\n",
       "31          Italy  Nutella, chocolates        Food & Beverage"
      ]
     },
     "execution_count": 45,
     "metadata": {},
     "output_type": "execute_result"
    }
   ],
   "source": [
    "forbes.iloc[22:32,-3:]"
   ]
  },
  {
   "cell_type": "code",
   "execution_count": 46,
   "metadata": {
    "colab": {
     "base_uri": "https://localhost:8080/",
     "height": 363
    },
    "id": "cbvv_IFDIU60",
    "outputId": "030ba7c9-cddd-459d-d03a-ec7725ff919a"
   },
   "outputs": [
    {
     "data": {
      "text/html": [
       "\n",
       "  <div id=\"df-48739b53-3104-454c-a2aa-34f2074f1166\">\n",
       "    <div class=\"colab-df-container\">\n",
       "      <div>\n",
       "<style scoped>\n",
       "    .dataframe tbody tr th:only-of-type {\n",
       "        vertical-align: middle;\n",
       "    }\n",
       "\n",
       "    .dataframe tbody tr th {\n",
       "        vertical-align: top;\n",
       "    }\n",
       "\n",
       "    .dataframe thead th {\n",
       "        text-align: right;\n",
       "    }\n",
       "</style>\n",
       "<table border=\"1\" class=\"dataframe\">\n",
       "  <thead>\n",
       "    <tr style=\"text-align: right;\">\n",
       "      <th></th>\n",
       "      <th>Place</th>\n",
       "      <th>Source</th>\n",
       "      <th>Industries</th>\n",
       "    </tr>\n",
       "  </thead>\n",
       "  <tbody>\n",
       "    <tr>\n",
       "      <th>22</th>\n",
       "      <td>Germany</td>\n",
       "      <td>supermarkets</td>\n",
       "      <td>Fashion &amp; Retail</td>\n",
       "    </tr>\n",
       "    <tr>\n",
       "      <th>23</th>\n",
       "      <td>Canada</td>\n",
       "      <td>media</td>\n",
       "      <td>Media &amp; Entertainment</td>\n",
       "    </tr>\n",
       "    <tr>\n",
       "      <th>24</th>\n",
       "      <td>United States</td>\n",
       "      <td>Nike</td>\n",
       "      <td>Fashion &amp; Retail</td>\n",
       "    </tr>\n",
       "    <tr>\n",
       "      <th>25</th>\n",
       "      <td>Hong Kong</td>\n",
       "      <td>real estate</td>\n",
       "      <td>Real Estate</td>\n",
       "    </tr>\n",
       "    <tr>\n",
       "      <th>26</th>\n",
       "      <td>France</td>\n",
       "      <td>luxury goods</td>\n",
       "      <td>Fashion &amp; Retail</td>\n",
       "    </tr>\n",
       "    <tr>\n",
       "      <th>27</th>\n",
       "      <td>United States</td>\n",
       "      <td>casinos</td>\n",
       "      <td>Gambling &amp; Casinos</td>\n",
       "    </tr>\n",
       "    <tr>\n",
       "      <th>28</th>\n",
       "      <td>United States</td>\n",
       "      <td>candy, pet food</td>\n",
       "      <td>Food &amp; Beverage</td>\n",
       "    </tr>\n",
       "    <tr>\n",
       "      <th>29</th>\n",
       "      <td>United States</td>\n",
       "      <td>candy, pet food</td>\n",
       "      <td>Food &amp; Beverage</td>\n",
       "    </tr>\n",
       "    <tr>\n",
       "      <th>30</th>\n",
       "      <td>United States</td>\n",
       "      <td>Tesla, SpaceX</td>\n",
       "      <td>Automotive</td>\n",
       "    </tr>\n",
       "    <tr>\n",
       "      <th>31</th>\n",
       "      <td>Italy</td>\n",
       "      <td>Nutella, chocolates</td>\n",
       "      <td>Food &amp; Beverage</td>\n",
       "    </tr>\n",
       "  </tbody>\n",
       "</table>\n",
       "</div>\n",
       "      <button class=\"colab-df-convert\" onclick=\"convertToInteractive('df-48739b53-3104-454c-a2aa-34f2074f1166')\"\n",
       "              title=\"Convert this dataframe to an interactive table.\"\n",
       "              style=\"display:none;\">\n",
       "        \n",
       "  <svg xmlns=\"http://www.w3.org/2000/svg\" height=\"24px\"viewBox=\"0 0 24 24\"\n",
       "       width=\"24px\">\n",
       "    <path d=\"M0 0h24v24H0V0z\" fill=\"none\"/>\n",
       "    <path d=\"M18.56 5.44l.94 2.06.94-2.06 2.06-.94-2.06-.94-.94-2.06-.94 2.06-2.06.94zm-11 1L8.5 8.5l.94-2.06 2.06-.94-2.06-.94L8.5 2.5l-.94 2.06-2.06.94zm10 10l.94 2.06.94-2.06 2.06-.94-2.06-.94-.94-2.06-.94 2.06-2.06.94z\"/><path d=\"M17.41 7.96l-1.37-1.37c-.4-.4-.92-.59-1.43-.59-.52 0-1.04.2-1.43.59L10.3 9.45l-7.72 7.72c-.78.78-.78 2.05 0 2.83L4 21.41c.39.39.9.59 1.41.59.51 0 1.02-.2 1.41-.59l7.78-7.78 2.81-2.81c.8-.78.8-2.07 0-2.86zM5.41 20L4 18.59l7.72-7.72 1.47 1.35L5.41 20z\"/>\n",
       "  </svg>\n",
       "      </button>\n",
       "      \n",
       "  <style>\n",
       "    .colab-df-container {\n",
       "      display:flex;\n",
       "      flex-wrap:wrap;\n",
       "      gap: 12px;\n",
       "    }\n",
       "\n",
       "    .colab-df-convert {\n",
       "      background-color: #E8F0FE;\n",
       "      border: none;\n",
       "      border-radius: 50%;\n",
       "      cursor: pointer;\n",
       "      display: none;\n",
       "      fill: #1967D2;\n",
       "      height: 32px;\n",
       "      padding: 0 0 0 0;\n",
       "      width: 32px;\n",
       "    }\n",
       "\n",
       "    .colab-df-convert:hover {\n",
       "      background-color: #E2EBFA;\n",
       "      box-shadow: 0px 1px 2px rgba(60, 64, 67, 0.3), 0px 1px 3px 1px rgba(60, 64, 67, 0.15);\n",
       "      fill: #174EA6;\n",
       "    }\n",
       "\n",
       "    [theme=dark] .colab-df-convert {\n",
       "      background-color: #3B4455;\n",
       "      fill: #D2E3FC;\n",
       "    }\n",
       "\n",
       "    [theme=dark] .colab-df-convert:hover {\n",
       "      background-color: #434B5C;\n",
       "      box-shadow: 0px 1px 3px 1px rgba(0, 0, 0, 0.15);\n",
       "      filter: drop-shadow(0px 1px 2px rgba(0, 0, 0, 0.3));\n",
       "      fill: #FFFFFF;\n",
       "    }\n",
       "  </style>\n",
       "\n",
       "      <script>\n",
       "        const buttonEl =\n",
       "          document.querySelector('#df-48739b53-3104-454c-a2aa-34f2074f1166 button.colab-df-convert');\n",
       "        buttonEl.style.display =\n",
       "          google.colab.kernel.accessAllowed ? 'block' : 'none';\n",
       "\n",
       "        async function convertToInteractive(key) {\n",
       "          const element = document.querySelector('#df-48739b53-3104-454c-a2aa-34f2074f1166');\n",
       "          const dataTable =\n",
       "            await google.colab.kernel.invokeFunction('convertToInteractive',\n",
       "                                                     [key], {});\n",
       "          if (!dataTable) return;\n",
       "\n",
       "          const docLinkHtml = 'Like what you see? Visit the ' +\n",
       "            '<a target=\"_blank\" href=https://colab.research.google.com/notebooks/data_table.ipynb>data table notebook</a>'\n",
       "            + ' to learn more about interactive tables.';\n",
       "          element.innerHTML = '';\n",
       "          dataTable['output_type'] = 'display_data';\n",
       "          await google.colab.output.renderOutput(dataTable, element);\n",
       "          const docLink = document.createElement('div');\n",
       "          docLink.innerHTML = docLinkHtml;\n",
       "          element.appendChild(docLink);\n",
       "        }\n",
       "      </script>\n",
       "    </div>\n",
       "  </div>\n",
       "  "
      ],
      "text/plain": [
       "            Place               Source             Industries\n",
       "22        Germany         supermarkets       Fashion & Retail\n",
       "23         Canada                media  Media & Entertainment\n",
       "24  United States                 Nike       Fashion & Retail\n",
       "25      Hong Kong          real estate            Real Estate\n",
       "26         France         luxury goods       Fashion & Retail\n",
       "27  United States              casinos     Gambling & Casinos\n",
       "28  United States      candy, pet food        Food & Beverage\n",
       "29  United States      candy, pet food        Food & Beverage\n",
       "30  United States        Tesla, SpaceX             Automotive\n",
       "31          Italy  Nutella, chocolates        Food & Beverage"
      ]
     },
     "execution_count": 46,
     "metadata": {},
     "output_type": "execute_result"
    }
   ],
   "source": [
    "forbes.loc[22:31, 'Place':'Industries'] "
   ]
  },
  {
   "cell_type": "markdown",
   "metadata": {
    "id": "TvQqjR14Trpq"
   },
   "source": [
    "#### 22. Conta i valori delle ricorrenze della colonna 'Industries' \n",
    "\n",
    "Quale valore compare più volte?"
   ]
  },
  {
   "cell_type": "code",
   "execution_count": 47,
   "metadata": {
    "colab": {
     "base_uri": "https://localhost:8080/"
    },
    "id": "hMg8TZeTTrzY",
    "outputId": "8def60f4-a256-4fa3-aadc-b5d25e2cd43c"
   },
   "outputs": [
    {
     "data": {
      "text/plain": [
       "Finance & Investments         298\n",
       "Technology                    241\n",
       "Fashion & Retail              209\n",
       "Manufacturing                 198\n",
       "Real Estate                   196\n",
       "Diversified                   169\n",
       "Food & Beverage               168\n",
       "Healthcare                    149\n",
       "Energy                         80\n",
       "Media & Entertainment          74\n",
       "Service                        65\n",
       "Metals & Mining                59\n",
       "Automotive                     47\n",
       "Construction & Engineering     35\n",
       "Logistics                      33\n",
       "Telecom                        29\n",
       "Sports                         24\n",
       "Gambling & Casinos             21\n",
       "Name: Industries, dtype: int64"
      ]
     },
     "execution_count": 47,
     "metadata": {},
     "output_type": "execute_result"
    }
   ],
   "source": [
    "forbes['Industries'].value_counts()"
   ]
  },
  {
   "cell_type": "markdown",
   "metadata": {
    "id": "eoo0pY3CRRDA"
   },
   "source": [
    "Il valore che compare più volte è 'Finance & Investments', compare 298 volte."
   ]
  },
  {
   "cell_type": "code",
   "execution_count": 47,
   "metadata": {
    "id": "UrzmyqaURmBQ"
   },
   "outputs": [],
   "source": []
  },
  {
   "cell_type": "markdown",
   "metadata": {
    "id": "hto6_oiDIU60"
   },
   "source": [
    "#### 23. Seleziona solo le righe aventi la colonna 'Industries' col valore di 'Real Estate', e mostra le prima 20 righe"
   ]
  },
  {
   "cell_type": "code",
   "execution_count": 48,
   "metadata": {
    "colab": {
     "base_uri": "https://localhost:8080/",
     "height": 677
    },
    "id": "28yvBdzGHKv4",
    "outputId": "fffed72b-516a-4017-9827-0267e07046a5"
   },
   "outputs": [
    {
     "data": {
      "text/html": [
       "\n",
       "  <div id=\"df-a417afbe-9835-4437-8305-63d07570688c\">\n",
       "    <div class=\"colab-df-container\">\n",
       "      <div>\n",
       "<style scoped>\n",
       "    .dataframe tbody tr th:only-of-type {\n",
       "        vertical-align: middle;\n",
       "    }\n",
       "\n",
       "    .dataframe tbody tr th {\n",
       "        vertical-align: top;\n",
       "    }\n",
       "\n",
       "    .dataframe thead th {\n",
       "        text-align: right;\n",
       "    }\n",
       "</style>\n",
       "<table border=\"1\" class=\"dataframe\">\n",
       "  <thead>\n",
       "    <tr style=\"text-align: right;\">\n",
       "      <th></th>\n",
       "      <th>Rank</th>\n",
       "      <th>Name</th>\n",
       "      <th>NW_Bd</th>\n",
       "      <th>Age</th>\n",
       "      <th>Place</th>\n",
       "      <th>Source</th>\n",
       "      <th>Industries</th>\n",
       "    </tr>\n",
       "  </thead>\n",
       "  <tbody>\n",
       "    <tr>\n",
       "      <th>25</th>\n",
       "      <td>26</td>\n",
       "      <td>LEE SHAU KEE</td>\n",
       "      <td>28.1</td>\n",
       "      <td>92.0</td>\n",
       "      <td>Hong Kong</td>\n",
       "      <td>real estate</td>\n",
       "      <td>Real Estate</td>\n",
       "    </tr>\n",
       "    <tr>\n",
       "      <th>33</th>\n",
       "      <td>34</td>\n",
       "      <td>HUI KA YAN</td>\n",
       "      <td>21.8</td>\n",
       "      <td>61.0</td>\n",
       "      <td>China</td>\n",
       "      <td>real estate</td>\n",
       "      <td>Real Estate</td>\n",
       "    </tr>\n",
       "    <tr>\n",
       "      <th>37</th>\n",
       "      <td>38</td>\n",
       "      <td>YANG HUIYAN &amp; FAMILY</td>\n",
       "      <td>20.3</td>\n",
       "      <td>38.0</td>\n",
       "      <td>China</td>\n",
       "      <td>real estate</td>\n",
       "      <td>Real Estate</td>\n",
       "    </tr>\n",
       "    <tr>\n",
       "      <th>58</th>\n",
       "      <td>59</td>\n",
       "      <td>JOSEPH LAU</td>\n",
       "      <td>16.4</td>\n",
       "      <td>68.0</td>\n",
       "      <td>Hong Kong</td>\n",
       "      <td>real estate</td>\n",
       "      <td>Real Estate</td>\n",
       "    </tr>\n",
       "    <tr>\n",
       "      <th>62</th>\n",
       "      <td>63</td>\n",
       "      <td>DONALD BREN</td>\n",
       "      <td>15.5</td>\n",
       "      <td>87.0</td>\n",
       "      <td>United States</td>\n",
       "      <td>real estate</td>\n",
       "      <td>Real Estate</td>\n",
       "    </tr>\n",
       "    <tr>\n",
       "      <th>75</th>\n",
       "      <td>76</td>\n",
       "      <td>WANG JIANLIN</td>\n",
       "      <td>14.0</td>\n",
       "      <td>65.0</td>\n",
       "      <td>China</td>\n",
       "      <td>real estate</td>\n",
       "      <td>Real Estate</td>\n",
       "    </tr>\n",
       "    <tr>\n",
       "      <th>101</th>\n",
       "      <td>101</td>\n",
       "      <td>WU YAJUN &amp; FAMILY</td>\n",
       "      <td>12.0</td>\n",
       "      <td>56.0</td>\n",
       "      <td>China</td>\n",
       "      <td>real estate</td>\n",
       "      <td>Real Estate</td>\n",
       "    </tr>\n",
       "    <tr>\n",
       "      <th>102</th>\n",
       "      <td>103</td>\n",
       "      <td>KWONG SIU-HING</td>\n",
       "      <td>11.9</td>\n",
       "      <td>90.0</td>\n",
       "      <td>Hong Kong</td>\n",
       "      <td>real estate</td>\n",
       "      <td>Real Estate</td>\n",
       "    </tr>\n",
       "    <tr>\n",
       "      <th>111</th>\n",
       "      <td>110</td>\n",
       "      <td>PETER WOO</td>\n",
       "      <td>11.5</td>\n",
       "      <td>73.0</td>\n",
       "      <td>Hong Kong</td>\n",
       "      <td>real estate</td>\n",
       "      <td>Real Estate</td>\n",
       "    </tr>\n",
       "    <tr>\n",
       "      <th>122</th>\n",
       "      <td>123</td>\n",
       "      <td>ROBERT &amp; PHILIP NG</td>\n",
       "      <td>10.9</td>\n",
       "      <td>NaN</td>\n",
       "      <td>Singapore</td>\n",
       "      <td>real estate</td>\n",
       "      <td>Real Estate</td>\n",
       "    </tr>\n",
       "    <tr>\n",
       "      <th>144</th>\n",
       "      <td>145</td>\n",
       "      <td>HUI WING MAU</td>\n",
       "      <td>9.5</td>\n",
       "      <td>69.0</td>\n",
       "      <td>Hong Kong</td>\n",
       "      <td>real estate</td>\n",
       "      <td>Real Estate</td>\n",
       "    </tr>\n",
       "    <tr>\n",
       "      <th>148</th>\n",
       "      <td>147</td>\n",
       "      <td>SUN HONGBIN</td>\n",
       "      <td>9.2</td>\n",
       "      <td>57.0</td>\n",
       "      <td>United States</td>\n",
       "      <td>real estate</td>\n",
       "      <td>Real Estate</td>\n",
       "    </tr>\n",
       "    <tr>\n",
       "      <th>190</th>\n",
       "      <td>185</td>\n",
       "      <td>STEPHEN ROSS</td>\n",
       "      <td>7.6</td>\n",
       "      <td>79.0</td>\n",
       "      <td>United States</td>\n",
       "      <td>real estate</td>\n",
       "      <td>Real Estate</td>\n",
       "    </tr>\n",
       "    <tr>\n",
       "      <th>210</th>\n",
       "      <td>211</td>\n",
       "      <td>CAI KUI</td>\n",
       "      <td>6.9</td>\n",
       "      <td>57.0</td>\n",
       "      <td>China</td>\n",
       "      <td>real estate</td>\n",
       "      <td>Real Estate</td>\n",
       "    </tr>\n",
       "    <tr>\n",
       "      <th>216</th>\n",
       "      <td>216</td>\n",
       "      <td>DAVID REUBEN</td>\n",
       "      <td>6.8</td>\n",
       "      <td>81.0</td>\n",
       "      <td>United Kingdom</td>\n",
       "      <td>investments, real estate</td>\n",
       "      <td>Real Estate</td>\n",
       "    </tr>\n",
       "    <tr>\n",
       "      <th>224</th>\n",
       "      <td>224</td>\n",
       "      <td>FRANCIS CHOI</td>\n",
       "      <td>6.6</td>\n",
       "      <td>72.0</td>\n",
       "      <td>Hong Kong</td>\n",
       "      <td>real estate</td>\n",
       "      <td>Real Estate</td>\n",
       "    </tr>\n",
       "    <tr>\n",
       "      <th>232</th>\n",
       "      <td>230</td>\n",
       "      <td>KEI HOI PANG</td>\n",
       "      <td>6.5</td>\n",
       "      <td>54.0</td>\n",
       "      <td>China</td>\n",
       "      <td>real estate</td>\n",
       "      <td>Real Estate</td>\n",
       "    </tr>\n",
       "    <tr>\n",
       "      <th>237</th>\n",
       "      <td>237</td>\n",
       "      <td>IAN &amp; RICHARD LIVINGSTONE</td>\n",
       "      <td>6.4</td>\n",
       "      <td>NaN</td>\n",
       "      <td>United Kingdom</td>\n",
       "      <td>real estate</td>\n",
       "      <td>Real Estate</td>\n",
       "    </tr>\n",
       "    <tr>\n",
       "      <th>246</th>\n",
       "      <td>241</td>\n",
       "      <td>HARRY TRIGUBOFF</td>\n",
       "      <td>6.3</td>\n",
       "      <td>87.0</td>\n",
       "      <td>Australia</td>\n",
       "      <td>real estate</td>\n",
       "      <td>Real Estate</td>\n",
       "    </tr>\n",
       "    <tr>\n",
       "      <th>274</th>\n",
       "      <td>274</td>\n",
       "      <td>CHAN LAIWA &amp; FAMILY</td>\n",
       "      <td>5.8</td>\n",
       "      <td>79.0</td>\n",
       "      <td>China</td>\n",
       "      <td>real estate</td>\n",
       "      <td>Real Estate</td>\n",
       "    </tr>\n",
       "  </tbody>\n",
       "</table>\n",
       "</div>\n",
       "      <button class=\"colab-df-convert\" onclick=\"convertToInteractive('df-a417afbe-9835-4437-8305-63d07570688c')\"\n",
       "              title=\"Convert this dataframe to an interactive table.\"\n",
       "              style=\"display:none;\">\n",
       "        \n",
       "  <svg xmlns=\"http://www.w3.org/2000/svg\" height=\"24px\"viewBox=\"0 0 24 24\"\n",
       "       width=\"24px\">\n",
       "    <path d=\"M0 0h24v24H0V0z\" fill=\"none\"/>\n",
       "    <path d=\"M18.56 5.44l.94 2.06.94-2.06 2.06-.94-2.06-.94-.94-2.06-.94 2.06-2.06.94zm-11 1L8.5 8.5l.94-2.06 2.06-.94-2.06-.94L8.5 2.5l-.94 2.06-2.06.94zm10 10l.94 2.06.94-2.06 2.06-.94-2.06-.94-.94-2.06-.94 2.06-2.06.94z\"/><path d=\"M17.41 7.96l-1.37-1.37c-.4-.4-.92-.59-1.43-.59-.52 0-1.04.2-1.43.59L10.3 9.45l-7.72 7.72c-.78.78-.78 2.05 0 2.83L4 21.41c.39.39.9.59 1.41.59.51 0 1.02-.2 1.41-.59l7.78-7.78 2.81-2.81c.8-.78.8-2.07 0-2.86zM5.41 20L4 18.59l7.72-7.72 1.47 1.35L5.41 20z\"/>\n",
       "  </svg>\n",
       "      </button>\n",
       "      \n",
       "  <style>\n",
       "    .colab-df-container {\n",
       "      display:flex;\n",
       "      flex-wrap:wrap;\n",
       "      gap: 12px;\n",
       "    }\n",
       "\n",
       "    .colab-df-convert {\n",
       "      background-color: #E8F0FE;\n",
       "      border: none;\n",
       "      border-radius: 50%;\n",
       "      cursor: pointer;\n",
       "      display: none;\n",
       "      fill: #1967D2;\n",
       "      height: 32px;\n",
       "      padding: 0 0 0 0;\n",
       "      width: 32px;\n",
       "    }\n",
       "\n",
       "    .colab-df-convert:hover {\n",
       "      background-color: #E2EBFA;\n",
       "      box-shadow: 0px 1px 2px rgba(60, 64, 67, 0.3), 0px 1px 3px 1px rgba(60, 64, 67, 0.15);\n",
       "      fill: #174EA6;\n",
       "    }\n",
       "\n",
       "    [theme=dark] .colab-df-convert {\n",
       "      background-color: #3B4455;\n",
       "      fill: #D2E3FC;\n",
       "    }\n",
       "\n",
       "    [theme=dark] .colab-df-convert:hover {\n",
       "      background-color: #434B5C;\n",
       "      box-shadow: 0px 1px 3px 1px rgba(0, 0, 0, 0.15);\n",
       "      filter: drop-shadow(0px 1px 2px rgba(0, 0, 0, 0.3));\n",
       "      fill: #FFFFFF;\n",
       "    }\n",
       "  </style>\n",
       "\n",
       "      <script>\n",
       "        const buttonEl =\n",
       "          document.querySelector('#df-a417afbe-9835-4437-8305-63d07570688c button.colab-df-convert');\n",
       "        buttonEl.style.display =\n",
       "          google.colab.kernel.accessAllowed ? 'block' : 'none';\n",
       "\n",
       "        async function convertToInteractive(key) {\n",
       "          const element = document.querySelector('#df-a417afbe-9835-4437-8305-63d07570688c');\n",
       "          const dataTable =\n",
       "            await google.colab.kernel.invokeFunction('convertToInteractive',\n",
       "                                                     [key], {});\n",
       "          if (!dataTable) return;\n",
       "\n",
       "          const docLinkHtml = 'Like what you see? Visit the ' +\n",
       "            '<a target=\"_blank\" href=https://colab.research.google.com/notebooks/data_table.ipynb>data table notebook</a>'\n",
       "            + ' to learn more about interactive tables.';\n",
       "          element.innerHTML = '';\n",
       "          dataTable['output_type'] = 'display_data';\n",
       "          await google.colab.output.renderOutput(dataTable, element);\n",
       "          const docLink = document.createElement('div');\n",
       "          docLink.innerHTML = docLinkHtml;\n",
       "          element.appendChild(docLink);\n",
       "        }\n",
       "      </script>\n",
       "    </div>\n",
       "  </div>\n",
       "  "
      ],
      "text/plain": [
       "     Rank                       Name  NW_Bd   Age           Place  \\\n",
       "25     26               LEE SHAU KEE   28.1  92.0       Hong Kong   \n",
       "33     34                 HUI KA YAN   21.8  61.0           China   \n",
       "37     38       YANG HUIYAN & FAMILY   20.3  38.0           China   \n",
       "58     59                 JOSEPH LAU   16.4  68.0       Hong Kong   \n",
       "62     63                DONALD BREN   15.5  87.0   United States   \n",
       "75     76               WANG JIANLIN   14.0  65.0           China   \n",
       "101   101          WU YAJUN & FAMILY   12.0  56.0           China   \n",
       "102   103             KWONG SIU-HING   11.9  90.0       Hong Kong   \n",
       "111   110                  PETER WOO   11.5  73.0       Hong Kong   \n",
       "122   123         ROBERT & PHILIP NG   10.9   NaN       Singapore   \n",
       "144   145               HUI WING MAU    9.5  69.0       Hong Kong   \n",
       "148   147                SUN HONGBIN    9.2  57.0   United States   \n",
       "190   185               STEPHEN ROSS    7.6  79.0   United States   \n",
       "210   211                    CAI KUI    6.9  57.0           China   \n",
       "216   216               DAVID REUBEN    6.8  81.0  United Kingdom   \n",
       "224   224               FRANCIS CHOI    6.6  72.0       Hong Kong   \n",
       "232   230               KEI HOI PANG    6.5  54.0           China   \n",
       "237   237  IAN & RICHARD LIVINGSTONE    6.4   NaN  United Kingdom   \n",
       "246   241            HARRY TRIGUBOFF    6.3  87.0       Australia   \n",
       "274   274        CHAN LAIWA & FAMILY    5.8  79.0           China   \n",
       "\n",
       "                       Source   Industries  \n",
       "25                real estate  Real Estate  \n",
       "33                real estate  Real Estate  \n",
       "37                real estate  Real Estate  \n",
       "58                real estate  Real Estate  \n",
       "62                real estate  Real Estate  \n",
       "75                real estate  Real Estate  \n",
       "101               real estate  Real Estate  \n",
       "102               real estate  Real Estate  \n",
       "111               real estate  Real Estate  \n",
       "122               real estate  Real Estate  \n",
       "144               real estate  Real Estate  \n",
       "148               real estate  Real Estate  \n",
       "190               real estate  Real Estate  \n",
       "210               real estate  Real Estate  \n",
       "216  investments, real estate  Real Estate  \n",
       "224               real estate  Real Estate  \n",
       "232               real estate  Real Estate  \n",
       "237               real estate  Real Estate  \n",
       "246               real estate  Real Estate  \n",
       "274               real estate  Real Estate  "
      ]
     },
     "execution_count": 48,
     "metadata": {},
     "output_type": "execute_result"
    }
   ],
   "source": [
    "forbes[forbes['Industries'] == 'Real Estate'].head(20)"
   ]
  },
  {
   "cell_type": "markdown",
   "metadata": {
    "id": "jDaaSVWYUS1-"
   },
   "source": [
    "#### 24. Quanti valori unici ha la colonna 'Place' (rinominata al punto 20.)?"
   ]
  },
  {
   "cell_type": "code",
   "execution_count": 49,
   "metadata": {
    "colab": {
     "base_uri": "https://localhost:8080/"
    },
    "id": "qSLNOQzjUQDE",
    "outputId": "ef74a936-ab6f-4942-d368-454077d5c064"
   },
   "outputs": [
    {
     "data": {
      "text/plain": [
       "72"
      ]
     },
     "execution_count": 49,
     "metadata": {},
     "output_type": "execute_result"
    }
   ],
   "source": [
    "forbes['Place'].nunique()"
   ]
  },
  {
   "cell_type": "markdown",
   "metadata": {
    "id": "Wyk0WfWURqUz"
   },
   "source": [
    "La colonna 'Place' ha 72 valori unici."
   ]
  },
  {
   "cell_type": "markdown",
   "metadata": {
    "id": "G6kmiDvQUm3e"
   },
   "source": [
    "#### 25. Seleziona solo le righe con valori della colonna 'NW_Bd' strettamente maggiori di 2.5 e strettamente minori di 3.3.\n",
    "\n",
    "Quante righe otteniamo?"
   ]
  },
  {
   "cell_type": "code",
   "execution_count": 50,
   "metadata": {
    "colab": {
     "base_uri": "https://localhost:8080/"
    },
    "id": "LqxbySXbUlb7",
    "outputId": "6a4f885e-57dc-48a1-8938-b657ac3ed167"
   },
   "outputs": [
    {
     "data": {
      "text/plain": [
       "Index(['Rank', 'Name', 'NW_Bd', 'Age', 'Place', 'Source', 'Industries'], dtype='object')"
      ]
     },
     "execution_count": 50,
     "metadata": {},
     "output_type": "execute_result"
    }
   ],
   "source": [
    "forbes.columns"
   ]
  },
  {
   "cell_type": "code",
   "execution_count": 51,
   "metadata": {
    "colab": {
     "base_uri": "https://localhost:8080/",
     "height": 424
    },
    "id": "a84-yPnXIU61",
    "outputId": "4f87066f-98e2-4d7a-fa05-1187b85dae2f"
   },
   "outputs": [
    {
     "data": {
      "text/html": [
       "\n",
       "  <div id=\"df-dcdf0a92-c34d-4d47-baae-ea9644fe3263\">\n",
       "    <div class=\"colab-df-container\">\n",
       "      <div>\n",
       "<style scoped>\n",
       "    .dataframe tbody tr th:only-of-type {\n",
       "        vertical-align: middle;\n",
       "    }\n",
       "\n",
       "    .dataframe tbody tr th {\n",
       "        vertical-align: top;\n",
       "    }\n",
       "\n",
       "    .dataframe thead th {\n",
       "        text-align: right;\n",
       "    }\n",
       "</style>\n",
       "<table border=\"1\" class=\"dataframe\">\n",
       "  <thead>\n",
       "    <tr style=\"text-align: right;\">\n",
       "      <th></th>\n",
       "      <th>Rank</th>\n",
       "      <th>Name</th>\n",
       "      <th>NW_Bd</th>\n",
       "      <th>Age</th>\n",
       "      <th>Place</th>\n",
       "      <th>Source</th>\n",
       "      <th>Industries</th>\n",
       "    </tr>\n",
       "  </thead>\n",
       "  <tbody>\n",
       "    <tr>\n",
       "      <th>615</th>\n",
       "      <td>616</td>\n",
       "      <td>ANDREJ BABIS</td>\n",
       "      <td>3.2</td>\n",
       "      <td>65.0</td>\n",
       "      <td>Czechia</td>\n",
       "      <td>agriculture</td>\n",
       "      <td>Food &amp; Beverage</td>\n",
       "    </tr>\n",
       "    <tr>\n",
       "      <th>616</th>\n",
       "      <td>616</td>\n",
       "      <td>GAYLE BENSON</td>\n",
       "      <td>3.2</td>\n",
       "      <td>73.0</td>\n",
       "      <td>United States</td>\n",
       "      <td>pro sports teams</td>\n",
       "      <td>Sports</td>\n",
       "    </tr>\n",
       "    <tr>\n",
       "      <th>617</th>\n",
       "      <td>616</td>\n",
       "      <td>BERT BEVERIDGE</td>\n",
       "      <td>3.2</td>\n",
       "      <td>58.0</td>\n",
       "      <td>United States</td>\n",
       "      <td>vodka</td>\n",
       "      <td>Food &amp; Beverage</td>\n",
       "    </tr>\n",
       "    <tr>\n",
       "      <th>618</th>\n",
       "      <td>616</td>\n",
       "      <td>CHARLES COHEN</td>\n",
       "      <td>3.2</td>\n",
       "      <td>68.0</td>\n",
       "      <td>United States</td>\n",
       "      <td>real estate</td>\n",
       "      <td>Real Estate</td>\n",
       "    </tr>\n",
       "    <tr>\n",
       "      <th>619</th>\n",
       "      <td>616</td>\n",
       "      <td>JOHN COLLISON</td>\n",
       "      <td>3.2</td>\n",
       "      <td>29.0</td>\n",
       "      <td>Ireland</td>\n",
       "      <td>payments software</td>\n",
       "      <td>Technology</td>\n",
       "    </tr>\n",
       "    <tr>\n",
       "      <th>...</th>\n",
       "      <td>...</td>\n",
       "      <td>...</td>\n",
       "      <td>...</td>\n",
       "      <td>...</td>\n",
       "      <td>...</td>\n",
       "      <td>...</td>\n",
       "      <td>...</td>\n",
       "    </tr>\n",
       "    <tr>\n",
       "      <th>830</th>\n",
       "      <td>804</td>\n",
       "      <td>LAWRENCE STROLL</td>\n",
       "      <td>2.6</td>\n",
       "      <td>60.0</td>\n",
       "      <td>Canada</td>\n",
       "      <td>fashion investments</td>\n",
       "      <td>Fashion &amp; Retail</td>\n",
       "    </tr>\n",
       "    <tr>\n",
       "      <th>831</th>\n",
       "      <td>804</td>\n",
       "      <td>IVAR TOLLEFSEN</td>\n",
       "      <td>2.6</td>\n",
       "      <td>58.0</td>\n",
       "      <td>Norway</td>\n",
       "      <td>real estate</td>\n",
       "      <td>Real Estate</td>\n",
       "    </tr>\n",
       "    <tr>\n",
       "      <th>832</th>\n",
       "      <td>804</td>\n",
       "      <td>TSAI HONG-TU</td>\n",
       "      <td>2.6</td>\n",
       "      <td>67.0</td>\n",
       "      <td>Taiwan</td>\n",
       "      <td>finance</td>\n",
       "      <td>Finance &amp; Investments</td>\n",
       "    </tr>\n",
       "    <tr>\n",
       "      <th>833</th>\n",
       "      <td>804</td>\n",
       "      <td>TY WARNER</td>\n",
       "      <td>2.6</td>\n",
       "      <td>75.0</td>\n",
       "      <td>United States</td>\n",
       "      <td>real estate, plush toys</td>\n",
       "      <td>Real Estate</td>\n",
       "    </tr>\n",
       "    <tr>\n",
       "      <th>834</th>\n",
       "      <td>804</td>\n",
       "      <td>ZHANG LI</td>\n",
       "      <td>2.6</td>\n",
       "      <td>67.0</td>\n",
       "      <td>China</td>\n",
       "      <td>real estate</td>\n",
       "      <td>Real Estate</td>\n",
       "    </tr>\n",
       "  </tbody>\n",
       "</table>\n",
       "<p>220 rows × 7 columns</p>\n",
       "</div>\n",
       "      <button class=\"colab-df-convert\" onclick=\"convertToInteractive('df-dcdf0a92-c34d-4d47-baae-ea9644fe3263')\"\n",
       "              title=\"Convert this dataframe to an interactive table.\"\n",
       "              style=\"display:none;\">\n",
       "        \n",
       "  <svg xmlns=\"http://www.w3.org/2000/svg\" height=\"24px\"viewBox=\"0 0 24 24\"\n",
       "       width=\"24px\">\n",
       "    <path d=\"M0 0h24v24H0V0z\" fill=\"none\"/>\n",
       "    <path d=\"M18.56 5.44l.94 2.06.94-2.06 2.06-.94-2.06-.94-.94-2.06-.94 2.06-2.06.94zm-11 1L8.5 8.5l.94-2.06 2.06-.94-2.06-.94L8.5 2.5l-.94 2.06-2.06.94zm10 10l.94 2.06.94-2.06 2.06-.94-2.06-.94-.94-2.06-.94 2.06-2.06.94z\"/><path d=\"M17.41 7.96l-1.37-1.37c-.4-.4-.92-.59-1.43-.59-.52 0-1.04.2-1.43.59L10.3 9.45l-7.72 7.72c-.78.78-.78 2.05 0 2.83L4 21.41c.39.39.9.59 1.41.59.51 0 1.02-.2 1.41-.59l7.78-7.78 2.81-2.81c.8-.78.8-2.07 0-2.86zM5.41 20L4 18.59l7.72-7.72 1.47 1.35L5.41 20z\"/>\n",
       "  </svg>\n",
       "      </button>\n",
       "      \n",
       "  <style>\n",
       "    .colab-df-container {\n",
       "      display:flex;\n",
       "      flex-wrap:wrap;\n",
       "      gap: 12px;\n",
       "    }\n",
       "\n",
       "    .colab-df-convert {\n",
       "      background-color: #E8F0FE;\n",
       "      border: none;\n",
       "      border-radius: 50%;\n",
       "      cursor: pointer;\n",
       "      display: none;\n",
       "      fill: #1967D2;\n",
       "      height: 32px;\n",
       "      padding: 0 0 0 0;\n",
       "      width: 32px;\n",
       "    }\n",
       "\n",
       "    .colab-df-convert:hover {\n",
       "      background-color: #E2EBFA;\n",
       "      box-shadow: 0px 1px 2px rgba(60, 64, 67, 0.3), 0px 1px 3px 1px rgba(60, 64, 67, 0.15);\n",
       "      fill: #174EA6;\n",
       "    }\n",
       "\n",
       "    [theme=dark] .colab-df-convert {\n",
       "      background-color: #3B4455;\n",
       "      fill: #D2E3FC;\n",
       "    }\n",
       "\n",
       "    [theme=dark] .colab-df-convert:hover {\n",
       "      background-color: #434B5C;\n",
       "      box-shadow: 0px 1px 3px 1px rgba(0, 0, 0, 0.15);\n",
       "      filter: drop-shadow(0px 1px 2px rgba(0, 0, 0, 0.3));\n",
       "      fill: #FFFFFF;\n",
       "    }\n",
       "  </style>\n",
       "\n",
       "      <script>\n",
       "        const buttonEl =\n",
       "          document.querySelector('#df-dcdf0a92-c34d-4d47-baae-ea9644fe3263 button.colab-df-convert');\n",
       "        buttonEl.style.display =\n",
       "          google.colab.kernel.accessAllowed ? 'block' : 'none';\n",
       "\n",
       "        async function convertToInteractive(key) {\n",
       "          const element = document.querySelector('#df-dcdf0a92-c34d-4d47-baae-ea9644fe3263');\n",
       "          const dataTable =\n",
       "            await google.colab.kernel.invokeFunction('convertToInteractive',\n",
       "                                                     [key], {});\n",
       "          if (!dataTable) return;\n",
       "\n",
       "          const docLinkHtml = 'Like what you see? Visit the ' +\n",
       "            '<a target=\"_blank\" href=https://colab.research.google.com/notebooks/data_table.ipynb>data table notebook</a>'\n",
       "            + ' to learn more about interactive tables.';\n",
       "          element.innerHTML = '';\n",
       "          dataTable['output_type'] = 'display_data';\n",
       "          await google.colab.output.renderOutput(dataTable, element);\n",
       "          const docLink = document.createElement('div');\n",
       "          docLink.innerHTML = docLinkHtml;\n",
       "          element.appendChild(docLink);\n",
       "        }\n",
       "      </script>\n",
       "    </div>\n",
       "  </div>\n",
       "  "
      ],
      "text/plain": [
       "     Rank             Name  NW_Bd   Age          Place  \\\n",
       "615   616     ANDREJ BABIS    3.2  65.0        Czechia   \n",
       "616   616     GAYLE BENSON    3.2  73.0  United States   \n",
       "617   616   BERT BEVERIDGE    3.2  58.0  United States   \n",
       "618   616    CHARLES COHEN    3.2  68.0  United States   \n",
       "619   616    JOHN COLLISON    3.2  29.0        Ireland   \n",
       "..    ...              ...    ...   ...            ...   \n",
       "830   804  LAWRENCE STROLL    2.6  60.0         Canada   \n",
       "831   804   IVAR TOLLEFSEN    2.6  58.0         Norway   \n",
       "832   804     TSAI HONG-TU    2.6  67.0         Taiwan   \n",
       "833   804        TY WARNER    2.6  75.0  United States   \n",
       "834   804         ZHANG LI    2.6  67.0          China   \n",
       "\n",
       "                      Source             Industries  \n",
       "615              agriculture        Food & Beverage  \n",
       "616         pro sports teams                 Sports  \n",
       "617                    vodka        Food & Beverage  \n",
       "618              real estate            Real Estate  \n",
       "619        payments software             Technology  \n",
       "..                       ...                    ...  \n",
       "830      fashion investments       Fashion & Retail  \n",
       "831              real estate            Real Estate  \n",
       "832                  finance  Finance & Investments  \n",
       "833  real estate, plush toys            Real Estate  \n",
       "834              real estate            Real Estate  \n",
       "\n",
       "[220 rows x 7 columns]"
      ]
     },
     "execution_count": 51,
     "metadata": {},
     "output_type": "execute_result"
    }
   ],
   "source": [
    "forbes[(forbes['NW_Bd'] > 2.5) & (forbes['NW_Bd'] < 3.3)]"
   ]
  },
  {
   "cell_type": "code",
   "execution_count": 51,
   "metadata": {
    "id": "H1HVBzlOR-0k"
   },
   "outputs": [],
   "source": []
  },
  {
   "cell_type": "markdown",
   "metadata": {
    "id": "BP2cYimfVa7F"
   },
   "source": [
    "#### 26. Chi sono le prime 10 persone più ricche nel settore ('Industries') 'Technology' che vivono ('Place') in 'United States'?"
   ]
  },
  {
   "cell_type": "code",
   "execution_count": 52,
   "metadata": {
    "colab": {
     "base_uri": "https://localhost:8080/",
     "height": 363
    },
    "id": "SQ5JRR73VbWt",
    "outputId": "76275161-1c04-493c-fe65-b61bd1f5ad7f"
   },
   "outputs": [
    {
     "data": {
      "text/html": [
       "\n",
       "  <div id=\"df-ce8e4e58-24d9-4d2f-a78a-61f9a37865f6\">\n",
       "    <div class=\"colab-df-container\">\n",
       "      <div>\n",
       "<style scoped>\n",
       "    .dataframe tbody tr th:only-of-type {\n",
       "        vertical-align: middle;\n",
       "    }\n",
       "\n",
       "    .dataframe tbody tr th {\n",
       "        vertical-align: top;\n",
       "    }\n",
       "\n",
       "    .dataframe thead th {\n",
       "        text-align: right;\n",
       "    }\n",
       "</style>\n",
       "<table border=\"1\" class=\"dataframe\">\n",
       "  <thead>\n",
       "    <tr style=\"text-align: right;\">\n",
       "      <th></th>\n",
       "      <th>Rank</th>\n",
       "      <th>Name</th>\n",
       "      <th>NW_Bd</th>\n",
       "      <th>Age</th>\n",
       "      <th>Place</th>\n",
       "      <th>Source</th>\n",
       "      <th>Industries</th>\n",
       "    </tr>\n",
       "  </thead>\n",
       "  <tbody>\n",
       "    <tr>\n",
       "      <th>0</th>\n",
       "      <td>1</td>\n",
       "      <td>JEFF BEZOS</td>\n",
       "      <td>113.0</td>\n",
       "      <td>56.0</td>\n",
       "      <td>United States</td>\n",
       "      <td>Amazon</td>\n",
       "      <td>Technology</td>\n",
       "    </tr>\n",
       "    <tr>\n",
       "      <th>1</th>\n",
       "      <td>2</td>\n",
       "      <td>BILL GATES</td>\n",
       "      <td>98.0</td>\n",
       "      <td>64.0</td>\n",
       "      <td>United States</td>\n",
       "      <td>Microsoft</td>\n",
       "      <td>Technology</td>\n",
       "    </tr>\n",
       "    <tr>\n",
       "      <th>4</th>\n",
       "      <td>5</td>\n",
       "      <td>LARRY ELLISON</td>\n",
       "      <td>59.0</td>\n",
       "      <td>75.0</td>\n",
       "      <td>United States</td>\n",
       "      <td>software</td>\n",
       "      <td>Technology</td>\n",
       "    </tr>\n",
       "    <tr>\n",
       "      <th>6</th>\n",
       "      <td>7</td>\n",
       "      <td>MARK ZUCKERBERG</td>\n",
       "      <td>54.7</td>\n",
       "      <td>35.0</td>\n",
       "      <td>United States</td>\n",
       "      <td>Facebook</td>\n",
       "      <td>Technology</td>\n",
       "    </tr>\n",
       "    <tr>\n",
       "      <th>10</th>\n",
       "      <td>11</td>\n",
       "      <td>STEVE BALLMER</td>\n",
       "      <td>52.7</td>\n",
       "      <td>64.0</td>\n",
       "      <td>United States</td>\n",
       "      <td>Microsoft</td>\n",
       "      <td>Technology</td>\n",
       "    </tr>\n",
       "    <tr>\n",
       "      <th>12</th>\n",
       "      <td>13</td>\n",
       "      <td>LARRY PAGE</td>\n",
       "      <td>50.9</td>\n",
       "      <td>47.0</td>\n",
       "      <td>United States</td>\n",
       "      <td>Google</td>\n",
       "      <td>Technology</td>\n",
       "    </tr>\n",
       "    <tr>\n",
       "      <th>13</th>\n",
       "      <td>14</td>\n",
       "      <td>SERGEY BRIN</td>\n",
       "      <td>49.1</td>\n",
       "      <td>46.0</td>\n",
       "      <td>United States</td>\n",
       "      <td>Google</td>\n",
       "      <td>Technology</td>\n",
       "    </tr>\n",
       "    <tr>\n",
       "      <th>21</th>\n",
       "      <td>22</td>\n",
       "      <td>MACKENZIE SCOTT</td>\n",
       "      <td>36.0</td>\n",
       "      <td>50.0</td>\n",
       "      <td>United States</td>\n",
       "      <td>Amazon.com</td>\n",
       "      <td>Technology</td>\n",
       "    </tr>\n",
       "    <tr>\n",
       "      <th>32</th>\n",
       "      <td>33</td>\n",
       "      <td>MICHAEL DELL</td>\n",
       "      <td>22.9</td>\n",
       "      <td>55.0</td>\n",
       "      <td>United States</td>\n",
       "      <td>Dell computers</td>\n",
       "      <td>Technology</td>\n",
       "    </tr>\n",
       "    <tr>\n",
       "      <th>59</th>\n",
       "      <td>59</td>\n",
       "      <td>LAURENE POWELL JOBS &amp; FAMILY</td>\n",
       "      <td>16.4</td>\n",
       "      <td>56.0</td>\n",
       "      <td>United States</td>\n",
       "      <td>Apple, Disney</td>\n",
       "      <td>Technology</td>\n",
       "    </tr>\n",
       "  </tbody>\n",
       "</table>\n",
       "</div>\n",
       "      <button class=\"colab-df-convert\" onclick=\"convertToInteractive('df-ce8e4e58-24d9-4d2f-a78a-61f9a37865f6')\"\n",
       "              title=\"Convert this dataframe to an interactive table.\"\n",
       "              style=\"display:none;\">\n",
       "        \n",
       "  <svg xmlns=\"http://www.w3.org/2000/svg\" height=\"24px\"viewBox=\"0 0 24 24\"\n",
       "       width=\"24px\">\n",
       "    <path d=\"M0 0h24v24H0V0z\" fill=\"none\"/>\n",
       "    <path d=\"M18.56 5.44l.94 2.06.94-2.06 2.06-.94-2.06-.94-.94-2.06-.94 2.06-2.06.94zm-11 1L8.5 8.5l.94-2.06 2.06-.94-2.06-.94L8.5 2.5l-.94 2.06-2.06.94zm10 10l.94 2.06.94-2.06 2.06-.94-2.06-.94-.94-2.06-.94 2.06-2.06.94z\"/><path d=\"M17.41 7.96l-1.37-1.37c-.4-.4-.92-.59-1.43-.59-.52 0-1.04.2-1.43.59L10.3 9.45l-7.72 7.72c-.78.78-.78 2.05 0 2.83L4 21.41c.39.39.9.59 1.41.59.51 0 1.02-.2 1.41-.59l7.78-7.78 2.81-2.81c.8-.78.8-2.07 0-2.86zM5.41 20L4 18.59l7.72-7.72 1.47 1.35L5.41 20z\"/>\n",
       "  </svg>\n",
       "      </button>\n",
       "      \n",
       "  <style>\n",
       "    .colab-df-container {\n",
       "      display:flex;\n",
       "      flex-wrap:wrap;\n",
       "      gap: 12px;\n",
       "    }\n",
       "\n",
       "    .colab-df-convert {\n",
       "      background-color: #E8F0FE;\n",
       "      border: none;\n",
       "      border-radius: 50%;\n",
       "      cursor: pointer;\n",
       "      display: none;\n",
       "      fill: #1967D2;\n",
       "      height: 32px;\n",
       "      padding: 0 0 0 0;\n",
       "      width: 32px;\n",
       "    }\n",
       "\n",
       "    .colab-df-convert:hover {\n",
       "      background-color: #E2EBFA;\n",
       "      box-shadow: 0px 1px 2px rgba(60, 64, 67, 0.3), 0px 1px 3px 1px rgba(60, 64, 67, 0.15);\n",
       "      fill: #174EA6;\n",
       "    }\n",
       "\n",
       "    [theme=dark] .colab-df-convert {\n",
       "      background-color: #3B4455;\n",
       "      fill: #D2E3FC;\n",
       "    }\n",
       "\n",
       "    [theme=dark] .colab-df-convert:hover {\n",
       "      background-color: #434B5C;\n",
       "      box-shadow: 0px 1px 3px 1px rgba(0, 0, 0, 0.15);\n",
       "      filter: drop-shadow(0px 1px 2px rgba(0, 0, 0, 0.3));\n",
       "      fill: #FFFFFF;\n",
       "    }\n",
       "  </style>\n",
       "\n",
       "      <script>\n",
       "        const buttonEl =\n",
       "          document.querySelector('#df-ce8e4e58-24d9-4d2f-a78a-61f9a37865f6 button.colab-df-convert');\n",
       "        buttonEl.style.display =\n",
       "          google.colab.kernel.accessAllowed ? 'block' : 'none';\n",
       "\n",
       "        async function convertToInteractive(key) {\n",
       "          const element = document.querySelector('#df-ce8e4e58-24d9-4d2f-a78a-61f9a37865f6');\n",
       "          const dataTable =\n",
       "            await google.colab.kernel.invokeFunction('convertToInteractive',\n",
       "                                                     [key], {});\n",
       "          if (!dataTable) return;\n",
       "\n",
       "          const docLinkHtml = 'Like what you see? Visit the ' +\n",
       "            '<a target=\"_blank\" href=https://colab.research.google.com/notebooks/data_table.ipynb>data table notebook</a>'\n",
       "            + ' to learn more about interactive tables.';\n",
       "          element.innerHTML = '';\n",
       "          dataTable['output_type'] = 'display_data';\n",
       "          await google.colab.output.renderOutput(dataTable, element);\n",
       "          const docLink = document.createElement('div');\n",
       "          docLink.innerHTML = docLinkHtml;\n",
       "          element.appendChild(docLink);\n",
       "        }\n",
       "      </script>\n",
       "    </div>\n",
       "  </div>\n",
       "  "
      ],
      "text/plain": [
       "    Rank                          Name  NW_Bd   Age          Place  \\\n",
       "0      1                    JEFF BEZOS  113.0  56.0  United States   \n",
       "1      2                    BILL GATES   98.0  64.0  United States   \n",
       "4      5                 LARRY ELLISON   59.0  75.0  United States   \n",
       "6      7               MARK ZUCKERBERG   54.7  35.0  United States   \n",
       "10    11                 STEVE BALLMER   52.7  64.0  United States   \n",
       "12    13                    LARRY PAGE   50.9  47.0  United States   \n",
       "13    14                   SERGEY BRIN   49.1  46.0  United States   \n",
       "21    22               MACKENZIE SCOTT   36.0  50.0  United States   \n",
       "32    33                  MICHAEL DELL   22.9  55.0  United States   \n",
       "59    59  LAURENE POWELL JOBS & FAMILY   16.4  56.0  United States   \n",
       "\n",
       "            Source  Industries  \n",
       "0           Amazon  Technology  \n",
       "1        Microsoft  Technology  \n",
       "4         software  Technology  \n",
       "6         Facebook  Technology  \n",
       "10       Microsoft  Technology  \n",
       "12          Google  Technology  \n",
       "13          Google  Technology  \n",
       "21      Amazon.com  Technology  \n",
       "32  Dell computers  Technology  \n",
       "59   Apple, Disney  Technology  "
      ]
     },
     "execution_count": 52,
     "metadata": {},
     "output_type": "execute_result"
    }
   ],
   "source": [
    "tech_us = forbes[(forbes['Industries'] == 'Technology') & (forbes['Place'] == 'United States')]\n",
    "tech_us.sort_values('NW_Bd', ascending = False).head(10)"
   ]
  },
  {
   "cell_type": "markdown",
   "metadata": {
    "id": "UJSly78bVbiw"
   },
   "source": [
    "## 27. Quale 'Industries' conta più valori per gli italiani più ricchi in questo dataset?\n",
    "\n",
    "Puoi prima selezionare e salvare chi ha 'Place' di valore 'Italy', e poi contare i valori per colonna 'Industries'."
   ]
  },
  {
   "cell_type": "code",
   "execution_count": 53,
   "metadata": {
    "id": "FUtIONKlVbwh"
   },
   "outputs": [],
   "source": [
    "it = forbes[forbes['Place']=='Italy']"
   ]
  },
  {
   "cell_type": "code",
   "execution_count": 54,
   "metadata": {
    "colab": {
     "base_uri": "https://localhost:8080/"
    },
    "id": "6_Swmq-3XYkP",
    "outputId": "14bb0966-9788-456a-bc3a-e77869e9d08e"
   },
   "outputs": [
    {
     "data": {
      "text/plain": [
       "Fashion & Retail              19\n",
       "Food & Beverage                6\n",
       "Diversified                    3\n",
       "Healthcare                     2\n",
       "Metals & Mining                1\n",
       "Automotive                     1\n",
       "Finance & Investments          1\n",
       "Construction & Engineering     1\n",
       "Energy                         1\n",
       "Service                        1\n",
       "Name: Industries, dtype: int64"
      ]
     },
     "execution_count": 54,
     "metadata": {},
     "output_type": "execute_result"
    }
   ],
   "source": [
    "it['Industries'].value_counts()"
   ]
  },
  {
   "cell_type": "markdown",
   "metadata": {
    "id": "ALVO7DcMS_Bl"
   },
   "source": [
    "Il settore 'Fashion & Retail' compare più volte per gli italiani in questo dataset."
   ]
  },
  {
   "cell_type": "code",
   "execution_count": 54,
   "metadata": {
    "id": "DSrP7R6QS8Bf"
   },
   "outputs": [],
   "source": []
  },
  {
   "cell_type": "markdown",
   "metadata": {
    "id": "nxw3Szm1Xrdd"
   },
   "source": [
    "#### 28. Crea una nuova colonna chiamata 'NW_Be' che tramite `.apply()` e una `lambda` che converta da dollari (colonna 'NW_Bd') a euro e arrotondi a due decimali.\n",
    "\n",
    "Al momento 1 dollaro è 0.9363 euro.  \n",
    "Quindi 15 dollari sono 14.0445 euro (15 * 0.9363)."
   ]
  },
  {
   "cell_type": "code",
   "execution_count": 55,
   "metadata": {
    "colab": {
     "base_uri": "https://localhost:8080/",
     "height": 206
    },
    "id": "6tsORfL1U9f7",
    "outputId": "23ed31c6-27a5-4c6a-d147-19ab1404c9a2"
   },
   "outputs": [
    {
     "data": {
      "text/html": [
       "\n",
       "  <div id=\"df-c48cd395-7f6d-4e27-8b57-6ce4d3fd2fc0\">\n",
       "    <div class=\"colab-df-container\">\n",
       "      <div>\n",
       "<style scoped>\n",
       "    .dataframe tbody tr th:only-of-type {\n",
       "        vertical-align: middle;\n",
       "    }\n",
       "\n",
       "    .dataframe tbody tr th {\n",
       "        vertical-align: top;\n",
       "    }\n",
       "\n",
       "    .dataframe thead th {\n",
       "        text-align: right;\n",
       "    }\n",
       "</style>\n",
       "<table border=\"1\" class=\"dataframe\">\n",
       "  <thead>\n",
       "    <tr style=\"text-align: right;\">\n",
       "      <th></th>\n",
       "      <th>Rank</th>\n",
       "      <th>Name</th>\n",
       "      <th>NW_Bd</th>\n",
       "      <th>Age</th>\n",
       "      <th>Place</th>\n",
       "      <th>Source</th>\n",
       "      <th>Industries</th>\n",
       "      <th>NW_Be</th>\n",
       "    </tr>\n",
       "  </thead>\n",
       "  <tbody>\n",
       "    <tr>\n",
       "      <th>0</th>\n",
       "      <td>1</td>\n",
       "      <td>JEFF BEZOS</td>\n",
       "      <td>113.0</td>\n",
       "      <td>56.0</td>\n",
       "      <td>United States</td>\n",
       "      <td>Amazon</td>\n",
       "      <td>Technology</td>\n",
       "      <td>105.80</td>\n",
       "    </tr>\n",
       "    <tr>\n",
       "      <th>1</th>\n",
       "      <td>2</td>\n",
       "      <td>BILL GATES</td>\n",
       "      <td>98.0</td>\n",
       "      <td>64.0</td>\n",
       "      <td>United States</td>\n",
       "      <td>Microsoft</td>\n",
       "      <td>Technology</td>\n",
       "      <td>91.76</td>\n",
       "    </tr>\n",
       "    <tr>\n",
       "      <th>2</th>\n",
       "      <td>3</td>\n",
       "      <td>BERNARD ARNAULT &amp; FAMILY</td>\n",
       "      <td>76.0</td>\n",
       "      <td>71.0</td>\n",
       "      <td>France</td>\n",
       "      <td>LVMH</td>\n",
       "      <td>Fashion &amp; Retail</td>\n",
       "      <td>71.16</td>\n",
       "    </tr>\n",
       "    <tr>\n",
       "      <th>3</th>\n",
       "      <td>4</td>\n",
       "      <td>WARREN BUFFETT</td>\n",
       "      <td>67.5</td>\n",
       "      <td>89.0</td>\n",
       "      <td>United States</td>\n",
       "      <td>Berkshire Hathaway</td>\n",
       "      <td>Finance &amp; Investments</td>\n",
       "      <td>63.20</td>\n",
       "    </tr>\n",
       "    <tr>\n",
       "      <th>4</th>\n",
       "      <td>5</td>\n",
       "      <td>LARRY ELLISON</td>\n",
       "      <td>59.0</td>\n",
       "      <td>75.0</td>\n",
       "      <td>United States</td>\n",
       "      <td>software</td>\n",
       "      <td>Technology</td>\n",
       "      <td>55.24</td>\n",
       "    </tr>\n",
       "  </tbody>\n",
       "</table>\n",
       "</div>\n",
       "      <button class=\"colab-df-convert\" onclick=\"convertToInteractive('df-c48cd395-7f6d-4e27-8b57-6ce4d3fd2fc0')\"\n",
       "              title=\"Convert this dataframe to an interactive table.\"\n",
       "              style=\"display:none;\">\n",
       "        \n",
       "  <svg xmlns=\"http://www.w3.org/2000/svg\" height=\"24px\"viewBox=\"0 0 24 24\"\n",
       "       width=\"24px\">\n",
       "    <path d=\"M0 0h24v24H0V0z\" fill=\"none\"/>\n",
       "    <path d=\"M18.56 5.44l.94 2.06.94-2.06 2.06-.94-2.06-.94-.94-2.06-.94 2.06-2.06.94zm-11 1L8.5 8.5l.94-2.06 2.06-.94-2.06-.94L8.5 2.5l-.94 2.06-2.06.94zm10 10l.94 2.06.94-2.06 2.06-.94-2.06-.94-.94-2.06-.94 2.06-2.06.94z\"/><path d=\"M17.41 7.96l-1.37-1.37c-.4-.4-.92-.59-1.43-.59-.52 0-1.04.2-1.43.59L10.3 9.45l-7.72 7.72c-.78.78-.78 2.05 0 2.83L4 21.41c.39.39.9.59 1.41.59.51 0 1.02-.2 1.41-.59l7.78-7.78 2.81-2.81c.8-.78.8-2.07 0-2.86zM5.41 20L4 18.59l7.72-7.72 1.47 1.35L5.41 20z\"/>\n",
       "  </svg>\n",
       "      </button>\n",
       "      \n",
       "  <style>\n",
       "    .colab-df-container {\n",
       "      display:flex;\n",
       "      flex-wrap:wrap;\n",
       "      gap: 12px;\n",
       "    }\n",
       "\n",
       "    .colab-df-convert {\n",
       "      background-color: #E8F0FE;\n",
       "      border: none;\n",
       "      border-radius: 50%;\n",
       "      cursor: pointer;\n",
       "      display: none;\n",
       "      fill: #1967D2;\n",
       "      height: 32px;\n",
       "      padding: 0 0 0 0;\n",
       "      width: 32px;\n",
       "    }\n",
       "\n",
       "    .colab-df-convert:hover {\n",
       "      background-color: #E2EBFA;\n",
       "      box-shadow: 0px 1px 2px rgba(60, 64, 67, 0.3), 0px 1px 3px 1px rgba(60, 64, 67, 0.15);\n",
       "      fill: #174EA6;\n",
       "    }\n",
       "\n",
       "    [theme=dark] .colab-df-convert {\n",
       "      background-color: #3B4455;\n",
       "      fill: #D2E3FC;\n",
       "    }\n",
       "\n",
       "    [theme=dark] .colab-df-convert:hover {\n",
       "      background-color: #434B5C;\n",
       "      box-shadow: 0px 1px 3px 1px rgba(0, 0, 0, 0.15);\n",
       "      filter: drop-shadow(0px 1px 2px rgba(0, 0, 0, 0.3));\n",
       "      fill: #FFFFFF;\n",
       "    }\n",
       "  </style>\n",
       "\n",
       "      <script>\n",
       "        const buttonEl =\n",
       "          document.querySelector('#df-c48cd395-7f6d-4e27-8b57-6ce4d3fd2fc0 button.colab-df-convert');\n",
       "        buttonEl.style.display =\n",
       "          google.colab.kernel.accessAllowed ? 'block' : 'none';\n",
       "\n",
       "        async function convertToInteractive(key) {\n",
       "          const element = document.querySelector('#df-c48cd395-7f6d-4e27-8b57-6ce4d3fd2fc0');\n",
       "          const dataTable =\n",
       "            await google.colab.kernel.invokeFunction('convertToInteractive',\n",
       "                                                     [key], {});\n",
       "          if (!dataTable) return;\n",
       "\n",
       "          const docLinkHtml = 'Like what you see? Visit the ' +\n",
       "            '<a target=\"_blank\" href=https://colab.research.google.com/notebooks/data_table.ipynb>data table notebook</a>'\n",
       "            + ' to learn more about interactive tables.';\n",
       "          element.innerHTML = '';\n",
       "          dataTable['output_type'] = 'display_data';\n",
       "          await google.colab.output.renderOutput(dataTable, element);\n",
       "          const docLink = document.createElement('div');\n",
       "          docLink.innerHTML = docLinkHtml;\n",
       "          element.appendChild(docLink);\n",
       "        }\n",
       "      </script>\n",
       "    </div>\n",
       "  </div>\n",
       "  "
      ],
      "text/plain": [
       "   Rank                      Name  NW_Bd   Age          Place  \\\n",
       "0     1                JEFF BEZOS  113.0  56.0  United States   \n",
       "1     2                BILL GATES   98.0  64.0  United States   \n",
       "2     3  BERNARD ARNAULT & FAMILY   76.0  71.0         France   \n",
       "3     4            WARREN BUFFETT   67.5  89.0  United States   \n",
       "4     5             LARRY ELLISON   59.0  75.0  United States   \n",
       "\n",
       "               Source             Industries   NW_Be  \n",
       "0              Amazon             Technology  105.80  \n",
       "1           Microsoft             Technology   91.76  \n",
       "2                LVMH       Fashion & Retail   71.16  \n",
       "3  Berkshire Hathaway  Finance & Investments   63.20  \n",
       "4            software             Technology   55.24  "
      ]
     },
     "execution_count": 55,
     "metadata": {},
     "output_type": "execute_result"
    }
   ],
   "source": [
    "forbes['NW_Be'] = forbes['NW_Bd'].apply(lambda euro: round(euro *0.9363,2)) \n",
    "forbes.head()"
   ]
  },
  {
   "cell_type": "markdown",
   "metadata": {
    "id": "cj-w8PyTZxhi"
   },
   "source": [
    "#### 29. Quali sono i valori di minimo e massimo della nuova colonna 'NW_Be'?"
   ]
  },
  {
   "cell_type": "code",
   "execution_count": 56,
   "metadata": {
    "colab": {
     "base_uri": "https://localhost:8080/"
    },
    "id": "lcbwQ0zaZ704",
    "outputId": "ef615e3e-17b8-4b48-b33f-3626c1d54b79"
   },
   "outputs": [
    {
     "name": "stdout",
     "output_type": "stream",
     "text": [
      "Il minimo della colonna 'NW_Be' è 0.94 è il massimo è 105.8.\n"
     ]
    }
   ],
   "source": [
    "print(f\"Il minimo della colonna 'NW_Be' è {forbes['NW_Be'].min()} è il massimo è {forbes['NW_Be'].max()}.\")"
   ]
  },
  {
   "cell_type": "code",
   "execution_count": 56,
   "metadata": {
    "id": "mU23Wo8Fb5-R"
   },
   "outputs": [],
   "source": []
  },
  {
   "cell_type": "markdown",
   "metadata": {
    "id": "tzqtHduxZ8Hl"
   },
   "source": [
    "#### 30. Riordina il dataset dal più giovane al più vecchio (colonna 'Age'), e mostrane le prima 20 righe."
   ]
  },
  {
   "cell_type": "code",
   "execution_count": 57,
   "metadata": {
    "colab": {
     "base_uri": "https://localhost:8080/",
     "height": 677
    },
    "id": "K88DM9FoaUY_",
    "outputId": "879fe1ec-67c5-4d19-fce8-b93b9bcdf52b"
   },
   "outputs": [
    {
     "data": {
      "text/html": [
       "\n",
       "  <div id=\"df-bcbab7b7-e0cd-47af-b588-8c5f153fc72c\">\n",
       "    <div class=\"colab-df-container\">\n",
       "      <div>\n",
       "<style scoped>\n",
       "    .dataframe tbody tr th:only-of-type {\n",
       "        vertical-align: middle;\n",
       "    }\n",
       "\n",
       "    .dataframe tbody tr th {\n",
       "        vertical-align: top;\n",
       "    }\n",
       "\n",
       "    .dataframe thead th {\n",
       "        text-align: right;\n",
       "    }\n",
       "</style>\n",
       "<table border=\"1\" class=\"dataframe\">\n",
       "  <thead>\n",
       "    <tr style=\"text-align: right;\">\n",
       "      <th></th>\n",
       "      <th>Rank</th>\n",
       "      <th>Name</th>\n",
       "      <th>NW_Bd</th>\n",
       "      <th>Age</th>\n",
       "      <th>Place</th>\n",
       "      <th>Source</th>\n",
       "      <th>Industries</th>\n",
       "      <th>NW_Be</th>\n",
       "    </tr>\n",
       "  </thead>\n",
       "  <tbody>\n",
       "    <tr>\n",
       "      <th>2023</th>\n",
       "      <td>1990</td>\n",
       "      <td>KYLIE JENNER</td>\n",
       "      <td>1.0</td>\n",
       "      <td>22.0</td>\n",
       "      <td>United States</td>\n",
       "      <td>cosmetics</td>\n",
       "      <td>Fashion &amp; Retail</td>\n",
       "      <td>0.94</td>\n",
       "    </tr>\n",
       "    <tr>\n",
       "      <th>1850</th>\n",
       "      <td>1851</td>\n",
       "      <td>ALEXANDRA ANDRESEN</td>\n",
       "      <td>1.1</td>\n",
       "      <td>23.0</td>\n",
       "      <td>Norway</td>\n",
       "      <td>investments</td>\n",
       "      <td>Diversified</td>\n",
       "      <td>1.03</td>\n",
       "    </tr>\n",
       "    <tr>\n",
       "      <th>1851</th>\n",
       "      <td>1851</td>\n",
       "      <td>KATHARINA ANDRESEN</td>\n",
       "      <td>1.1</td>\n",
       "      <td>24.0</td>\n",
       "      <td>Norway</td>\n",
       "      <td>investments</td>\n",
       "      <td>Diversified</td>\n",
       "      <td>1.03</td>\n",
       "    </tr>\n",
       "    <tr>\n",
       "      <th>942</th>\n",
       "      <td>908</td>\n",
       "      <td>GUSTAV MAGNAR WITZOE</td>\n",
       "      <td>2.3</td>\n",
       "      <td>26.0</td>\n",
       "      <td>Norway</td>\n",
       "      <td>fish farming</td>\n",
       "      <td>Food &amp; Beverage</td>\n",
       "      <td>2.15</td>\n",
       "    </tr>\n",
       "    <tr>\n",
       "      <th>1096</th>\n",
       "      <td>1063</td>\n",
       "      <td>JONATHAN KWOK</td>\n",
       "      <td>2.0</td>\n",
       "      <td>28.0</td>\n",
       "      <td>Hong Kong</td>\n",
       "      <td>Real Estate</td>\n",
       "      <td>Real Estate</td>\n",
       "      <td>1.87</td>\n",
       "    </tr>\n",
       "    <tr>\n",
       "      <th>1764</th>\n",
       "      <td>1730</td>\n",
       "      <td>ELISABETH FURTWAENGLER</td>\n",
       "      <td>1.2</td>\n",
       "      <td>28.0</td>\n",
       "      <td>Germany</td>\n",
       "      <td>publishing</td>\n",
       "      <td>Media &amp; Entertainment</td>\n",
       "      <td>1.12</td>\n",
       "    </tr>\n",
       "    <tr>\n",
       "      <th>1873</th>\n",
       "      <td>1851</td>\n",
       "      <td>PEDRO DE GODOY BUENO</td>\n",
       "      <td>1.1</td>\n",
       "      <td>29.0</td>\n",
       "      <td>Brazil</td>\n",
       "      <td>health insurance</td>\n",
       "      <td>Healthcare</td>\n",
       "      <td>1.03</td>\n",
       "    </tr>\n",
       "    <tr>\n",
       "      <th>619</th>\n",
       "      <td>616</td>\n",
       "      <td>JOHN COLLISON</td>\n",
       "      <td>3.2</td>\n",
       "      <td>29.0</td>\n",
       "      <td>Ireland</td>\n",
       "      <td>payments software</td>\n",
       "      <td>Technology</td>\n",
       "      <td>3.00</td>\n",
       "    </tr>\n",
       "    <tr>\n",
       "      <th>1180</th>\n",
       "      <td>1135</td>\n",
       "      <td>EVAN SPIEGEL</td>\n",
       "      <td>1.9</td>\n",
       "      <td>29.0</td>\n",
       "      <td>United States</td>\n",
       "      <td>Snapchat</td>\n",
       "      <td>Technology</td>\n",
       "      <td>1.78</td>\n",
       "    </tr>\n",
       "    <tr>\n",
       "      <th>2010</th>\n",
       "      <td>1990</td>\n",
       "      <td>LISA DRAEXLMAIER</td>\n",
       "      <td>1.0</td>\n",
       "      <td>29.0</td>\n",
       "      <td>Germany</td>\n",
       "      <td>auto parts</td>\n",
       "      <td>Automotive</td>\n",
       "      <td>0.94</td>\n",
       "    </tr>\n",
       "    <tr>\n",
       "      <th>2003</th>\n",
       "      <td>1990</td>\n",
       "      <td>LUDWIG THEODOR BRAUN</td>\n",
       "      <td>1.0</td>\n",
       "      <td>30.0</td>\n",
       "      <td>Germany</td>\n",
       "      <td>medical technology</td>\n",
       "      <td>Healthcare</td>\n",
       "      <td>0.94</td>\n",
       "    </tr>\n",
       "    <tr>\n",
       "      <th>620</th>\n",
       "      <td>616</td>\n",
       "      <td>PATRICK COLLISON</td>\n",
       "      <td>3.2</td>\n",
       "      <td>31.0</td>\n",
       "      <td>Ireland</td>\n",
       "      <td>payment software</td>\n",
       "      <td>Technology</td>\n",
       "      <td>3.00</td>\n",
       "    </tr>\n",
       "    <tr>\n",
       "      <th>1167</th>\n",
       "      <td>1135</td>\n",
       "      <td>BOBBY MURPHY</td>\n",
       "      <td>1.9</td>\n",
       "      <td>31.0</td>\n",
       "      <td>United States</td>\n",
       "      <td>Snapchat</td>\n",
       "      <td>Technology</td>\n",
       "      <td>1.78</td>\n",
       "    </tr>\n",
       "    <tr>\n",
       "      <th>43</th>\n",
       "      <td>44</td>\n",
       "      <td>LUKAS WALTON</td>\n",
       "      <td>18.4</td>\n",
       "      <td>33.0</td>\n",
       "      <td>United States</td>\n",
       "      <td>Walmart</td>\n",
       "      <td>Fashion &amp; Retail</td>\n",
       "      <td>17.23</td>\n",
       "    </tr>\n",
       "    <tr>\n",
       "      <th>1740</th>\n",
       "      <td>1730</td>\n",
       "      <td>EVA MARIA BRAUN-LUEDICKE</td>\n",
       "      <td>1.2</td>\n",
       "      <td>33.0</td>\n",
       "      <td>Germany</td>\n",
       "      <td>medical technology</td>\n",
       "      <td>Healthcare</td>\n",
       "      <td>1.12</td>\n",
       "    </tr>\n",
       "    <tr>\n",
       "      <th>1259</th>\n",
       "      <td>1196</td>\n",
       "      <td>JIHAN WU</td>\n",
       "      <td>1.8</td>\n",
       "      <td>34.0</td>\n",
       "      <td>China</td>\n",
       "      <td>cryptocurrency mining chips</td>\n",
       "      <td>Technology</td>\n",
       "      <td>1.69</td>\n",
       "    </tr>\n",
       "    <tr>\n",
       "      <th>512</th>\n",
       "      <td>494</td>\n",
       "      <td>AIYAWATT SRIVADDHANAPRABHA &amp; FAMILY</td>\n",
       "      <td>3.7</td>\n",
       "      <td>34.0</td>\n",
       "      <td>Thailand</td>\n",
       "      <td>duty-free</td>\n",
       "      <td>Fashion &amp; Retail</td>\n",
       "      <td>3.46</td>\n",
       "    </tr>\n",
       "    <tr>\n",
       "      <th>2053</th>\n",
       "      <td>1990</td>\n",
       "      <td>JULIO MARIO SANTO DOMINGO, III.</td>\n",
       "      <td>1.0</td>\n",
       "      <td>34.0</td>\n",
       "      <td>United States</td>\n",
       "      <td>beer</td>\n",
       "      <td>Food &amp; Beverage</td>\n",
       "      <td>0.94</td>\n",
       "    </tr>\n",
       "    <tr>\n",
       "      <th>650</th>\n",
       "      <td>648</td>\n",
       "      <td>DMITRY BUKHMAN</td>\n",
       "      <td>3.1</td>\n",
       "      <td>34.0</td>\n",
       "      <td>Russia</td>\n",
       "      <td>online games</td>\n",
       "      <td>Media &amp; Entertainment</td>\n",
       "      <td>2.90</td>\n",
       "    </tr>\n",
       "    <tr>\n",
       "      <th>854</th>\n",
       "      <td>836</td>\n",
       "      <td>GEOFFREY KWOK</td>\n",
       "      <td>2.5</td>\n",
       "      <td>34.0</td>\n",
       "      <td>Hong Kong</td>\n",
       "      <td>real estate</td>\n",
       "      <td>Real Estate</td>\n",
       "      <td>2.34</td>\n",
       "    </tr>\n",
       "  </tbody>\n",
       "</table>\n",
       "</div>\n",
       "      <button class=\"colab-df-convert\" onclick=\"convertToInteractive('df-bcbab7b7-e0cd-47af-b588-8c5f153fc72c')\"\n",
       "              title=\"Convert this dataframe to an interactive table.\"\n",
       "              style=\"display:none;\">\n",
       "        \n",
       "  <svg xmlns=\"http://www.w3.org/2000/svg\" height=\"24px\"viewBox=\"0 0 24 24\"\n",
       "       width=\"24px\">\n",
       "    <path d=\"M0 0h24v24H0V0z\" fill=\"none\"/>\n",
       "    <path d=\"M18.56 5.44l.94 2.06.94-2.06 2.06-.94-2.06-.94-.94-2.06-.94 2.06-2.06.94zm-11 1L8.5 8.5l.94-2.06 2.06-.94-2.06-.94L8.5 2.5l-.94 2.06-2.06.94zm10 10l.94 2.06.94-2.06 2.06-.94-2.06-.94-.94-2.06-.94 2.06-2.06.94z\"/><path d=\"M17.41 7.96l-1.37-1.37c-.4-.4-.92-.59-1.43-.59-.52 0-1.04.2-1.43.59L10.3 9.45l-7.72 7.72c-.78.78-.78 2.05 0 2.83L4 21.41c.39.39.9.59 1.41.59.51 0 1.02-.2 1.41-.59l7.78-7.78 2.81-2.81c.8-.78.8-2.07 0-2.86zM5.41 20L4 18.59l7.72-7.72 1.47 1.35L5.41 20z\"/>\n",
       "  </svg>\n",
       "      </button>\n",
       "      \n",
       "  <style>\n",
       "    .colab-df-container {\n",
       "      display:flex;\n",
       "      flex-wrap:wrap;\n",
       "      gap: 12px;\n",
       "    }\n",
       "\n",
       "    .colab-df-convert {\n",
       "      background-color: #E8F0FE;\n",
       "      border: none;\n",
       "      border-radius: 50%;\n",
       "      cursor: pointer;\n",
       "      display: none;\n",
       "      fill: #1967D2;\n",
       "      height: 32px;\n",
       "      padding: 0 0 0 0;\n",
       "      width: 32px;\n",
       "    }\n",
       "\n",
       "    .colab-df-convert:hover {\n",
       "      background-color: #E2EBFA;\n",
       "      box-shadow: 0px 1px 2px rgba(60, 64, 67, 0.3), 0px 1px 3px 1px rgba(60, 64, 67, 0.15);\n",
       "      fill: #174EA6;\n",
       "    }\n",
       "\n",
       "    [theme=dark] .colab-df-convert {\n",
       "      background-color: #3B4455;\n",
       "      fill: #D2E3FC;\n",
       "    }\n",
       "\n",
       "    [theme=dark] .colab-df-convert:hover {\n",
       "      background-color: #434B5C;\n",
       "      box-shadow: 0px 1px 3px 1px rgba(0, 0, 0, 0.15);\n",
       "      filter: drop-shadow(0px 1px 2px rgba(0, 0, 0, 0.3));\n",
       "      fill: #FFFFFF;\n",
       "    }\n",
       "  </style>\n",
       "\n",
       "      <script>\n",
       "        const buttonEl =\n",
       "          document.querySelector('#df-bcbab7b7-e0cd-47af-b588-8c5f153fc72c button.colab-df-convert');\n",
       "        buttonEl.style.display =\n",
       "          google.colab.kernel.accessAllowed ? 'block' : 'none';\n",
       "\n",
       "        async function convertToInteractive(key) {\n",
       "          const element = document.querySelector('#df-bcbab7b7-e0cd-47af-b588-8c5f153fc72c');\n",
       "          const dataTable =\n",
       "            await google.colab.kernel.invokeFunction('convertToInteractive',\n",
       "                                                     [key], {});\n",
       "          if (!dataTable) return;\n",
       "\n",
       "          const docLinkHtml = 'Like what you see? Visit the ' +\n",
       "            '<a target=\"_blank\" href=https://colab.research.google.com/notebooks/data_table.ipynb>data table notebook</a>'\n",
       "            + ' to learn more about interactive tables.';\n",
       "          element.innerHTML = '';\n",
       "          dataTable['output_type'] = 'display_data';\n",
       "          await google.colab.output.renderOutput(dataTable, element);\n",
       "          const docLink = document.createElement('div');\n",
       "          docLink.innerHTML = docLinkHtml;\n",
       "          element.appendChild(docLink);\n",
       "        }\n",
       "      </script>\n",
       "    </div>\n",
       "  </div>\n",
       "  "
      ],
      "text/plain": [
       "      Rank                                 Name  NW_Bd   Age          Place  \\\n",
       "2023  1990                         KYLIE JENNER    1.0  22.0  United States   \n",
       "1850  1851                   ALEXANDRA ANDRESEN    1.1  23.0         Norway   \n",
       "1851  1851                   KATHARINA ANDRESEN    1.1  24.0         Norway   \n",
       "942    908                 GUSTAV MAGNAR WITZOE    2.3  26.0         Norway   \n",
       "1096  1063                        JONATHAN KWOK    2.0  28.0      Hong Kong   \n",
       "1764  1730               ELISABETH FURTWAENGLER    1.2  28.0        Germany   \n",
       "1873  1851                 PEDRO DE GODOY BUENO    1.1  29.0         Brazil   \n",
       "619    616                        JOHN COLLISON    3.2  29.0        Ireland   \n",
       "1180  1135                         EVAN SPIEGEL    1.9  29.0  United States   \n",
       "2010  1990                     LISA DRAEXLMAIER    1.0  29.0        Germany   \n",
       "2003  1990                 LUDWIG THEODOR BRAUN    1.0  30.0        Germany   \n",
       "620    616                     PATRICK COLLISON    3.2  31.0        Ireland   \n",
       "1167  1135                         BOBBY MURPHY    1.9  31.0  United States   \n",
       "43      44                         LUKAS WALTON   18.4  33.0  United States   \n",
       "1740  1730             EVA MARIA BRAUN-LUEDICKE    1.2  33.0        Germany   \n",
       "1259  1196                             JIHAN WU    1.8  34.0          China   \n",
       "512    494  AIYAWATT SRIVADDHANAPRABHA & FAMILY    3.7  34.0       Thailand   \n",
       "2053  1990      JULIO MARIO SANTO DOMINGO, III.    1.0  34.0  United States   \n",
       "650    648                       DMITRY BUKHMAN    3.1  34.0         Russia   \n",
       "854    836                        GEOFFREY KWOK    2.5  34.0      Hong Kong   \n",
       "\n",
       "                           Source             Industries  NW_Be  \n",
       "2023                    cosmetics       Fashion & Retail   0.94  \n",
       "1850                  investments            Diversified   1.03  \n",
       "1851                  investments            Diversified   1.03  \n",
       "942                  fish farming        Food & Beverage   2.15  \n",
       "1096                  Real Estate            Real Estate   1.87  \n",
       "1764                   publishing  Media & Entertainment   1.12  \n",
       "1873             health insurance             Healthcare   1.03  \n",
       "619             payments software             Technology   3.00  \n",
       "1180                     Snapchat             Technology   1.78  \n",
       "2010                   auto parts             Automotive   0.94  \n",
       "2003           medical technology             Healthcare   0.94  \n",
       "620              payment software             Technology   3.00  \n",
       "1167                     Snapchat             Technology   1.78  \n",
       "43                        Walmart       Fashion & Retail  17.23  \n",
       "1740           medical technology             Healthcare   1.12  \n",
       "1259  cryptocurrency mining chips             Technology   1.69  \n",
       "512                     duty-free       Fashion & Retail   3.46  \n",
       "2053                         beer        Food & Beverage   0.94  \n",
       "650                  online games  Media & Entertainment   2.90  \n",
       "854                   real estate            Real Estate   2.34  "
      ]
     },
     "execution_count": 57,
     "metadata": {},
     "output_type": "execute_result"
    }
   ],
   "source": [
    "forbes.sort_values('Age', ascending=True).head(20)"
   ]
  },
  {
   "cell_type": "code",
   "execution_count": 57,
   "metadata": {
    "id": "6QD2YFGoaUfi"
   },
   "outputs": [],
   "source": []
  },
  {
   "cell_type": "markdown",
   "metadata": {
    "id": "kov-MfiuIU61"
   },
   "source": [
    "---\n",
    "\n",
    "## Rappresentazioni grafiche\n",
    "\n",
    "Attenzione: aggiungere sempre il titolo e le label x e y dov'è possibile o non automatizzato."
   ]
  },
  {
   "cell_type": "markdown",
   "metadata": {
    "id": "u8L1Z6lnIU61"
   },
   "source": [
    "#### 31. Importa la libreria `matplotlib.pyplot` con l'alias che abbiamo usato a lezione"
   ]
  },
  {
   "cell_type": "code",
   "execution_count": 58,
   "metadata": {
    "id": "Wv6dqaa7IU61"
   },
   "outputs": [],
   "source": [
    "import matplotlib.pyplot as plt"
   ]
  },
  {
   "cell_type": "markdown",
   "metadata": {
    "id": "U0juQaz4IU61"
   },
   "source": [
    "#### 32. Crea e visualizza un grafico a dispersione fra le variabili `Age` e `NW_Bd`\n",
    "Setta il paramentro `alpha` a 0.3, e il colore `c` come 'green'"
   ]
  },
  {
   "cell_type": "code",
   "execution_count": 59,
   "metadata": {
    "colab": {
     "base_uri": "https://localhost:8080/"
    },
    "id": "HmBp4w3YIU62",
    "outputId": "2efbec70-fd93-4625-c013-66c21691ae6b"
   },
   "outputs": [
    {
     "data": {
      "text/plain": [
       "Index(['Rank', 'Name', 'NW_Bd', 'Age', 'Place', 'Source', 'Industries',\n",
       "       'NW_Be'],\n",
       "      dtype='object')"
      ]
     },
     "execution_count": 59,
     "metadata": {},
     "output_type": "execute_result"
    }
   ],
   "source": [
    "forbes.columns"
   ]
  },
  {
   "cell_type": "code",
   "execution_count": 60,
   "metadata": {
    "colab": {
     "base_uri": "https://localhost:8080/",
     "height": 295
    },
    "id": "Ep6O1tR8T9rC",
    "outputId": "6caddbc1-a53f-4d66-ce41-07fbcb1c15c5"
   },
   "outputs": [
    {
     "data": {
      "image/png": "[encoded data removed]",
      "text/plain": [
       "<Figure size 432x288 with 1 Axes>"
      ]
     },
     "metadata": {
      "needs_background": "light"
     },
     "output_type": "display_data"
    }
   ],
   "source": [
    "plt.title(\"Grafico a dispersione tra le variabili 'Age' e 'Nw_Bd'\") \n",
    "\n",
    "plt.scatter(x=forbes['Age'],y=forbes['NW_Bd'], alpha=0.3, c='green') \n",
    "\n",
    "plt.xlabel('Age')\n",
    "plt.ylabel('NW_Bd') \n",
    "\n",
    "plt.show()"
   ]
  },
  {
   "cell_type": "markdown",
   "metadata": {
    "id": "J2HCFqdBlVQH"
   },
   "source": [
    "#### 33. Crea un boxplot della distribuzione di Net Worth ($B) in Norvegia\n",
    "\n",
    "Prima seleziona per valori di 'Place' di valore 'Norway', quante righe abbiamo?"
   ]
  },
  {
   "cell_type": "code",
   "execution_count": 61,
   "metadata": {
    "colab": {
     "base_uri": "https://localhost:8080/",
     "height": 206
    },
    "id": "xnjl2YpbduA9",
    "outputId": "1cf8044a-9303-4397-b6a8-5e386aca0b68"
   },
   "outputs": [
    {
     "data": {
      "text/html": [
       "\n",
       "  <div id=\"df-53238988-2cab-4ca9-9775-f5d7c59e6434\">\n",
       "    <div class=\"colab-df-container\">\n",
       "      <div>\n",
       "<style scoped>\n",
       "    .dataframe tbody tr th:only-of-type {\n",
       "        vertical-align: middle;\n",
       "    }\n",
       "\n",
       "    .dataframe tbody tr th {\n",
       "        vertical-align: top;\n",
       "    }\n",
       "\n",
       "    .dataframe thead th {\n",
       "        text-align: right;\n",
       "    }\n",
       "</style>\n",
       "<table border=\"1\" class=\"dataframe\">\n",
       "  <thead>\n",
       "    <tr style=\"text-align: right;\">\n",
       "      <th></th>\n",
       "      <th>Rank</th>\n",
       "      <th>Name</th>\n",
       "      <th>NW_Bd</th>\n",
       "      <th>Age</th>\n",
       "      <th>Place</th>\n",
       "      <th>Source</th>\n",
       "      <th>Industries</th>\n",
       "      <th>NW_Be</th>\n",
       "    </tr>\n",
       "  </thead>\n",
       "  <tbody>\n",
       "    <tr>\n",
       "      <th>349</th>\n",
       "      <td>349</td>\n",
       "      <td>ANDREAS HALVORSEN</td>\n",
       "      <td>4.8</td>\n",
       "      <td>58.0</td>\n",
       "      <td>Norway</td>\n",
       "      <td>hedge funds</td>\n",
       "      <td>Finance &amp; Investments</td>\n",
       "      <td>4.49</td>\n",
       "    </tr>\n",
       "    <tr>\n",
       "      <th>446</th>\n",
       "      <td>437</td>\n",
       "      <td>ODD REITAN</td>\n",
       "      <td>4.1</td>\n",
       "      <td>68.0</td>\n",
       "      <td>Norway</td>\n",
       "      <td>retail, real estate</td>\n",
       "      <td>Fashion &amp; Retail</td>\n",
       "      <td>3.84</td>\n",
       "    </tr>\n",
       "    <tr>\n",
       "      <th>831</th>\n",
       "      <td>804</td>\n",
       "      <td>IVAR TOLLEFSEN</td>\n",
       "      <td>2.6</td>\n",
       "      <td>58.0</td>\n",
       "      <td>Norway</td>\n",
       "      <td>real estate</td>\n",
       "      <td>Real Estate</td>\n",
       "      <td>2.43</td>\n",
       "    </tr>\n",
       "    <tr>\n",
       "      <th>942</th>\n",
       "      <td>908</td>\n",
       "      <td>GUSTAV MAGNAR WITZOE</td>\n",
       "      <td>2.3</td>\n",
       "      <td>26.0</td>\n",
       "      <td>Norway</td>\n",
       "      <td>fish farming</td>\n",
       "      <td>Food &amp; Beverage</td>\n",
       "      <td>2.15</td>\n",
       "    </tr>\n",
       "    <tr>\n",
       "      <th>1088</th>\n",
       "      <td>1063</td>\n",
       "      <td>STEIN ERIK HAGEN</td>\n",
       "      <td>2.0</td>\n",
       "      <td>63.0</td>\n",
       "      <td>Norway</td>\n",
       "      <td>consumer goods</td>\n",
       "      <td>Fashion &amp; Retail</td>\n",
       "      <td>1.87</td>\n",
       "    </tr>\n",
       "  </tbody>\n",
       "</table>\n",
       "</div>\n",
       "      <button class=\"colab-df-convert\" onclick=\"convertToInteractive('df-53238988-2cab-4ca9-9775-f5d7c59e6434')\"\n",
       "              title=\"Convert this dataframe to an interactive table.\"\n",
       "              style=\"display:none;\">\n",
       "        \n",
       "  <svg xmlns=\"http://www.w3.org/2000/svg\" height=\"24px\"viewBox=\"0 0 24 24\"\n",
       "       width=\"24px\">\n",
       "    <path d=\"M0 0h24v24H0V0z\" fill=\"none\"/>\n",
       "    <path d=\"M18.56 5.44l.94 2.06.94-2.06 2.06-.94-2.06-.94-.94-2.06-.94 2.06-2.06.94zm-11 1L8.5 8.5l.94-2.06 2.06-.94-2.06-.94L8.5 2.5l-.94 2.06-2.06.94zm10 10l.94 2.06.94-2.06 2.06-.94-2.06-.94-.94-2.06-.94 2.06-2.06.94z\"/><path d=\"M17.41 7.96l-1.37-1.37c-.4-.4-.92-.59-1.43-.59-.52 0-1.04.2-1.43.59L10.3 9.45l-7.72 7.72c-.78.78-.78 2.05 0 2.83L4 21.41c.39.39.9.59 1.41.59.51 0 1.02-.2 1.41-.59l7.78-7.78 2.81-2.81c.8-.78.8-2.07 0-2.86zM5.41 20L4 18.59l7.72-7.72 1.47 1.35L5.41 20z\"/>\n",
       "  </svg>\n",
       "      </button>\n",
       "      \n",
       "  <style>\n",
       "    .colab-df-container {\n",
       "      display:flex;\n",
       "      flex-wrap:wrap;\n",
       "      gap: 12px;\n",
       "    }\n",
       "\n",
       "    .colab-df-convert {\n",
       "      background-color: #E8F0FE;\n",
       "      border: none;\n",
       "      border-radius: 50%;\n",
       "      cursor: pointer;\n",
       "      display: none;\n",
       "      fill: #1967D2;\n",
       "      height: 32px;\n",
       "      padding: 0 0 0 0;\n",
       "      width: 32px;\n",
       "    }\n",
       "\n",
       "    .colab-df-convert:hover {\n",
       "      background-color: #E2EBFA;\n",
       "      box-shadow: 0px 1px 2px rgba(60, 64, 67, 0.3), 0px 1px 3px 1px rgba(60, 64, 67, 0.15);\n",
       "      fill: #174EA6;\n",
       "    }\n",
       "\n",
       "    [theme=dark] .colab-df-convert {\n",
       "      background-color: #3B4455;\n",
       "      fill: #D2E3FC;\n",
       "    }\n",
       "\n",
       "    [theme=dark] .colab-df-convert:hover {\n",
       "      background-color: #434B5C;\n",
       "      box-shadow: 0px 1px 3px 1px rgba(0, 0, 0, 0.15);\n",
       "      filter: drop-shadow(0px 1px 2px rgba(0, 0, 0, 0.3));\n",
       "      fill: #FFFFFF;\n",
       "    }\n",
       "  </style>\n",
       "\n",
       "      <script>\n",
       "        const buttonEl =\n",
       "          document.querySelector('#df-53238988-2cab-4ca9-9775-f5d7c59e6434 button.colab-df-convert');\n",
       "        buttonEl.style.display =\n",
       "          google.colab.kernel.accessAllowed ? 'block' : 'none';\n",
       "\n",
       "        async function convertToInteractive(key) {\n",
       "          const element = document.querySelector('#df-53238988-2cab-4ca9-9775-f5d7c59e6434');\n",
       "          const dataTable =\n",
       "            await google.colab.kernel.invokeFunction('convertToInteractive',\n",
       "                                                     [key], {});\n",
       "          if (!dataTable) return;\n",
       "\n",
       "          const docLinkHtml = 'Like what you see? Visit the ' +\n",
       "            '<a target=\"_blank\" href=https://colab.research.google.com/notebooks/data_table.ipynb>data table notebook</a>'\n",
       "            + ' to learn more about interactive tables.';\n",
       "          element.innerHTML = '';\n",
       "          dataTable['output_type'] = 'display_data';\n",
       "          await google.colab.output.renderOutput(dataTable, element);\n",
       "          const docLink = document.createElement('div');\n",
       "          docLink.innerHTML = docLinkHtml;\n",
       "          element.appendChild(docLink);\n",
       "        }\n",
       "      </script>\n",
       "    </div>\n",
       "  </div>\n",
       "  "
      ],
      "text/plain": [
       "      Rank                  Name  NW_Bd   Age   Place               Source  \\\n",
       "349    349     ANDREAS HALVORSEN    4.8  58.0  Norway          hedge funds   \n",
       "446    437            ODD REITAN    4.1  68.0  Norway  retail, real estate   \n",
       "831    804        IVAR TOLLEFSEN    2.6  58.0  Norway          real estate   \n",
       "942    908  GUSTAV MAGNAR WITZOE    2.3  26.0  Norway         fish farming   \n",
       "1088  1063      STEIN ERIK HAGEN    2.0  63.0  Norway       consumer goods   \n",
       "\n",
       "                 Industries  NW_Be  \n",
       "349   Finance & Investments   4.49  \n",
       "446        Fashion & Retail   3.84  \n",
       "831             Real Estate   2.43  \n",
       "942         Food & Beverage   2.15  \n",
       "1088       Fashion & Retail   1.87  "
      ]
     },
     "execution_count": 61,
     "metadata": {},
     "output_type": "execute_result"
    }
   ],
   "source": [
    "norway = forbes[forbes['Place'] == 'Norway']\n",
    "norway.head()"
   ]
  },
  {
   "cell_type": "code",
   "execution_count": 62,
   "metadata": {
    "colab": {
     "base_uri": "https://localhost:8080/",
     "height": 296
    },
    "id": "eg-bDvY4IU62",
    "outputId": "50d47a81-c11f-4a32-c4ef-6bdcdefa1910"
   },
   "outputs": [
    {
     "data": {
      "image/png": "[encoded data removed]",
      "text/plain": [
       "<Figure size 432x288 with 1 Axes>"
      ]
     },
     "metadata": {
      "needs_background": "light"
     },
     "output_type": "display_data"
    }
   ],
   "source": [
    "plt.title(\"Boxplot della distribuzione di Net Worth ($B) in Norvegia\")\n",
    "\n",
    "plt.boxplot(norway['NW_Bd'])\n",
    "plt.xlabel('NW_Bd')\n",
    "\n",
    "plt.show()"
   ]
  },
  {
   "cell_type": "markdown",
   "metadata": {
    "id": "F3PKXTDKIU63"
   },
   "source": [
    "#### 34. Crea e visualizza un grafico istogramma della variabile 'Age'\n",
    "\n",
    "Setta il parametro `bins` uguale a 30"
   ]
  },
  {
   "cell_type": "code",
   "execution_count": 63,
   "metadata": {
    "colab": {
     "base_uri": "https://localhost:8080/",
     "height": 295
    },
    "id": "Agjh1sdZIU63",
    "outputId": "1c9ca9fa-09e4-40ee-f632-992b13fba566"
   },
   "outputs": [
    {
     "data": {
      "image/png": "[encoded data removed]",
      "text/plain": [
       "<Figure size 432x288 with 1 Axes>"
      ]
     },
     "metadata": {
      "needs_background": "light"
     },
     "output_type": "display_data"
    }
   ],
   "source": [
    "plt.title('Istogramma dell\\'età')\n",
    "\n",
    "plt.hist(forbes['Age'], bins=30)\n",
    "plt.xlabel('Age')\n",
    "\n",
    "plt.show()"
   ]
  },
  {
   "cell_type": "code",
   "execution_count": 63,
   "metadata": {
    "id": "fbp3yc-7IU63"
   },
   "outputs": [],
   "source": []
  },
  {
   "cell_type": "markdown",
   "metadata": {
    "id": "8zs2_jiFIU63"
   },
   "source": [
    "#### 35. Importa la libreria `Seaborn` con l'alias con l'alias che abbiamo usato a lezione"
   ]
  },
  {
   "cell_type": "code",
   "execution_count": 64,
   "metadata": {
    "id": "q-YjkWaZIU63"
   },
   "outputs": [],
   "source": [
    "import seaborn as sns"
   ]
  },
  {
   "cell_type": "markdown",
   "metadata": {
    "id": "dlFTVRpCIU63"
   },
   "source": [
    "#### 36. Crea e visualizza nuovamente il grafico istogramma della variabile 'Age' con Seaborn\n",
    "\n",
    "Imposta lo stile `'darkgrid'`"
   ]
  },
  {
   "cell_type": "code",
   "execution_count": 65,
   "metadata": {
    "colab": {
     "base_uri": "https://localhost:8080/",
     "height": 295
    },
    "id": "v_q10Z5xIU63",
    "outputId": "c99d4118-cc93-4cd0-b854-ba3782f1578d"
   },
   "outputs": [
    {
     "data": {
      "image/png": "[encoded data removed]",
      "text/plain": [
       "<Figure size 432x288 with 1 Axes>"
      ]
     },
     "metadata": {},
     "output_type": "display_data"
    }
   ],
   "source": [
    "sns.set_style('darkgrid')\n",
    "\n",
    "plt.title('Istogramma dell\\'età')\n",
    "\n",
    "sns.histplot(x=forbes['Age'], bins=30)\n",
    "\n",
    "plt.show()"
   ]
  },
  {
   "cell_type": "code",
   "execution_count": 65,
   "metadata": {
    "id": "IDvH4z3bIU63"
   },
   "outputs": [],
   "source": []
  },
  {
   "cell_type": "markdown",
   "metadata": {
    "id": "PYQ-gqgji014"
   },
   "source": [
    "#### 37. Crea uno scatterplot che mostri la correlazione fra 'Age' e 'NW_Bd' colorandola per settore ('Indutries').\n",
    "\n",
    "Sposta la legenda (`plt.legend()`) fuori dal grafico con l'argomento \n",
    "`bbox_to_anchor` uguale al valore `(1.05, 1)`\n",
    "\n"
   ]
  },
  {
   "cell_type": "code",
   "execution_count": 66,
   "metadata": {
    "colab": {
     "base_uri": "https://localhost:8080/",
     "height": 325
    },
    "id": "0U6p_Z4dIU65",
    "outputId": "77644e6e-1a2c-43b1-adc8-0631e22e2f10"
   },
   "outputs": [
    {
     "data": {
      "image/png": "[encoded data removed]",
      "text/plain": [
       "<Figure size 432x288 with 1 Axes>"
      ]
     },
     "metadata": {},
     "output_type": "display_data"
    }
   ],
   "source": [
    "plt.title(\"scatterplot che mostri la correlazione fra 'Age' e 'NW_Bd'\")\n",
    "\n",
    "sns.scatterplot(data=forbes,\n",
    "                x='Age',\n",
    "                y='NW_Bd',\n",
    "                hue='Industries')\n",
    "\n",
    "plt.legend(bbox_to_anchor=(1.05,1)) \n",
    "\n",
    "plt.show()"
   ]
  },
  {
   "cell_type": "markdown",
   "metadata": {
    "id": "i55zzrHvi1iw"
   },
   "source": [
    "#### 38. Crea uno scatterplot che mostri solo per età sotto i 40 anni la correlazione fra 'Age' e 'NW_Bd' colorandola per luogo di origine ('Place').\n",
    "\n",
    "Attenzione a selezionare solo i dati con 'Age' strettamente minore a 40.\n",
    "\n",
    "Sposta la legenda (`plt.legend()`) fuori dal grafico con l'argomento \n",
    "`bbox_to_anchor` uguale al valore `(1.05, 1)`\n"
   ]
  },
  {
   "cell_type": "code",
   "execution_count": 67,
   "metadata": {
    "colab": {
     "base_uri": "https://localhost:8080/",
     "height": 310
    },
    "id": "UyyMsZjOgPby",
    "outputId": "6f118aad-43d4-47b1-d06a-dc4404526059"
   },
   "outputs": [
    {
     "data": {
      "image/png": "[encoded data removed]",
      "text/plain": [
       "<Figure size 432x288 with 1 Axes>"
      ]
     },
     "metadata": {},
     "output_type": "display_data"
    }
   ],
   "source": [
    "plt.title('Correlazione fra Age e NW_Bd (per età sotto i 40 anni)')\n",
    "\n",
    "sns.scatterplot(data=forbes[forbes['Age'] < 40],\n",
    "                x='Age',\n",
    "                y='NW_Bd',\n",
    "                hue='Place')\n",
    "\n",
    "plt.legend(bbox_to_anchor=(1.05,1)) \n",
    "plt.show()"
   ]
  },
  {
   "cell_type": "code",
   "execution_count": 67,
   "metadata": {
    "id": "6YgD3tsPhFFR"
   },
   "outputs": [],
   "source": []
  },
  {
   "cell_type": "code",
   "execution_count": 67,
   "metadata": {
    "id": "FJNON0ZigSyF"
   },
   "outputs": [],
   "source": []
  },
  {
   "cell_type": "code",
   "execution_count": 67,
   "metadata": {
    "id": "TjsPrhwmiZWg"
   },
   "outputs": [],
   "source": []
  },
  {
   "cell_type": "markdown",
   "metadata": {
    "id": "rn1INHCGiXYp"
   },
   "source": [
    "#### 39. Crea un istogramma della New Worth per valori sopra ai 9 miliardi di dollari.\n",
    "\n",
    "Salva prima le selezione in un nuovo DataFrame, quanti righe rimangolo?  \n",
    "Crea l'istogramma."
   ]
  },
  {
   "cell_type": "code",
   "execution_count": 68,
   "metadata": {
    "colab": {
     "base_uri": "https://localhost:8080/"
    },
    "id": "FXL5qdq8XSnk",
    "outputId": "24091116-40df-4718-9a37-000ca5a89dd0"
   },
   "outputs": [
    {
     "data": {
      "text/plain": [
       "(2095, 8)"
      ]
     },
     "execution_count": 68,
     "metadata": {},
     "output_type": "execute_result"
    }
   ],
   "source": [
    "forbes.shape"
   ]
  },
  {
   "cell_type": "code",
   "execution_count": 69,
   "metadata": {
    "colab": {
     "base_uri": "https://localhost:8080/"
    },
    "id": "DMaR8y4OW1Ku",
    "outputId": "103475c8-ffde-4fde-e32a-8d715422ed7d"
   },
   "outputs": [
    {
     "data": {
      "text/plain": [
       "Index(['Rank', 'Name', 'NW_Bd', 'Age', 'Place', 'Source', 'Industries',\n",
       "       'NW_Be'],\n",
       "      dtype='object')"
      ]
     },
     "execution_count": 69,
     "metadata": {},
     "output_type": "execute_result"
    }
   ],
   "source": [
    "forbes.columns"
   ]
  },
  {
   "cell_type": "code",
   "execution_count": 70,
   "metadata": {
    "colab": {
     "base_uri": "https://localhost:8080/"
    },
    "id": "_i0d0dCiXJSE",
    "outputId": "86a57120-4a40-4b3c-e635-4cd4d04c50f5"
   },
   "outputs": [
    {
     "data": {
      "text/plain": [
       "(152, 8)"
      ]
     },
     "execution_count": 70,
     "metadata": {},
     "output_type": "execute_result"
    }
   ],
   "source": [
    "ninebil = forbes[forbes['NW_Bd'] > 9]\n",
    "ninebil.shape"
   ]
  },
  {
   "cell_type": "markdown",
   "metadata": {
    "id": "P5C27lzrXUxz"
   },
   "source": [
    "Di 2095 bilionari totali solo 152 hanno più di 9 miliardi di euro."
   ]
  },
  {
   "cell_type": "code",
   "execution_count": 71,
   "metadata": {
    "colab": {
     "base_uri": "https://localhost:8080/",
     "height": 296
    },
    "id": "VJZ7xKFtgS05",
    "outputId": "c62f1757-6aeb-429b-9488-128638493726"
   },
   "outputs": [
    {
     "data": {
      "image/png": "[encoded data removed]",
      "text/plain": [
       "<Figure size 432x288 with 1 Axes>"
      ]
     },
     "metadata": {},
     "output_type": "display_data"
    }
   ],
   "source": [
    "plt.title('Istogramma della New Worth per valori sopra ai 9 miliardi di dollari')\n",
    "\n",
    "sns.histplot(data=ninebil,\n",
    "             x='NW_Bd',\n",
    "             bins=30)\n",
    "plt.show()"
   ]
  },
  {
   "cell_type": "code",
   "execution_count": 71,
   "metadata": {
    "id": "t7mh9MmwjM1f"
   },
   "outputs": [],
   "source": []
  },
  {
   "cell_type": "code",
   "execution_count": 71,
   "metadata": {
    "id": "YXtn51nVhngo"
   },
   "outputs": [],
   "source": []
  },
  {
   "cell_type": "code",
   "execution_count": 71,
   "metadata": {
    "id": "TQkDFMCBg2LV"
   },
   "outputs": [],
   "source": []
  },
  {
   "cell_type": "markdown",
   "metadata": {
    "id": "viME9iJuIU65"
   },
   "source": [
    "#### 40. Bonus: argomenta altri prossibili scenari da esplorare o/e visualizza altri grafici commentati"
   ]
  },
  {
   "cell_type": "code",
   "execution_count": 72,
   "metadata": {
    "colab": {
     "base_uri": "https://localhost:8080/"
    },
    "id": "JhpmyN9Ul512",
    "outputId": "30d50260-9fd4-4706-ac0e-875a3ac7b872"
   },
   "outputs": [
    {
     "data": {
      "text/plain": [
       "Index(['Rank', 'Name', 'NW_Bd', 'Age', 'Place', 'Source', 'Industries',\n",
       "       'NW_Be'],\n",
       "      dtype='object')"
      ]
     },
     "execution_count": 72,
     "metadata": {},
     "output_type": "execute_result"
    }
   ],
   "source": [
    "forbes.columns"
   ]
  },
  {
   "cell_type": "code",
   "execution_count": 73,
   "metadata": {
    "colab": {
     "base_uri": "https://localhost:8080/"
    },
    "id": "yvkzUGlVVSqi",
    "outputId": "c21caa98-97ea-422a-d0a7-87aee066e8f2"
   },
   "outputs": [
    {
     "data": {
      "text/plain": [
       "Rank           179\n",
       "Name          2093\n",
       "NW_Bd          179\n",
       "Age             75\n",
       "Place           72\n",
       "Source         736\n",
       "Industries      18\n",
       "NW_Be          179\n",
       "dtype: int64"
      ]
     },
     "execution_count": 73,
     "metadata": {},
     "output_type": "execute_result"
    }
   ],
   "source": [
    "forbes.nunique()"
   ]
  },
  {
   "cell_type": "code",
   "execution_count": 74,
   "metadata": {
    "colab": {
     "base_uri": "https://localhost:8080/"
    },
    "id": "eXoigQ0wVStQ",
    "outputId": "9bfa11c0-c1af-492c-c5a7-915b4a1dd81c"
   },
   "outputs": [
    {
     "data": {
      "text/plain": [
       "real estate        164\n",
       "investments         82\n",
       "diversified         76\n",
       "pharmaceuticals     71\n",
       "software            42\n",
       "Name: Source, dtype: int64"
      ]
     },
     "execution_count": 74,
     "metadata": {},
     "output_type": "execute_result"
    }
   ],
   "source": [
    "forbes.Source.value_counts().head()"
   ]
  },
  {
   "cell_type": "markdown",
   "metadata": {
    "id": "NR4LG53AX8Io"
   },
   "source": [
    "La maggiore sorgente (unica) di guadagno per bilionari viene da 'real estate', seguito da 'investments'."
   ]
  },
  {
   "cell_type": "code",
   "execution_count": 75,
   "metadata": {
    "colab": {
     "base_uri": "https://localhost:8080/",
     "height": 296
    },
    "id": "by6tfQs9X879",
    "outputId": "55eddd50-36db-45db-a5b9-71da564e1f3e"
   },
   "outputs": [
    {
     "data": {
      "image/png": "[encoded data removed]",
      "text/plain": [
       "<Figure size 432x288 with 1 Axes>"
      ]
     },
     "metadata": {},
     "output_type": "display_data"
    }
   ],
   "source": [
    "plt.title(\"Distribuzione della net worth in euro dei bilionari con fonti uniche da real estate' e 'investments\")\n",
    "\n",
    "sns.boxplot(data=forbes[forbes['Source'].isin(['real estate', 'investments'])],\n",
    "            x='NW_Be',\n",
    "            y='Source');"
   ]
  },
  {
   "cell_type": "code",
   "execution_count": 75,
   "metadata": {
    "id": "rjsvj1gQVSwI"
   },
   "outputs": [],
   "source": []
  },
  {
   "cell_type": "code",
   "execution_count": 76,
   "metadata": {
    "colab": {
     "base_uri": "https://localhost:8080/"
    },
    "id": "l1kV_lOJVSyt",
    "outputId": "c7acc20a-55ee-4e7d-af29-88c7c4c2c4fe"
   },
   "outputs": [
    {
     "data": {
      "text/plain": [
       "United States     614\n",
       "China             387\n",
       "Germany           107\n",
       "India             102\n",
       "Russia             99\n",
       "Hong Kong          67\n",
       "Brazil             45\n",
       "United Kingdom     45\n",
       "Canada             44\n",
       "France             39\n",
       "Name: Place, dtype: int64"
      ]
     },
     "execution_count": 76,
     "metadata": {},
     "output_type": "execute_result"
    }
   ],
   "source": [
    "forbes.Place.value_counts().head(10)"
   ]
  },
  {
   "cell_type": "code",
   "execution_count": 77,
   "metadata": {
    "colab": {
     "base_uri": "https://localhost:8080/",
     "height": 296
    },
    "id": "vdGzmp6LVS1i",
    "outputId": "3a6c3631-bfbb-4295-e1c6-330e4677feb0"
   },
   "outputs": [
    {
     "data": {
      "image/png": "[encoded data removed]",
      "text/plain": [
       "<Figure size 432x288 with 1 Axes>"
      ]
     },
     "metadata": {},
     "output_type": "display_data"
    }
   ],
   "source": [
    "plt.title(\"Distribuzione della net worth in euro dei bilionari in Germania, Francia e Italia\")\n",
    "\n",
    "sns.boxplot(data=forbes[forbes['Place'].isin(['Germany', 'France', 'Italy'])],\n",
    "            x='NW_Be',\n",
    "            y='Place');"
   ]
  },
  {
   "cell_type": "code",
   "execution_count": 78,
   "metadata": {
    "colab": {
     "base_uri": "https://localhost:8080/",
     "height": 296
    },
    "id": "ygkSlj6JVS4k",
    "outputId": "ad33b001-a1cb-4bde-ae64-91fb2bbb9b1c"
   },
   "outputs": [
    {
     "data": {
      "image/png": "[encoded data removed]",
      "text/plain": [
       "<Figure size 432x288 with 1 Axes>"
      ]
     },
     "metadata": {},
     "output_type": "display_data"
    }
   ],
   "source": [
    "plt.title(\"Distribuzione della net worth in euro dei bilionari in Spagna e Italia\")\n",
    "\n",
    "sns.boxplot(data=forbes[forbes['Place'].isin(['Spain', 'Italy'])],\n",
    "            x='NW_Be',\n",
    "            y='Place');"
   ]
  },
  {
   "cell_type": "code",
   "execution_count": 79,
   "metadata": {
    "colab": {
     "base_uri": "https://localhost:8080/",
     "height": 363
    },
    "id": "NpCMK06pZytl",
    "outputId": "b8451017-8c6f-4733-a6fb-466ad96fb48b"
   },
   "outputs": [
    {
     "data": {
      "text/html": [
       "\n",
       "  <div id=\"df-d3fe7d32-ee1a-4c77-a186-70944b289ca2\">\n",
       "    <div class=\"colab-df-container\">\n",
       "      <div>\n",
       "<style scoped>\n",
       "    .dataframe tbody tr th:only-of-type {\n",
       "        vertical-align: middle;\n",
       "    }\n",
       "\n",
       "    .dataframe tbody tr th {\n",
       "        vertical-align: top;\n",
       "    }\n",
       "\n",
       "    .dataframe thead th {\n",
       "        text-align: right;\n",
       "    }\n",
       "</style>\n",
       "<table border=\"1\" class=\"dataframe\">\n",
       "  <thead>\n",
       "    <tr style=\"text-align: right;\">\n",
       "      <th></th>\n",
       "      <th>Rank</th>\n",
       "      <th>Name</th>\n",
       "      <th>NW_Bd</th>\n",
       "      <th>Age</th>\n",
       "      <th>Place</th>\n",
       "      <th>Source</th>\n",
       "      <th>Industries</th>\n",
       "      <th>NW_Be</th>\n",
       "    </tr>\n",
       "  </thead>\n",
       "  <tbody>\n",
       "    <tr>\n",
       "      <th>31</th>\n",
       "      <td>32</td>\n",
       "      <td>GIOVANNI FERRERO</td>\n",
       "      <td>24.5</td>\n",
       "      <td>55.0</td>\n",
       "      <td>Italy</td>\n",
       "      <td>Nutella, chocolates</td>\n",
       "      <td>Food &amp; Beverage</td>\n",
       "      <td>22.94</td>\n",
       "    </tr>\n",
       "    <tr>\n",
       "      <th>61</th>\n",
       "      <td>62</td>\n",
       "      <td>LEONARDO DEL VECCHIO &amp; FAMILY</td>\n",
       "      <td>16.1</td>\n",
       "      <td>84.0</td>\n",
       "      <td>Italy</td>\n",
       "      <td>eyeglasses</td>\n",
       "      <td>Fashion &amp; Retail</td>\n",
       "      <td>15.07</td>\n",
       "    </tr>\n",
       "    <tr>\n",
       "      <th>133</th>\n",
       "      <td>133</td>\n",
       "      <td>STEFANO PESSINA</td>\n",
       "      <td>10.2</td>\n",
       "      <td>78.0</td>\n",
       "      <td>Italy</td>\n",
       "      <td>drugstores</td>\n",
       "      <td>Fashion &amp; Retail</td>\n",
       "      <td>9.55</td>\n",
       "    </tr>\n",
       "    <tr>\n",
       "      <th>227</th>\n",
       "      <td>224</td>\n",
       "      <td>MASSIMILIANA LANDINI ALEOTTI &amp; FAMILY</td>\n",
       "      <td>6.6</td>\n",
       "      <td>77.0</td>\n",
       "      <td>Italy</td>\n",
       "      <td>pharmaceuticals</td>\n",
       "      <td>Healthcare</td>\n",
       "      <td>6.18</td>\n",
       "    </tr>\n",
       "    <tr>\n",
       "      <th>303</th>\n",
       "      <td>304</td>\n",
       "      <td>GIORGIO ARMANI</td>\n",
       "      <td>5.4</td>\n",
       "      <td>85.0</td>\n",
       "      <td>Italy</td>\n",
       "      <td>luxury goods</td>\n",
       "      <td>Fashion &amp; Retail</td>\n",
       "      <td>5.06</td>\n",
       "    </tr>\n",
       "    <tr>\n",
       "      <th>307</th>\n",
       "      <td>308</td>\n",
       "      <td>SILVIO BERLUSCONI &amp; FAMILY</td>\n",
       "      <td>5.3</td>\n",
       "      <td>83.0</td>\n",
       "      <td>Italy</td>\n",
       "      <td>media</td>\n",
       "      <td>Diversified</td>\n",
       "      <td>4.96</td>\n",
       "    </tr>\n",
       "    <tr>\n",
       "      <th>445</th>\n",
       "      <td>437</td>\n",
       "      <td>AUGUSTO &amp; GIORGIO PERFETTI</td>\n",
       "      <td>4.1</td>\n",
       "      <td>NaN</td>\n",
       "      <td>Italy</td>\n",
       "      <td>candy</td>\n",
       "      <td>Food &amp; Beverage</td>\n",
       "      <td>3.84</td>\n",
       "    </tr>\n",
       "    <tr>\n",
       "      <th>638</th>\n",
       "      <td>616</td>\n",
       "      <td>PAOLO &amp; GIANFELICE MARIO ROCCA</td>\n",
       "      <td>3.2</td>\n",
       "      <td>NaN</td>\n",
       "      <td>Italy</td>\n",
       "      <td>pipe manufacturing</td>\n",
       "      <td>Metals &amp; Mining</td>\n",
       "      <td>3.00</td>\n",
       "    </tr>\n",
       "    <tr>\n",
       "      <th>653</th>\n",
       "      <td>648</td>\n",
       "      <td>GUSTAVO DENEGRI</td>\n",
       "      <td>3.1</td>\n",
       "      <td>83.0</td>\n",
       "      <td>Italy</td>\n",
       "      <td>biotech</td>\n",
       "      <td>Healthcare</td>\n",
       "      <td>2.90</td>\n",
       "    </tr>\n",
       "    <tr>\n",
       "      <th>683</th>\n",
       "      <td>680</td>\n",
       "      <td>GIUSEPPE DE'LONGHI &amp; FAMILY</td>\n",
       "      <td>3.0</td>\n",
       "      <td>80.0</td>\n",
       "      <td>Italy</td>\n",
       "      <td>coffee makers</td>\n",
       "      <td>Fashion &amp; Retail</td>\n",
       "      <td>2.81</td>\n",
       "    </tr>\n",
       "  </tbody>\n",
       "</table>\n",
       "</div>\n",
       "      <button class=\"colab-df-convert\" onclick=\"convertToInteractive('df-d3fe7d32-ee1a-4c77-a186-70944b289ca2')\"\n",
       "              title=\"Convert this dataframe to an interactive table.\"\n",
       "              style=\"display:none;\">\n",
       "        \n",
       "  <svg xmlns=\"http://www.w3.org/2000/svg\" height=\"24px\"viewBox=\"0 0 24 24\"\n",
       "       width=\"24px\">\n",
       "    <path d=\"M0 0h24v24H0V0z\" fill=\"none\"/>\n",
       "    <path d=\"M18.56 5.44l.94 2.06.94-2.06 2.06-.94-2.06-.94-.94-2.06-.94 2.06-2.06.94zm-11 1L8.5 8.5l.94-2.06 2.06-.94-2.06-.94L8.5 2.5l-.94 2.06-2.06.94zm10 10l.94 2.06.94-2.06 2.06-.94-2.06-.94-.94-2.06-.94 2.06-2.06.94z\"/><path d=\"M17.41 7.96l-1.37-1.37c-.4-.4-.92-.59-1.43-.59-.52 0-1.04.2-1.43.59L10.3 9.45l-7.72 7.72c-.78.78-.78 2.05 0 2.83L4 21.41c.39.39.9.59 1.41.59.51 0 1.02-.2 1.41-.59l7.78-7.78 2.81-2.81c.8-.78.8-2.07 0-2.86zM5.41 20L4 18.59l7.72-7.72 1.47 1.35L5.41 20z\"/>\n",
       "  </svg>\n",
       "      </button>\n",
       "      \n",
       "  <style>\n",
       "    .colab-df-container {\n",
       "      display:flex;\n",
       "      flex-wrap:wrap;\n",
       "      gap: 12px;\n",
       "    }\n",
       "\n",
       "    .colab-df-convert {\n",
       "      background-color: #E8F0FE;\n",
       "      border: none;\n",
       "      border-radius: 50%;\n",
       "      cursor: pointer;\n",
       "      display: none;\n",
       "      fill: #1967D2;\n",
       "      height: 32px;\n",
       "      padding: 0 0 0 0;\n",
       "      width: 32px;\n",
       "    }\n",
       "\n",
       "    .colab-df-convert:hover {\n",
       "      background-color: #E2EBFA;\n",
       "      box-shadow: 0px 1px 2px rgba(60, 64, 67, 0.3), 0px 1px 3px 1px rgba(60, 64, 67, 0.15);\n",
       "      fill: #174EA6;\n",
       "    }\n",
       "\n",
       "    [theme=dark] .colab-df-convert {\n",
       "      background-color: #3B4455;\n",
       "      fill: #D2E3FC;\n",
       "    }\n",
       "\n",
       "    [theme=dark] .colab-df-convert:hover {\n",
       "      background-color: #434B5C;\n",
       "      box-shadow: 0px 1px 3px 1px rgba(0, 0, 0, 0.15);\n",
       "      filter: drop-shadow(0px 1px 2px rgba(0, 0, 0, 0.3));\n",
       "      fill: #FFFFFF;\n",
       "    }\n",
       "  </style>\n",
       "\n",
       "      <script>\n",
       "        const buttonEl =\n",
       "          document.querySelector('#df-d3fe7d32-ee1a-4c77-a186-70944b289ca2 button.colab-df-convert');\n",
       "        buttonEl.style.display =\n",
       "          google.colab.kernel.accessAllowed ? 'block' : 'none';\n",
       "\n",
       "        async function convertToInteractive(key) {\n",
       "          const element = document.querySelector('#df-d3fe7d32-ee1a-4c77-a186-70944b289ca2');\n",
       "          const dataTable =\n",
       "            await google.colab.kernel.invokeFunction('convertToInteractive',\n",
       "                                                     [key], {});\n",
       "          if (!dataTable) return;\n",
       "\n",
       "          const docLinkHtml = 'Like what you see? Visit the ' +\n",
       "            '<a target=\"_blank\" href=https://colab.research.google.com/notebooks/data_table.ipynb>data table notebook</a>'\n",
       "            + ' to learn more about interactive tables.';\n",
       "          element.innerHTML = '';\n",
       "          dataTable['output_type'] = 'display_data';\n",
       "          await google.colab.output.renderOutput(dataTable, element);\n",
       "          const docLink = document.createElement('div');\n",
       "          docLink.innerHTML = docLinkHtml;\n",
       "          element.appendChild(docLink);\n",
       "        }\n",
       "      </script>\n",
       "    </div>\n",
       "  </div>\n",
       "  "
      ],
      "text/plain": [
       "     Rank                                   Name  NW_Bd   Age  Place  \\\n",
       "31     32                       GIOVANNI FERRERO   24.5  55.0  Italy   \n",
       "61     62          LEONARDO DEL VECCHIO & FAMILY   16.1  84.0  Italy   \n",
       "133   133                        STEFANO PESSINA   10.2  78.0  Italy   \n",
       "227   224  MASSIMILIANA LANDINI ALEOTTI & FAMILY    6.6  77.0  Italy   \n",
       "303   304                         GIORGIO ARMANI    5.4  85.0  Italy   \n",
       "307   308             SILVIO BERLUSCONI & FAMILY    5.3  83.0  Italy   \n",
       "445   437             AUGUSTO & GIORGIO PERFETTI    4.1   NaN  Italy   \n",
       "638   616         PAOLO & GIANFELICE MARIO ROCCA    3.2   NaN  Italy   \n",
       "653   648                        GUSTAVO DENEGRI    3.1  83.0  Italy   \n",
       "683   680            GIUSEPPE DE'LONGHI & FAMILY    3.0  80.0  Italy   \n",
       "\n",
       "                  Source        Industries  NW_Be  \n",
       "31   Nutella, chocolates   Food & Beverage  22.94  \n",
       "61            eyeglasses  Fashion & Retail  15.07  \n",
       "133           drugstores  Fashion & Retail   9.55  \n",
       "227      pharmaceuticals        Healthcare   6.18  \n",
       "303         luxury goods  Fashion & Retail   5.06  \n",
       "307                media       Diversified   4.96  \n",
       "445                candy   Food & Beverage   3.84  \n",
       "638   pipe manufacturing   Metals & Mining   3.00  \n",
       "653              biotech        Healthcare   2.90  \n",
       "683        coffee makers  Fashion & Retail   2.81  "
      ]
     },
     "execution_count": 79,
     "metadata": {},
     "output_type": "execute_result"
    }
   ],
   "source": [
    "# Italiani più ricchi nel 2020\n",
    "\n",
    "forbes[forbes['Place'] == 'Italy'].sort_values('NW_Be', ascending=False).head(10)"
   ]
  },
  {
   "cell_type": "code",
   "execution_count": 80,
   "metadata": {
    "colab": {
     "base_uri": "https://localhost:8080/",
     "height": 363
    },
    "id": "g7jdbImWaCVO",
    "outputId": "5f3eec50-c132-4fad-c8ab-96e9abef52ee"
   },
   "outputs": [
    {
     "data": {
      "text/html": [
       "\n",
       "  <div id=\"df-8b905b17-c476-4bdf-9d2c-284fefb2665d\">\n",
       "    <div class=\"colab-df-container\">\n",
       "      <div>\n",
       "<style scoped>\n",
       "    .dataframe tbody tr th:only-of-type {\n",
       "        vertical-align: middle;\n",
       "    }\n",
       "\n",
       "    .dataframe tbody tr th {\n",
       "        vertical-align: top;\n",
       "    }\n",
       "\n",
       "    .dataframe thead th {\n",
       "        text-align: right;\n",
       "    }\n",
       "</style>\n",
       "<table border=\"1\" class=\"dataframe\">\n",
       "  <thead>\n",
       "    <tr style=\"text-align: right;\">\n",
       "      <th></th>\n",
       "      <th>Rank</th>\n",
       "      <th>Name</th>\n",
       "      <th>NW_Bd</th>\n",
       "      <th>Age</th>\n",
       "      <th>Place</th>\n",
       "      <th>Source</th>\n",
       "      <th>Industries</th>\n",
       "      <th>NW_Be</th>\n",
       "    </tr>\n",
       "  </thead>\n",
       "  <tbody>\n",
       "    <tr>\n",
       "      <th>1855</th>\n",
       "      <td>1851</td>\n",
       "      <td>SABRINA BENETTON</td>\n",
       "      <td>1.1</td>\n",
       "      <td>46.0</td>\n",
       "      <td>Italy</td>\n",
       "      <td>fashion retail, investments</td>\n",
       "      <td>Fashion &amp; Retail</td>\n",
       "      <td>1.03</td>\n",
       "    </tr>\n",
       "    <tr>\n",
       "      <th>847</th>\n",
       "      <td>836</td>\n",
       "      <td>LUCA GARAVOGLIA</td>\n",
       "      <td>2.5</td>\n",
       "      <td>51.0</td>\n",
       "      <td>Italy</td>\n",
       "      <td>spirits</td>\n",
       "      <td>Food &amp; Beverage</td>\n",
       "      <td>2.34</td>\n",
       "    </tr>\n",
       "    <tr>\n",
       "      <th>31</th>\n",
       "      <td>32</td>\n",
       "      <td>GIOVANNI FERRERO</td>\n",
       "      <td>24.5</td>\n",
       "      <td>55.0</td>\n",
       "      <td>Italy</td>\n",
       "      <td>Nutella, chocolates</td>\n",
       "      <td>Food &amp; Beverage</td>\n",
       "      <td>22.94</td>\n",
       "    </tr>\n",
       "    <tr>\n",
       "      <th>1888</th>\n",
       "      <td>1851</td>\n",
       "      <td>STEFANO GABBANA</td>\n",
       "      <td>1.1</td>\n",
       "      <td>57.0</td>\n",
       "      <td>Italy</td>\n",
       "      <td>luxury goods</td>\n",
       "      <td>Fashion &amp; Retail</td>\n",
       "      <td>1.03</td>\n",
       "    </tr>\n",
       "    <tr>\n",
       "      <th>1241</th>\n",
       "      <td>1196</td>\n",
       "      <td>REMO RUFFINI</td>\n",
       "      <td>1.8</td>\n",
       "      <td>58.0</td>\n",
       "      <td>Italy</td>\n",
       "      <td>winter jackets</td>\n",
       "      <td>Fashion &amp; Retail</td>\n",
       "      <td>1.69</td>\n",
       "    </tr>\n",
       "    <tr>\n",
       "      <th>1405</th>\n",
       "      <td>1335</td>\n",
       "      <td>SANDRO VERONESI &amp; FAMILY</td>\n",
       "      <td>1.6</td>\n",
       "      <td>60.0</td>\n",
       "      <td>Italy</td>\n",
       "      <td>fashion</td>\n",
       "      <td>Fashion &amp; Retail</td>\n",
       "      <td>1.50</td>\n",
       "    </tr>\n",
       "    <tr>\n",
       "      <th>1082</th>\n",
       "      <td>1063</td>\n",
       "      <td>ALESSANDRA GARAVOGLIA</td>\n",
       "      <td>2.0</td>\n",
       "      <td>60.0</td>\n",
       "      <td>Italy</td>\n",
       "      <td>spirits</td>\n",
       "      <td>Food &amp; Beverage</td>\n",
       "      <td>1.87</td>\n",
       "    </tr>\n",
       "    <tr>\n",
       "      <th>1878</th>\n",
       "      <td>1851</td>\n",
       "      <td>DOMENICO DOLCE</td>\n",
       "      <td>1.1</td>\n",
       "      <td>61.0</td>\n",
       "      <td>Italy</td>\n",
       "      <td>luxury goods</td>\n",
       "      <td>Fashion &amp; Retail</td>\n",
       "      <td>1.03</td>\n",
       "    </tr>\n",
       "    <tr>\n",
       "      <th>862</th>\n",
       "      <td>836</td>\n",
       "      <td>RENZO ROSSO &amp; FAMILY</td>\n",
       "      <td>2.5</td>\n",
       "      <td>64.0</td>\n",
       "      <td>Italy</td>\n",
       "      <td>fashion</td>\n",
       "      <td>Fashion &amp; Retail</td>\n",
       "      <td>2.34</td>\n",
       "    </tr>\n",
       "    <tr>\n",
       "      <th>2049</th>\n",
       "      <td>1990</td>\n",
       "      <td>ANTONIO PERCASSI</td>\n",
       "      <td>1.0</td>\n",
       "      <td>66.0</td>\n",
       "      <td>Italy</td>\n",
       "      <td>real estate, diversified</td>\n",
       "      <td>Diversified</td>\n",
       "      <td>0.94</td>\n",
       "    </tr>\n",
       "  </tbody>\n",
       "</table>\n",
       "</div>\n",
       "      <button class=\"colab-df-convert\" onclick=\"convertToInteractive('df-8b905b17-c476-4bdf-9d2c-284fefb2665d')\"\n",
       "              title=\"Convert this dataframe to an interactive table.\"\n",
       "              style=\"display:none;\">\n",
       "        \n",
       "  <svg xmlns=\"http://www.w3.org/2000/svg\" height=\"24px\"viewBox=\"0 0 24 24\"\n",
       "       width=\"24px\">\n",
       "    <path d=\"M0 0h24v24H0V0z\" fill=\"none\"/>\n",
       "    <path d=\"M18.56 5.44l.94 2.06.94-2.06 2.06-.94-2.06-.94-.94-2.06-.94 2.06-2.06.94zm-11 1L8.5 8.5l.94-2.06 2.06-.94-2.06-.94L8.5 2.5l-.94 2.06-2.06.94zm10 10l.94 2.06.94-2.06 2.06-.94-2.06-.94-.94-2.06-.94 2.06-2.06.94z\"/><path d=\"M17.41 7.96l-1.37-1.37c-.4-.4-.92-.59-1.43-.59-.52 0-1.04.2-1.43.59L10.3 9.45l-7.72 7.72c-.78.78-.78 2.05 0 2.83L4 21.41c.39.39.9.59 1.41.59.51 0 1.02-.2 1.41-.59l7.78-7.78 2.81-2.81c.8-.78.8-2.07 0-2.86zM5.41 20L4 18.59l7.72-7.72 1.47 1.35L5.41 20z\"/>\n",
       "  </svg>\n",
       "      </button>\n",
       "      \n",
       "  <style>\n",
       "    .colab-df-container {\n",
       "      display:flex;\n",
       "      flex-wrap:wrap;\n",
       "      gap: 12px;\n",
       "    }\n",
       "\n",
       "    .colab-df-convert {\n",
       "      background-color: #E8F0FE;\n",
       "      border: none;\n",
       "      border-radius: 50%;\n",
       "      cursor: pointer;\n",
       "      display: none;\n",
       "      fill: #1967D2;\n",
       "      height: 32px;\n",
       "      padding: 0 0 0 0;\n",
       "      width: 32px;\n",
       "    }\n",
       "\n",
       "    .colab-df-convert:hover {\n",
       "      background-color: #E2EBFA;\n",
       "      box-shadow: 0px 1px 2px rgba(60, 64, 67, 0.3), 0px 1px 3px 1px rgba(60, 64, 67, 0.15);\n",
       "      fill: #174EA6;\n",
       "    }\n",
       "\n",
       "    [theme=dark] .colab-df-convert {\n",
       "      background-color: #3B4455;\n",
       "      fill: #D2E3FC;\n",
       "    }\n",
       "\n",
       "    [theme=dark] .colab-df-convert:hover {\n",
       "      background-color: #434B5C;\n",
       "      box-shadow: 0px 1px 3px 1px rgba(0, 0, 0, 0.15);\n",
       "      filter: drop-shadow(0px 1px 2px rgba(0, 0, 0, 0.3));\n",
       "      fill: #FFFFFF;\n",
       "    }\n",
       "  </style>\n",
       "\n",
       "      <script>\n",
       "        const buttonEl =\n",
       "          document.querySelector('#df-8b905b17-c476-4bdf-9d2c-284fefb2665d button.colab-df-convert');\n",
       "        buttonEl.style.display =\n",
       "          google.colab.kernel.accessAllowed ? 'block' : 'none';\n",
       "\n",
       "        async function convertToInteractive(key) {\n",
       "          const element = document.querySelector('#df-8b905b17-c476-4bdf-9d2c-284fefb2665d');\n",
       "          const dataTable =\n",
       "            await google.colab.kernel.invokeFunction('convertToInteractive',\n",
       "                                                     [key], {});\n",
       "          if (!dataTable) return;\n",
       "\n",
       "          const docLinkHtml = 'Like what you see? Visit the ' +\n",
       "            '<a target=\"_blank\" href=https://colab.research.google.com/notebooks/data_table.ipynb>data table notebook</a>'\n",
       "            + ' to learn more about interactive tables.';\n",
       "          element.innerHTML = '';\n",
       "          dataTable['output_type'] = 'display_data';\n",
       "          await google.colab.output.renderOutput(dataTable, element);\n",
       "          const docLink = document.createElement('div');\n",
       "          docLink.innerHTML = docLinkHtml;\n",
       "          element.appendChild(docLink);\n",
       "        }\n",
       "      </script>\n",
       "    </div>\n",
       "  </div>\n",
       "  "
      ],
      "text/plain": [
       "      Rank                      Name  NW_Bd   Age  Place  \\\n",
       "1855  1851          SABRINA BENETTON    1.1  46.0  Italy   \n",
       "847    836           LUCA GARAVOGLIA    2.5  51.0  Italy   \n",
       "31      32          GIOVANNI FERRERO   24.5  55.0  Italy   \n",
       "1888  1851           STEFANO GABBANA    1.1  57.0  Italy   \n",
       "1241  1196              REMO RUFFINI    1.8  58.0  Italy   \n",
       "1405  1335  SANDRO VERONESI & FAMILY    1.6  60.0  Italy   \n",
       "1082  1063     ALESSANDRA GARAVOGLIA    2.0  60.0  Italy   \n",
       "1878  1851            DOMENICO DOLCE    1.1  61.0  Italy   \n",
       "862    836      RENZO ROSSO & FAMILY    2.5  64.0  Italy   \n",
       "2049  1990          ANTONIO PERCASSI    1.0  66.0  Italy   \n",
       "\n",
       "                           Source        Industries  NW_Be  \n",
       "1855  fashion retail, investments  Fashion & Retail   1.03  \n",
       "847                       spirits   Food & Beverage   2.34  \n",
       "31            Nutella, chocolates   Food & Beverage  22.94  \n",
       "1888                 luxury goods  Fashion & Retail   1.03  \n",
       "1241               winter jackets  Fashion & Retail   1.69  \n",
       "1405                      fashion  Fashion & Retail   1.50  \n",
       "1082                      spirits   Food & Beverage   1.87  \n",
       "1878                 luxury goods  Fashion & Retail   1.03  \n",
       "862                       fashion  Fashion & Retail   2.34  \n",
       "2049     real estate, diversified       Diversified   0.94  "
      ]
     },
     "execution_count": 80,
     "metadata": {},
     "output_type": "execute_result"
    }
   ],
   "source": [
    "# Bilionari in Italia più giovani nel 2020\n",
    "\n",
    "forbes[forbes['Place'] == 'Italy'].sort_values('Age', ascending=True).head(10)"
   ]
  },
  {
   "cell_type": "code",
   "execution_count": 80,
   "metadata": {
    "id": "mdK6KNUqaQAN"
   },
   "outputs": [],
   "source": []
  }
 ],
 "metadata": {
  "colab": {
   "provenance": []
  },
  "kernelspec": {
   "display_name": "anaconda-2022.05-py39",
   "language": "python",
   "name": "conda-env-anaconda-2022.05-py39-py"
  },
  "language_info": {
   "codemirror_mode": {
    "name": "ipython",
    "version": 3
   },
   "file_extension": ".py",
   "mimetype": "text/x-python",
   "name": "python",
   "nbconvert_exporter": "python",
   "pygments_lexer": "ipython3",
   "version": "3.9.12"
  }
 },
 "nbformat": 4,
 "nbformat_minor": 4
}
