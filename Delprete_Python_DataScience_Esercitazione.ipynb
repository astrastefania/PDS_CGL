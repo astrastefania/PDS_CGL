{
 "cells": [
  {
   "cell_type": "markdown",
   "metadata": {
    "id": "LXLTWwJEIU6j"
   },
   "source": [
    "# Introduzione a Python e Data Science al corso Gnu/Linux\n",
    "by Stefania Delprete  \n",
    "EA Italy ([Altruismo Efficace](https://altruismoefficace.it)), EA Data Science/ML/AI  \n",
    "✉️ [astrastefania@gmail.com](mailto:twitter.com/astrastefania) \n",
    "👥 [linkedin.com/in/astrastefania](https://www.linkedin.com/in/astrastefania)  \n",
    "\n",
    "---\n",
    "\n",
    "# Esercitazione (senza soluzioni)\n",
    "\n",
    "---"
   ]
  },
  {
   "cell_type": "markdown",
   "metadata": {
    "id": "90bn24UZRLc6"
   },
   "source": [
    "\n",
    "## Concetti di Python\n",
    "\n"
   ]
  },
  {
   "cell_type": "markdown",
   "metadata": {
    "id": "pclmiDjFRLfi"
   },
   "source": [
    "#### 1. Elenca almeno tre caratteristiche fondamentali di *Python* (elenco numerato)-\n",
    "\n",
    "\n"
   ]
  },
  {
   "cell_type": "markdown",
   "metadata": {
    "id": "ex_Sfl3ORLii"
   },
   "source": [
    "#### 2. Quali due comandi puoi usare per avere informazioni di oggetti (tutti i metodi disponibili) e funzioni definite (per vederne la documentazione)? \n",
    "\n"
   ]
  },
  {
   "cell_type": "markdown",
   "metadata": {
    "id": "blDVVr2rVxCv"
   },
   "source": []
  },
  {
   "cell_type": "markdown",
   "metadata": {
    "id": "bvMUElM8RLlW"
   },
   "source": [
    "#### 3. Elenca meno due tipi di oggetti built-in immutabili e due mutabili in Python\n"
   ]
  },
  {
   "cell_type": "markdown",
   "metadata": {
    "id": "Hn_FhDh_SOsp"
   },
   "source": [
    "####4. Crea e manipola un dizionario\n",
    "1. Dichiara un dizionario col nome `fonetico` con cinque copie chiavi valori:   \n",
    "    * A \tAlfa\n",
    "    * B \tBravo\n",
    "    * C \tCharlie\n",
    "    * D \tDelta \n",
    "    * E \tEcho\n",
    "\n",
    "    \n",
    "    \n",
    "2. Stampa il valore corrispondendente alla chiave `'C'`\n",
    "3. Aggiungi la coppia chiave valore F Foxtrot\n",
    "4. Mostra le sole chiavi con un solo comando"
   ]
  },
  {
   "cell_type": "code",
   "execution_count": null,
   "metadata": {
    "id": "h47SsBu9Sfny"
   },
   "outputs": [],
   "source": []
  },
  {
   "cell_type": "code",
   "execution_count": null,
   "metadata": {
    "id": "__k73zLJSjds"
   },
   "outputs": [],
   "source": []
  },
  {
   "cell_type": "code",
   "execution_count": null,
   "metadata": {
    "id": "5zt_nyLaSjlb"
   },
   "outputs": [],
   "source": []
  },
  {
   "cell_type": "code",
   "execution_count": null,
   "metadata": {
    "id": "TMa9dCRHSjzU"
   },
   "outputs": [],
   "source": []
  },
  {
   "cell_type": "code",
   "execution_count": null,
   "metadata": {
    "id": "wSqYeNOCSkGv"
   },
   "outputs": [],
   "source": []
  },
  {
   "cell_type": "markdown",
   "metadata": {
    "id": "nWDF8wr-SgID"
   },
   "source": [
    "#### 5. Crea un ciclo for\n",
    "Per ogni elementi del dizionario `fonetico` dichiarato sopra mi stampi la stringa del tipo\n",
    "\"A è alpha.\""
   ]
  },
  {
   "cell_type": "code",
   "execution_count": null,
   "metadata": {
    "id": "PoBMwejORKJK"
   },
   "outputs": [],
   "source": []
  },
  {
   "cell_type": "code",
   "execution_count": null,
   "metadata": {
    "id": "P1LHuMQaRKMj"
   },
   "outputs": [],
   "source": []
  },
  {
   "cell_type": "code",
   "execution_count": null,
   "metadata": {
    "id": "2gARxkBURKO9"
   },
   "outputs": [],
   "source": []
  },
  {
   "cell_type": "code",
   "execution_count": null,
   "metadata": {
    "id": "LkJtT9ElSqel"
   },
   "outputs": [],
   "source": []
  },
  {
   "cell_type": "markdown",
   "metadata": {
    "id": "jA3VD4GRSrb1"
   },
   "source": [
    "#### 6. Crea e stampa una list comprehension\n",
    "1. Dichiara la lista col nome `quattro` di cui tutti i numeri divisibili per 4 da 0 a 52 compreso\n",
    "2. Stampa la lista creata\n",
    "3. Stampa la lunghezza della lista\n",
    "\n",
    "_Ripassatevi bene anche le dictionary comprehension!_"
   ]
  },
  {
   "cell_type": "code",
   "execution_count": null,
   "metadata": {
    "id": "v5D3Q1dcSqr3"
   },
   "outputs": [],
   "source": []
  },
  {
   "cell_type": "code",
   "execution_count": null,
   "metadata": {
    "id": "Asu6ats2TAFA"
   },
   "outputs": [],
   "source": []
  },
  {
   "cell_type": "markdown",
   "metadata": {
    "id": "HjOu83QrTAxG"
   },
   "source": [
    "#### 7. Crea una condizione IF tale che:\n",
    "1. Data una distanza dalla terra di 100 km assegnata alla variabile `dist_km`\n",
    "2. Stampi la seguenti stringhe:\n",
    "    * \"Sei nella troposfera\" se `dist_km` è compresa fra 0 e 10 km\n",
    "    * \"Sei nella stratosfera\" se `dist_km` è compresa fra 11 e 50 km\n",
    "    * \"Sei nella mesosfera\" se `dist_km` è compresa fra 51 e 80 km\n",
    "    * \"Sei nella termosfera\" se `dist_km` è compresa fra 81 e 500 km\n",
    "    * \"Sei nell'esosfera\" se `dist_km` è compresa fra 501 e 10000 km\n",
    "    * \"Non dove sei!\" in tutti gli altri casi"
   ]
  },
  {
   "cell_type": "code",
   "execution_count": null,
   "metadata": {
    "id": "f7PdaaRVTE1D"
   },
   "outputs": [],
   "source": []
  },
  {
   "cell_type": "code",
   "execution_count": null,
   "metadata": {
    "id": "JmZ9_P7aTE39"
   },
   "outputs": [],
   "source": []
  },
  {
   "cell_type": "markdown",
   "metadata": {
    "id": "h2s4nPrKRK-R"
   },
   "source": [
    "#### 8. Crea e richiama una funzione\n",
    "1. Implementa in una funzione `dove_sono` contenente la condizione IF della domanda 7., in modo che `dist_km` diventi l'argomento.\n",
    "2. Richiama la funzione creata per gli argomenti 44, 222, 1111 e 55555."
   ]
  },
  {
   "cell_type": "code",
   "execution_count": null,
   "metadata": {
    "id": "0o3EUPPATchX"
   },
   "outputs": [],
   "source": []
  },
  {
   "cell_type": "code",
   "execution_count": null,
   "metadata": {
    "id": "Dyv9gI_KTckL"
   },
   "outputs": [],
   "source": []
  },
  {
   "cell_type": "code",
   "execution_count": null,
   "metadata": {
    "id": "ZQtuziP1Tcm6"
   },
   "outputs": [],
   "source": []
  },
  {
   "cell_type": "markdown",
   "metadata": {
    "id": "8MRkoa1XDT6u"
   },
   "source": [
    "## Concetti di Statistica e Data Science"
   ]
  },
  {
   "cell_type": "markdown",
   "metadata": {
    "id": "3FpxypwZCXo9"
   },
   "source": [
    "#### 1. Qual è la differenza principale fra statistica descrittiva e inferenziale?"
   ]
  },
  {
   "cell_type": "markdown",
   "metadata": {
    "id": "FtY_TrYDC9np"
   },
   "source": [
    "#### 2. Quali sono le fasi di un progetto di Data Science? Crea un elenco numerato."
   ]
  },
  {
   "cell_type": "markdown",
   "metadata": {
    "id": "rJdTmmPKIU6q"
   },
   "source": [
    "#### 3. Indica almeno tre rappresentazioni grafiche usate in Data Science. Crea un elenco non numerato."
   ]
  },
  {
   "cell_type": "markdown",
   "metadata": {
    "id": "Dj9Xu474IU6o"
   },
   "source": [
    "#### 4. Quali indici di posizione vengono utilizzati in un grafico boxplot?"
   ]
  },
  {
   "cell_type": "markdown",
   "metadata": {
    "id": "eQgnV8a1IU6r"
   },
   "source": [
    "#### 5. Definisci un outlier"
   ]
  },
  {
   "cell_type": "markdown",
   "metadata": {
    "id": "Lu5rf0W8DoLl"
   },
   "source": [
    "## Computazione matematica"
   ]
  },
  {
   "cell_type": "markdown",
   "metadata": {
    "id": "DXKxmtgTIU6s"
   },
   "source": [
    "#### 6. Importa la libreria `numpy` con l'alias che abbiamo usato a lezione"
   ]
  },
  {
   "cell_type": "code",
   "execution_count": 1,
   "metadata": {
    "id": "yX9WtHqHIU6s"
   },
   "outputs": [],
   "source": [
    "import numpy as np"
   ]
  },
  {
   "cell_type": "markdown",
   "metadata": {
    "id": "1ajJN7I-GpX9"
   },
   "source": [
    "#### 7. Salva una lista e un NumPy array contenenti cinque valori di tipo `float`. Poi stampa entrambi."
   ]
  },
  {
   "cell_type": "code",
   "execution_count": 1,
   "metadata": {
    "id": "zd_Z0nUxIH9H"
   },
   "outputs": [],
   "source": []
  },
  {
   "cell_type": "markdown",
   "metadata": {
    "id": "4I09XBJKIU6s"
   },
   "source": [
    "#### 8. Qual è da differenza fra un NumPy array e una lista?"
   ]
  },
  {
   "cell_type": "code",
   "execution_count": 1,
   "metadata": {
    "id": "CEPB5oMMUA29"
   },
   "outputs": [],
   "source": []
  },
  {
   "cell_type": "markdown",
   "metadata": {
    "id": "iO-wNZdhIU6u"
   },
   "source": [
    "#### 9. Usando NumPy, calcola la media e la mediana del NumPy array del punto 7.   \n"
   ]
  },
  {
   "cell_type": "code",
   "execution_count": 1,
   "metadata": {
    "id": "TAsbBjMmT_FN"
   },
   "outputs": [],
   "source": []
  },
  {
   "cell_type": "markdown",
   "metadata": {
    "id": "AtQwG2kFIrR4"
   },
   "source": [
    "#### 10. Arrotonda la differenza fra mediana e media del punto 9. a tre decimali."
   ]
  },
  {
   "cell_type": "code",
   "execution_count": 1,
   "metadata": {
    "id": "XvPQ1OB9T_1z"
   },
   "outputs": [],
   "source": []
  },
  {
   "cell_type": "markdown",
   "metadata": {
    "id": "1mQfZPbjIU6w"
   },
   "source": [
    "#### 11. Crea una matrice con 8 colonne e 6 righe con valori casuali e visualizzala"
   ]
  },
  {
   "cell_type": "code",
   "execution_count": 1,
   "metadata": {
    "id": "tgUTn5vmT-ge"
   },
   "outputs": [],
   "source": []
  },
  {
   "cell_type": "markdown",
   "metadata": {
    "id": "twgDcRloJLRa"
   },
   "source": [
    "#### 12. Dalla matrice del punto 11. seleziona la sotto matriche formata dalla prime 3 righe e le ultime 2 colonne."
   ]
  },
  {
   "cell_type": "code",
   "execution_count": 1,
   "metadata": {
    "id": "qki2-NyRQpjg"
   },
   "outputs": [],
   "source": []
  },
  {
   "cell_type": "markdown",
   "metadata": {
    "id": "_g61_YhYJ0C7"
   },
   "source": [
    "---\n",
    "\n",
    "## Importazione, esplorazione e manipolazione di dataset"
   ]
  },
  {
   "cell_type": "markdown",
   "metadata": {
    "id": "LSpSzs9RIU6w"
   },
   "source": [
    "#### 13. Importa la libreria `pandas` con l'alias con l'alias che abbiamo usato a lezione"
   ]
  },
  {
   "cell_type": "code",
   "execution_count": 1,
   "metadata": {
    "id": "CjYAN8XmIU6w"
   },
   "outputs": [],
   "source": []
  },
  {
   "cell_type": "markdown",
   "metadata": {
    "id": "Mp5WF1LPIU6w"
   },
   "source": [
    "#### 14. Importa il file `forbes_billionaires_2020.csv` con l'opportuno modulo della libreria pandas Pandas\n",
    "\n",
    "\n",
    "Nomina il dataframe `forbes`"
   ]
  },
  {
   "cell_type": "code",
   "execution_count": 1,
   "metadata": {
    "id": "tvquJR9qIhRd"
   },
   "outputs": [],
   "source": []
  },
  {
   "cell_type": "code",
   "execution_count": 1,
   "metadata": {
    "id": "OWW50UuGIU6x"
   },
   "outputs": [],
   "source": []
  },
  {
   "cell_type": "markdown",
   "metadata": {
    "id": "IVtzLtDXIU6y"
   },
   "source": [
    "#### 15. Visualizzare il numero di osservazioni (righe) e variabili (colonne) sono presenti in `forbes`"
   ]
  },
  {
   "cell_type": "code",
   "execution_count": 1,
   "metadata": {
    "id": "UM1gtfG9IU6y"
   },
   "outputs": [],
   "source": []
  },
  {
   "cell_type": "markdown",
   "metadata": {
    "id": "XLlgcNJlQalb"
   },
   "source": [
    "#### 16. Visualizza con un comando informazioni su numero di valori e tipo di ciascuna variabile"
   ]
  },
  {
   "cell_type": "code",
   "execution_count": 1,
   "metadata": {
    "id": "4PWQuZTiIU6z"
   },
   "outputs": [],
   "source": []
  },
  {
   "cell_type": "markdown",
   "metadata": {
    "id": "IZt5wMJGIU6x"
   },
   "source": [
    "#### 17. Visualizza le le ultime quattro osservazioni e le prime otto osservazioni\n",
    "Usa due comandi separatamente."
   ]
  },
  {
   "cell_type": "code",
   "execution_count": 1,
   "metadata": {
    "id": "9BBxRKHzIU6y"
   },
   "outputs": [],
   "source": []
  },
  {
   "cell_type": "code",
   "execution_count": 1,
   "metadata": {
    "id": "xA-udhPBIU6y"
   },
   "outputs": [],
   "source": []
  },
  {
   "cell_type": "markdown",
   "metadata": {
    "id": "5pWPwqRdIU6y"
   },
   "source": [
    "#### 18. Visualizza i maggiori indici di posizione del dataframe `forbes` richiamando un solo modulo sul dataframe"
   ]
  },
  {
   "cell_type": "code",
   "execution_count": 1,
   "metadata": {
    "id": "bqPcVvb6IU6y",
    "scrolled": true
   },
   "outputs": [],
   "source": []
  },
  {
   "cell_type": "markdown",
   "metadata": {
    "id": "XSNUXe3OIU6z"
   },
   "source": [
    "#### 19. Seleziona colonna della variabile `Net Worth $B` e mostra i primi 10 valori / righe\n",
    "\n"
   ]
  },
  {
   "cell_type": "code",
   "execution_count": 1,
   "metadata": {
    "id": "YWdOixMYN8SZ"
   },
   "outputs": [],
   "source": []
  },
  {
   "cell_type": "code",
   "execution_count": 1,
   "metadata": {
    "id": "F6RIDcTPNu1h"
   },
   "outputs": [],
   "source": []
  },
  {
   "cell_type": "markdown",
   "metadata": {
    "id": "rUVencSARwBF"
   },
   "source": [
    "#### 20. Rinomina la colonna 'Net Worth $B' col nome 'NW_Bd' e la colonna 'Country/Territory' col nome 'Place'.\n",
    "Usiamo Bd intendendo Bilion dollars."
   ]
  },
  {
   "cell_type": "code",
   "execution_count": 1,
   "metadata": {
    "id": "d5E3AD5XRId5"
   },
   "outputs": [],
   "source": []
  },
  {
   "cell_type": "code",
   "execution_count": 1,
   "metadata": {
    "id": "a5kUD8NCSOIT"
   },
   "outputs": [],
   "source": []
  },
  {
   "cell_type": "markdown",
   "metadata": {
    "id": "qy5dFaEbIU6z"
   },
   "source": [
    "#### 21. Utilizzo di `.iloc` e `.loc` \n",
    "Visualizza solo le osservazioni/righe dalla 22 alla 31 e le ultime tre variabili/colonne usando propriamente **entrambi** i metodi `.iloc` e `.loc` "
   ]
  },
  {
   "cell_type": "code",
   "execution_count": 1,
   "metadata": {
    "id": "1VLjKFdJIU60"
   },
   "outputs": [],
   "source": []
  },
  {
   "cell_type": "code",
   "execution_count": 1,
   "metadata": {
    "id": "1M05qoBeIU60"
   },
   "outputs": [],
   "source": []
  },
  {
   "cell_type": "code",
   "execution_count": 1,
   "metadata": {
    "id": "cbvv_IFDIU60"
   },
   "outputs": [],
   "source": []
  },
  {
   "cell_type": "markdown",
   "metadata": {
    "id": "TvQqjR14Trpq"
   },
   "source": [
    "#### 22. Conta i valori delle ricorrenze della colonna 'Industries' \n",
    "\n",
    "Quale valore compare più volte?"
   ]
  },
  {
   "cell_type": "code",
   "execution_count": 1,
   "metadata": {
    "id": "hMg8TZeTTrzY"
   },
   "outputs": [],
   "source": []
  },
  {
   "cell_type": "code",
   "execution_count": 1,
   "metadata": {
    "id": "fJ3ByR6mRR7c"
   },
   "outputs": [],
   "source": []
  },
  {
   "cell_type": "code",
   "execution_count": 1,
   "metadata": {
    "id": "UrzmyqaURmBQ"
   },
   "outputs": [],
   "source": []
  },
  {
   "cell_type": "markdown",
   "metadata": {
    "id": "hto6_oiDIU60"
   },
   "source": [
    "#### 23. Seleziona solo le righe aventi la colonna 'Industries' col valore di 'Real Estate', e mostra le prima 20 righe"
   ]
  },
  {
   "cell_type": "code",
   "execution_count": 1,
   "metadata": {
    "id": "28yvBdzGHKv4"
   },
   "outputs": [],
   "source": []
  },
  {
   "cell_type": "markdown",
   "metadata": {
    "id": "jDaaSVWYUS1-"
   },
   "source": [
    "#### 24. Quanti valori unici ha la colonna 'Place' (rinominata al punto 20.)?"
   ]
  },
  {
   "cell_type": "code",
   "execution_count": 1,
   "metadata": {
    "id": "qSLNOQzjUQDE"
   },
   "outputs": [],
   "source": []
  },
  {
   "cell_type": "markdown",
   "metadata": {
    "id": "G6kmiDvQUm3e"
   },
   "source": [
    "#### 25. Seleziona solo le righe con valori della colonna 'NW_Bd' strettamente maggiori di 2.5 e strettamenet minori di 3.3.\n",
    "\n",
    "Quante righe otteniamo?"
   ]
  },
  {
   "cell_type": "code",
   "execution_count": 1,
   "metadata": {
    "id": "LqxbySXbUlb7"
   },
   "outputs": [],
   "source": []
  },
  {
   "cell_type": "code",
   "execution_count": 1,
   "metadata": {
    "id": "a84-yPnXIU61"
   },
   "outputs": [],
   "source": []
  },
  {
   "cell_type": "markdown",
   "metadata": {
    "id": "BP2cYimfVa7F"
   },
   "source": [
    "#### 26. Chi sono le prime 10 persone più ricche nel settore ('Industries') 'Technology' che vivono ('Place') in 'United States'?"
   ]
  },
  {
   "cell_type": "code",
   "execution_count": 1,
   "metadata": {
    "id": "SQ5JRR73VbWt"
   },
   "outputs": [],
   "source": []
  },
  {
   "cell_type": "markdown",
   "metadata": {
    "id": "UJSly78bVbiw"
   },
   "source": [
    "## 27. Quale 'Industries' conta più valori per gli italiani più ricchi in questo dataset?\n",
    "\n",
    "Puoi prima selezionare e salvare chi ha 'Place' di valore 'Italy', e poi contare i valori per colonna 'Indutries'."
   ]
  },
  {
   "cell_type": "code",
   "execution_count": 1,
   "metadata": {
    "id": "FUtIONKlVbwh"
   },
   "outputs": [],
   "source": []
  },
  {
   "cell_type": "code",
   "execution_count": 1,
   "metadata": {
    "id": "6_Swmq-3XYkP"
   },
   "outputs": [],
   "source": []
  },
  {
   "cell_type": "markdown",
   "metadata": {
    "id": "nxw3Szm1Xrdd"
   },
   "source": [
    "#### 28. Crea una nuova colonna chiamata 'NW_Be' che tramite `.apply()` e una `lambda` che converta da dollari (colonna 'NW_Bd') a euro e arrotondi a due decimali.\n",
    "\n",
    "Al momento 1 dollaro è 0.9363 euro.  \n",
    "Quindi 15 dollari sono 14.0445 euro (15 * 0.9363)."
   ]
  },
  {
   "cell_type": "code",
   "execution_count": 1,
   "metadata": {
    "id": "6tsORfL1U9f7"
   },
   "outputs": [],
   "source": []
  },
  {
   "cell_type": "markdown",
   "metadata": {
    "id": "cj-w8PyTZxhi"
   },
   "source": [
    "#### 29. Quali sono i valori di minimo e massimo della nuova colonna 'NW_Be'?"
   ]
  },
  {
   "cell_type": "code",
   "execution_count": 1,
   "metadata": {
    "id": "lcbwQ0zaZ704"
   },
   "outputs": [],
   "source": []
  },
  {
   "cell_type": "code",
   "execution_count": 1,
   "metadata": {
    "id": "mU23Wo8Fb5-R"
   },
   "outputs": [],
   "source": []
  },
  {
   "cell_type": "markdown",
   "metadata": {
    "id": "tzqtHduxZ8Hl"
   },
   "source": [
    "#### 30. Riordina il dataset dal più giovane al più vecchio (colonna 'Age'), e mostrane le prima 20 righe."
   ]
  },
  {
   "cell_type": "code",
   "execution_count": 1,
   "metadata": {
    "id": "K88DM9FoaUY_"
   },
   "outputs": [],
   "source": []
  },
  {
   "cell_type": "code",
   "execution_count": 1,
   "metadata": {
    "id": "6QD2YFGoaUfi"
   },
   "outputs": [],
   "source": []
  },
  {
   "cell_type": "markdown",
   "metadata": {
    "id": "kov-MfiuIU61"
   },
   "source": [
    "---\n",
    "\n",
    "## Rappresentazioni grafiche\n",
    "\n",
    "Attenzione: aggiungere sempre il titolo e le label x e y dov'è possibile o non automatizzato."
   ]
  },
  {
   "cell_type": "markdown",
   "metadata": {
    "id": "u8L1Z6lnIU61"
   },
   "source": [
    "#### 31. Importa la libreria `matplotlib.pyplot` con l'alias che abbiamo usato a lezione"
   ]
  },
  {
   "cell_type": "code",
   "execution_count": 1,
   "metadata": {
    "id": "Wv6dqaa7IU61"
   },
   "outputs": [],
   "source": []
  },
  {
   "cell_type": "markdown",
   "metadata": {
    "id": "U0juQaz4IU61"
   },
   "source": [
    "#### 32. Crea e visualizza un grafico a dispersione fra le variabili `Age` e `NW_Bd`\n",
    "Setta il paramentro `alpha` a 0.3, e il colore `c` come 'green'"
   ]
  },
  {
   "cell_type": "code",
   "execution_count": 1,
   "metadata": {
    "id": "HmBp4w3YIU62"
   },
   "outputs": [],
   "source": [
    "\n"
   ]
  },
  {
   "cell_type": "markdown",
   "metadata": {
    "id": "J2HCFqdBlVQH"
   },
   "source": [
    "#### 33. Crea un boxplot della distribuzione di new worth ($B) in Norvegia\n",
    "\n",
    "Prima seleziona per valori di 'Place' di valore 'Norway', quante righe abbiamo?"
   ]
  },
  {
   "cell_type": "code",
   "execution_count": 1,
   "metadata": {
    "id": "xnjl2YpbduA9"
   },
   "outputs": [],
   "source": []
  },
  {
   "cell_type": "code",
   "execution_count": 1,
   "metadata": {
    "id": "eg-bDvY4IU62"
   },
   "outputs": [],
   "source": []
  },
  {
   "cell_type": "markdown",
   "metadata": {
    "id": "F3PKXTDKIU63"
   },
   "source": [
    "#### 34. Crea e visualizza un grafico istogramma della variabile `Age`\n",
    "Setta il parametro `bins` uguale a 30"
   ]
  },
  {
   "cell_type": "code",
   "execution_count": 1,
   "metadata": {
    "id": "Agjh1sdZIU63"
   },
   "outputs": [],
   "source": []
  },
  {
   "cell_type": "code",
   "execution_count": 1,
   "metadata": {
    "id": "fbp3yc-7IU63"
   },
   "outputs": [],
   "source": []
  },
  {
   "cell_type": "markdown",
   "metadata": {
    "id": "8zs2_jiFIU63"
   },
   "source": [
    "#### 35. Importa la libreria `Seaborn` con l'alias con l'alias che abbiamo usato a lezione"
   ]
  },
  {
   "cell_type": "code",
   "execution_count": 1,
   "metadata": {
    "id": "q-YjkWaZIU63"
   },
   "outputs": [],
   "source": []
  },
  {
   "cell_type": "markdown",
   "metadata": {
    "id": "dlFTVRpCIU63"
   },
   "source": [
    "#### 36. Crea e visualizza nuovamente il grafico istogramma della variabile `age` con Seaborn\n",
    "\n",
    "Imposta lo stile `'darkgrid'`"
   ]
  },
  {
   "cell_type": "code",
   "execution_count": 1,
   "metadata": {
    "id": "v_q10Z5xIU63"
   },
   "outputs": [],
   "source": []
  },
  {
   "cell_type": "code",
   "execution_count": 1,
   "metadata": {
    "id": "IDvH4z3bIU63"
   },
   "outputs": [],
   "source": []
  },
  {
   "cell_type": "markdown",
   "metadata": {
    "id": "PYQ-gqgji014"
   },
   "source": [
    "#### 37. Crea uno scatterplot che mostri la correlazione fra 'Age' e 'NW_Bd' colorandola per settore ('Indutries').\n",
    "\n",
    "Sposta la legenda (`plt.legend()`) fuori dal grafico con l'argomento \n",
    "`bbox_to_anchor` uguale al valore `(1.05, 1)`\n",
    "\n"
   ]
  },
  {
   "cell_type": "code",
   "execution_count": 1,
   "metadata": {
    "id": "0U6p_Z4dIU65"
   },
   "outputs": [],
   "source": []
  },
  {
   "cell_type": "markdown",
   "metadata": {
    "id": "i55zzrHvi1iw"
   },
   "source": [
    "#### 38. Crea uno scatterplot che mostri solo per età sotto i 40 anni la correlazione fra 'Age' e 'NW_Bd' colorandola per luogo di origine ('Place').\n",
    "\n",
    "Attenzione a selezionare solo i dati con 'Age' strettamente minore a 40.\n",
    "\n",
    "Sposta la legenda (`plt.legend()`) fuori dal grafico con l'argomento \n",
    "`bbox_to_anchor` uguale al valore `(1.05, 1)`\n"
   ]
  },
  {
   "cell_type": "code",
   "execution_count": 1,
   "metadata": {
    "id": "UyyMsZjOgPby"
   },
   "outputs": [],
   "source": []
  },
  {
   "cell_type": "code",
   "execution_count": 1,
   "metadata": {
    "id": "6YgD3tsPhFFR"
   },
   "outputs": [],
   "source": []
  },
  {
   "cell_type": "code",
   "execution_count": 1,
   "metadata": {
    "id": "FJNON0ZigSyF"
   },
   "outputs": [],
   "source": []
  },
  {
   "cell_type": "code",
   "execution_count": 1,
   "metadata": {
    "id": "TjsPrhwmiZWg"
   },
   "outputs": [],
   "source": []
  },
  {
   "cell_type": "markdown",
   "metadata": {
    "id": "rn1INHCGiXYp"
   },
   "source": [
    "#### 39. Crea un istogramma della New Worth per valori sopra ai 9 miliardi di dollari.\n",
    "\n",
    "Salva prima le selezione in un nuovo DataFrame, quanti righe rimangolo?  \n",
    "Crea l'istogramma."
   ]
  },
  {
   "cell_type": "code",
   "execution_count": 1,
   "metadata": {
    "id": "VJZ7xKFtgS05"
   },
   "outputs": [],
   "source": []
  },
  {
   "cell_type": "code",
   "execution_count": 1,
   "metadata": {
    "id": "t7mh9MmwjM1f"
   },
   "outputs": [],
   "source": []
  },
  {
   "cell_type": "code",
   "execution_count": 1,
   "metadata": {
    "id": "YXtn51nVhngo"
   },
   "outputs": [],
   "source": []
  },
  {
   "cell_type": "code",
   "execution_count": 1,
   "metadata": {
    "id": "TQkDFMCBg2LV"
   },
   "outputs": [],
   "source": []
  },
  {
   "cell_type": "markdown",
   "metadata": {
    "id": "viME9iJuIU65"
   },
   "source": [
    "#### 40. Bonus: argomenta altri prossibili scenari da esplorare o/e visualizza altri grafici commentati"
   ]
  },
  {
   "cell_type": "code",
   "execution_count": 1,
   "metadata": {
    "id": "JhpmyN9Ul512"
   },
   "outputs": [],
   "source": []
  },
  {
   "cell_type": "code",
   "execution_count": 1,
   "metadata": {
    "id": "yvkzUGlVVSqi"
   },
   "outputs": [],
   "source": []
  },
  {
   "cell_type": "code",
   "execution_count": 1,
   "metadata": {
    "id": "eXoigQ0wVStQ"
   },
   "outputs": [],
   "source": []
  },
  {
   "cell_type": "code",
   "execution_count": 1,
   "metadata": {
    "id": "rjsvj1gQVSwI"
   },
   "outputs": [],
   "source": []
  },
  {
   "cell_type": "code",
   "execution_count": 1,
   "metadata": {
    "id": "l1kV_lOJVSyt"
   },
   "outputs": [],
   "source": []
  },
  {
   "cell_type": "code",
   "execution_count": 1,
   "metadata": {
    "id": "vdGzmp6LVS1i"
   },
   "outputs": [],
   "source": []
  },
  {
   "cell_type": "code",
   "execution_count": 1,
   "metadata": {
    "id": "ygkSlj6JVS4k"
   },
   "outputs": [],
   "source": []
  }
 ],
 "metadata": {
  "colab": {
   "provenance": []
  },
  "kernelspec": {
   "display_name": "anaconda-2022.05-py39",
   "language": "python",
   "name": "conda-env-anaconda-2022.05-py39-py"
  },
  "language_info": {
   "codemirror_mode": {
    "name": "ipython",
    "version": 3
   },
   "file_extension": ".py",
   "mimetype": "text/x-python",
   "name": "python",
   "nbconvert_exporter": "python",
   "pygments_lexer": "ipython3",
   "version": "3.9.12"
  }
 },
 "nbformat": 4,
 "nbformat_minor": 4
}
